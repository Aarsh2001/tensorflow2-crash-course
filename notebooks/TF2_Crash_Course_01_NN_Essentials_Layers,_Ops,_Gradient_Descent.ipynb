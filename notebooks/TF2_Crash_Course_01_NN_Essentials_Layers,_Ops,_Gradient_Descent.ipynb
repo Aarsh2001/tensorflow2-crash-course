{
  "nbformat": 4,
  "nbformat_minor": 0,
  "metadata": {
    "colab": {
      "name": "TF2 Crash Course 01: NN Essentials - Layers, Ops, Gradient Descent.ipynb",
      "provenance": [],
      "collapsed_sections": [],
      "machine_shape": "hm"
    },
    "kernelspec": {
      "name": "python3",
      "display_name": "Python 3"
    },
    "accelerator": "GPU"
  },
  "cells": [
    {
      "cell_type": "markdown",
      "metadata": {
        "id": "kqaMA85vFQ9D"
      },
      "source": [
        "# Neural Network Layers and Ops\n",
        "\n",
        "In this session we will focus on understanding various tensor operations, NN layers, models and loss functions"
      ]
    },
    {
      "cell_type": "markdown",
      "metadata": {
        "id": "JiN487VzFrue"
      },
      "source": [
        "# Import Dependencies"
      ]
    },
    {
      "cell_type": "code",
      "metadata": {
        "id": "fcd9jenuFuIo"
      },
      "source": [
        "import matplotlib.pyplot as plt\n",
        "import pandas as pd\n",
        "import numpy as np\n",
        "import sklearn\n",
        "import tensorflow as tf"
      ],
      "execution_count": 2,
      "outputs": []
    },
    {
      "cell_type": "code",
      "metadata": {
        "colab": {
          "base_uri": "https://localhost:8080/"
        },
        "id": "RrtzzfS4BmTR",
        "outputId": "b29085a0-7e7e-4d93-d110-529998c9e21e"
      },
      "source": [
        "!nvidia-smi"
      ],
      "execution_count": 3,
      "outputs": [
        {
          "output_type": "stream",
          "text": [
            "Sat Feb 13 01:34:34 2021       \n",
            "+-----------------------------------------------------------------------------+\n",
            "| NVIDIA-SMI 460.39       Driver Version: 460.32.03    CUDA Version: 11.2     |\n",
            "|-------------------------------+----------------------+----------------------+\n",
            "| GPU  Name        Persistence-M| Bus-Id        Disp.A | Volatile Uncorr. ECC |\n",
            "| Fan  Temp  Perf  Pwr:Usage/Cap|         Memory-Usage | GPU-Util  Compute M. |\n",
            "|                               |                      |               MIG M. |\n",
            "|===============================+======================+======================|\n",
            "|   0  Tesla V100-SXM2...  Off  | 00000000:00:04.0 Off |                    0 |\n",
            "| N/A   35C    P0    24W / 300W |      0MiB / 16160MiB |      0%      Default |\n",
            "|                               |                      |                  N/A |\n",
            "+-------------------------------+----------------------+----------------------+\n",
            "                                                                               \n",
            "+-----------------------------------------------------------------------------+\n",
            "| Processes:                                                                  |\n",
            "|  GPU   GI   CI        PID   Type   Process name                  GPU Memory |\n",
            "|        ID   ID                                                   Usage      |\n",
            "|=============================================================================|\n",
            "|  No running processes found                                                 |\n",
            "+-----------------------------------------------------------------------------+\n"
          ],
          "name": "stdout"
        }
      ]
    },
    {
      "cell_type": "code",
      "metadata": {
        "id": "XSxoE154F25s",
        "colab": {
          "base_uri": "https://localhost:8080/"
        },
        "outputId": "14633355-f96f-4b55-8169-a6d33632966d"
      },
      "source": [
        "print(tf.__version__)"
      ],
      "execution_count": 4,
      "outputs": [
        {
          "output_type": "stream",
          "text": [
            "2.4.1\n"
          ],
          "name": "stdout"
        }
      ]
    },
    {
      "cell_type": "code",
      "metadata": {
        "id": "HUUC7dHKF5Uk",
        "colab": {
          "base_uri": "https://localhost:8080/"
        },
        "outputId": "09ad2b93-7555-4efc-fa30-2575e278cbba"
      },
      "source": [
        "print(sklearn.__version__)"
      ],
      "execution_count": 5,
      "outputs": [
        {
          "output_type": "stream",
          "text": [
            "0.22.2.post1\n"
          ],
          "name": "stdout"
        }
      ]
    },
    {
      "cell_type": "markdown",
      "metadata": {
        "id": "SEz5MykHF-vM"
      },
      "source": [
        "# 1. Tensors & Tensor Ops"
      ]
    },
    {
      "cell_type": "markdown",
      "metadata": {
        "id": "5IMLwmlMGU6T"
      },
      "source": [
        "## Constants"
      ]
    },
    {
      "cell_type": "code",
      "metadata": {
        "id": "00g8pgcdGEr5",
        "colab": {
          "base_uri": "https://localhost:8080/"
        },
        "outputId": "ee63a552-8662-42a5-aafb-91fc63048e98"
      },
      "source": [
        "t = tf.constant([[1., 2., 3.], \n",
        "                 [4., 5., 6.]])\n",
        "t"
      ],
      "execution_count": 6,
      "outputs": [
        {
          "output_type": "execute_result",
          "data": {
            "text/plain": [
              "<tf.Tensor: shape=(2, 3), dtype=float32, numpy=\n",
              "array([[1., 2., 3.],\n",
              "       [4., 5., 6.]], dtype=float32)>"
            ]
          },
          "metadata": {
            "tags": []
          },
          "execution_count": 6
        }
      ]
    },
    {
      "cell_type": "code",
      "metadata": {
        "id": "siI6vU6cGK_o",
        "colab": {
          "base_uri": "https://localhost:8080/"
        },
        "outputId": "7d07c4a5-bfa0-4d04-d469-42146178be4b"
      },
      "source": [
        "t.dtype"
      ],
      "execution_count": null,
      "outputs": [
        {
          "output_type": "execute_result",
          "data": {
            "text/plain": [
              "tf.float32"
            ]
          },
          "metadata": {
            "tags": []
          },
          "execution_count": 5
        }
      ]
    },
    {
      "cell_type": "code",
      "metadata": {
        "id": "WF2Ne61gG5KC",
        "colab": {
          "base_uri": "https://localhost:8080/"
        },
        "outputId": "757e8334-6a41-419b-e135-2f5e305fb9f6"
      },
      "source": [
        "t.shape"
      ],
      "execution_count": null,
      "outputs": [
        {
          "output_type": "execute_result",
          "data": {
            "text/plain": [
              "TensorShape([2, 3])"
            ]
          },
          "metadata": {
            "tags": []
          },
          "execution_count": 6
        }
      ]
    },
    {
      "cell_type": "markdown",
      "metadata": {
        "id": "xpoefe8vHD76"
      },
      "source": [
        "## Variables"
      ]
    },
    {
      "cell_type": "code",
      "metadata": {
        "id": "lym63HTTHGqw",
        "colab": {
          "base_uri": "https://localhost:8080/"
        },
        "outputId": "6f961a2f-f91a-460e-bea3-1217e1e26d99"
      },
      "source": [
        "t = tf.Variable([[1., 2., 3.], [4., 5., 6.]])\n",
        "t"
      ],
      "execution_count": null,
      "outputs": [
        {
          "output_type": "execute_result",
          "data": {
            "text/plain": [
              "<tf.Variable 'Variable:0' shape=(2, 3) dtype=float32, numpy=\n",
              "array([[1., 2., 3.],\n",
              "       [4., 5., 6.]], dtype=float32)>"
            ]
          },
          "metadata": {
            "tags": []
          },
          "execution_count": 7
        }
      ]
    },
    {
      "cell_type": "code",
      "metadata": {
        "id": "AErUzrRIHgQd",
        "colab": {
          "base_uri": "https://localhost:8080/"
        },
        "outputId": "d22a2381-9c0b-4e9e-8a15-70a4133ab9dd"
      },
      "source": [
        "t.dtype, t.shape"
      ],
      "execution_count": null,
      "outputs": [
        {
          "output_type": "execute_result",
          "data": {
            "text/plain": [
              "(tf.float32, TensorShape([2, 3]))"
            ]
          },
          "metadata": {
            "tags": []
          },
          "execution_count": 8
        }
      ]
    },
    {
      "cell_type": "code",
      "metadata": {
        "id": "xSs7VWJaHj_M",
        "colab": {
          "base_uri": "https://localhost:8080/"
        },
        "outputId": "4416300a-8cdf-4cf7-d05a-149fad03a121"
      },
      "source": [
        "t.numpy()"
      ],
      "execution_count": null,
      "outputs": [
        {
          "output_type": "execute_result",
          "data": {
            "text/plain": [
              "array([[1., 2., 3.],\n",
              "       [4., 5., 6.]], dtype=float32)"
            ]
          },
          "metadata": {
            "tags": []
          },
          "execution_count": 9
        }
      ]
    },
    {
      "cell_type": "code",
      "metadata": {
        "id": "Xe-0k59nHnK2",
        "colab": {
          "base_uri": "https://localhost:8080/"
        },
        "outputId": "8d407fa0-475d-48cb-b7b7-200885dd7a88"
      },
      "source": [
        "t[0,0].assign(99)\n",
        "t"
      ],
      "execution_count": null,
      "outputs": [
        {
          "output_type": "execute_result",
          "data": {
            "text/plain": [
              "<tf.Variable 'Variable:0' shape=(2, 3) dtype=float32, numpy=\n",
              "array([[99.,  2.,  3.],\n",
              "       [ 4.,  5.,  6.]], dtype=float32)>"
            ]
          },
          "metadata": {
            "tags": []
          },
          "execution_count": 10
        }
      ]
    },
    {
      "cell_type": "code",
      "metadata": {
        "id": "1WeX9brAHtEc",
        "colab": {
          "base_uri": "https://localhost:8080/"
        },
        "outputId": "c54d36fd-5b54-48e3-88c6-90e7e303f40f"
      },
      "source": [
        "t[1].assign([10, 20, 30])\n",
        "t"
      ],
      "execution_count": null,
      "outputs": [
        {
          "output_type": "execute_result",
          "data": {
            "text/plain": [
              "<tf.Variable 'Variable:0' shape=(2, 3) dtype=float32, numpy=\n",
              "array([[99.,  2.,  3.],\n",
              "       [10., 20., 30.]], dtype=float32)>"
            ]
          },
          "metadata": {
            "tags": []
          },
          "execution_count": 11
        }
      ]
    },
    {
      "cell_type": "code",
      "metadata": {
        "id": "5jpSgDH0H3ie",
        "colab": {
          "base_uri": "https://localhost:8080/",
          "height": 166
        },
        "outputId": "873efa79-455f-4186-b127-74be9ecf1200"
      },
      "source": [
        "t[1] = [10, 20, 30]"
      ],
      "execution_count": null,
      "outputs": [
        {
          "output_type": "error",
          "ename": "TypeError",
          "evalue": "ignored",
          "traceback": [
            "\u001b[0;31m---------------------------------------------------------------------------\u001b[0m",
            "\u001b[0;31mTypeError\u001b[0m                                 Traceback (most recent call last)",
            "\u001b[0;32m<ipython-input-12-5accefa581f2>\u001b[0m in \u001b[0;36m<module>\u001b[0;34m()\u001b[0m\n\u001b[0;32m----> 1\u001b[0;31m \u001b[0mt\u001b[0m\u001b[0;34m[\u001b[0m\u001b[0;36m1\u001b[0m\u001b[0;34m]\u001b[0m \u001b[0;34m=\u001b[0m \u001b[0;34m[\u001b[0m\u001b[0;36m10\u001b[0m\u001b[0;34m,\u001b[0m \u001b[0;36m20\u001b[0m\u001b[0;34m,\u001b[0m \u001b[0;36m30\u001b[0m\u001b[0;34m]\u001b[0m\u001b[0;34m\u001b[0m\u001b[0;34m\u001b[0m\u001b[0m\n\u001b[0m",
            "\u001b[0;31mTypeError\u001b[0m: 'ResourceVariable' object does not support item assignment"
          ]
        }
      ]
    },
    {
      "cell_type": "code",
      "metadata": {
        "id": "8Rw18RXpH8iY",
        "colab": {
          "base_uri": "https://localhost:8080/"
        },
        "outputId": "714eb14f-5f0c-4171-f73b-7da3c5121ab0"
      },
      "source": [
        "t.scatter_nd_update(indices=[[0, 0], [1, 1]],\n",
        "                    updates=[33., 44.])"
      ],
      "execution_count": null,
      "outputs": [
        {
          "output_type": "execute_result",
          "data": {
            "text/plain": [
              "<tf.Variable 'UnreadVariable' shape=(2, 3) dtype=float32, numpy=\n",
              "array([[33.,  2.,  3.],\n",
              "       [10., 44., 30.]], dtype=float32)>"
            ]
          },
          "metadata": {
            "tags": []
          },
          "execution_count": 13
        }
      ]
    },
    {
      "cell_type": "markdown",
      "metadata": {
        "id": "Jy6hyYXWJWbs"
      },
      "source": [
        "## Indexing"
      ]
    },
    {
      "cell_type": "code",
      "metadata": {
        "id": "qr4UZheNJo4Z",
        "colab": {
          "base_uri": "https://localhost:8080/"
        },
        "outputId": "75300d48-b6fe-4ba2-e46f-802e18f4c27d"
      },
      "source": [
        "t[1:, :]"
      ],
      "execution_count": null,
      "outputs": [
        {
          "output_type": "execute_result",
          "data": {
            "text/plain": [
              "<tf.Tensor: shape=(1, 3), dtype=float32, numpy=array([[10., 44., 30.]], dtype=float32)>"
            ]
          },
          "metadata": {
            "tags": []
          },
          "execution_count": 14
        }
      ]
    },
    {
      "cell_type": "code",
      "metadata": {
        "id": "SUL2iyHCJt4w",
        "colab": {
          "base_uri": "https://localhost:8080/"
        },
        "outputId": "266c87bc-62e6-4a47-f8a2-3fd552bf673c"
      },
      "source": [
        "t[1:, ...]"
      ],
      "execution_count": null,
      "outputs": [
        {
          "output_type": "execute_result",
          "data": {
            "text/plain": [
              "<tf.Tensor: shape=(1, 3), dtype=float32, numpy=array([[10., 44., 30.]], dtype=float32)>"
            ]
          },
          "metadata": {
            "tags": []
          },
          "execution_count": 15
        }
      ]
    },
    {
      "cell_type": "code",
      "metadata": {
        "id": "U0qlIxzGI6iv",
        "colab": {
          "base_uri": "https://localhost:8080/"
        },
        "outputId": "d480704d-dd18-4eb5-a979-0a7238d2f8a3"
      },
      "source": [
        "t[:, 1:]"
      ],
      "execution_count": null,
      "outputs": [
        {
          "output_type": "execute_result",
          "data": {
            "text/plain": [
              "<tf.Tensor: shape=(2, 2), dtype=float32, numpy=\n",
              "array([[ 2.,  3.],\n",
              "       [44., 30.]], dtype=float32)>"
            ]
          },
          "metadata": {
            "tags": []
          },
          "execution_count": 16
        }
      ]
    },
    {
      "cell_type": "code",
      "metadata": {
        "id": "n80qXRxeJZLg",
        "colab": {
          "base_uri": "https://localhost:8080/"
        },
        "outputId": "ca5e8317-0689-4224-af63-956c9e007011"
      },
      "source": [
        "t[..., 1:]"
      ],
      "execution_count": null,
      "outputs": [
        {
          "output_type": "execute_result",
          "data": {
            "text/plain": [
              "<tf.Tensor: shape=(2, 2), dtype=float32, numpy=\n",
              "array([[ 2.,  3.],\n",
              "       [44., 30.]], dtype=float32)>"
            ]
          },
          "metadata": {
            "tags": []
          },
          "execution_count": 17
        }
      ]
    },
    {
      "cell_type": "markdown",
      "metadata": {
        "id": "s2xWdHmOKM01"
      },
      "source": [
        "## Basic Ops"
      ]
    },
    {
      "cell_type": "code",
      "metadata": {
        "id": "HYnK3pr-KOUK",
        "colab": {
          "base_uri": "https://localhost:8080/"
        },
        "outputId": "6b7afce2-1137-4f1d-9884-3378bf1f9f38"
      },
      "source": [
        "t = t + 10\n",
        "t"
      ],
      "execution_count": null,
      "outputs": [
        {
          "output_type": "execute_result",
          "data": {
            "text/plain": [
              "<tf.Tensor: shape=(2, 3), dtype=float32, numpy=\n",
              "array([[43., 12., 13.],\n",
              "       [20., 54., 40.]], dtype=float32)>"
            ]
          },
          "metadata": {
            "tags": []
          },
          "execution_count": 18
        }
      ]
    },
    {
      "cell_type": "code",
      "metadata": {
        "id": "lT423HOYKPvC",
        "colab": {
          "base_uri": "https://localhost:8080/"
        },
        "outputId": "53666247-5385-4a1c-ce93-70bd9e24c921"
      },
      "source": [
        "t = t + tf.Variable([[1, 2, 3]], dtype='float32')\n",
        "t"
      ],
      "execution_count": null,
      "outputs": [
        {
          "output_type": "execute_result",
          "data": {
            "text/plain": [
              "<tf.Tensor: shape=(2, 3), dtype=float32, numpy=\n",
              "array([[44., 14., 16.],\n",
              "       [21., 56., 43.]], dtype=float32)>"
            ]
          },
          "metadata": {
            "tags": []
          },
          "execution_count": 19
        }
      ]
    },
    {
      "cell_type": "code",
      "metadata": {
        "id": "ojyw5MvKKbSE",
        "colab": {
          "base_uri": "https://localhost:8080/"
        },
        "outputId": "db64a35a-d313-42f5-e893-2bf324157fd2"
      },
      "source": [
        "tf.square(t)"
      ],
      "execution_count": null,
      "outputs": [
        {
          "output_type": "execute_result",
          "data": {
            "text/plain": [
              "<tf.Tensor: shape=(2, 3), dtype=float32, numpy=\n",
              "array([[1936.,  196.,  256.],\n",
              "       [ 441., 3136., 1849.]], dtype=float32)>"
            ]
          },
          "metadata": {
            "tags": []
          },
          "execution_count": 20
        }
      ]
    },
    {
      "cell_type": "code",
      "metadata": {
        "id": "3RSMi7p6K1Db",
        "colab": {
          "base_uri": "https://localhost:8080/"
        },
        "outputId": "40a47ec8-b4c4-4e30-8c35-bc92c19492ea"
      },
      "source": [
        "np.square(t)"
      ],
      "execution_count": null,
      "outputs": [
        {
          "output_type": "execute_result",
          "data": {
            "text/plain": [
              "array([[1936.,  196.,  256.],\n",
              "       [ 441., 3136., 1849.]], dtype=float32)"
            ]
          },
          "metadata": {
            "tags": []
          },
          "execution_count": 21
        }
      ]
    },
    {
      "cell_type": "code",
      "metadata": {
        "id": "r2YYpOpRKk2Y",
        "colab": {
          "base_uri": "https://localhost:8080/"
        },
        "outputId": "0d6c3b4f-c812-4d8e-db68-b7e7e71a75c2"
      },
      "source": [
        "t @ tf.transpose(t)"
      ],
      "execution_count": null,
      "outputs": [
        {
          "output_type": "execute_result",
          "data": {
            "text/plain": [
              "<tf.Tensor: shape=(2, 2), dtype=float32, numpy=\n",
              "array([[2388., 2396.],\n",
              "       [2396., 5426.]], dtype=float32)>"
            ]
          },
          "metadata": {
            "tags": []
          },
          "execution_count": 22
        }
      ]
    },
    {
      "cell_type": "markdown",
      "metadata": {
        "id": "195zwlS8Ma85"
      },
      "source": [
        "## Ragged Tensors"
      ]
    },
    {
      "cell_type": "code",
      "metadata": {
        "id": "QANNKuoLK2nN",
        "colab": {
          "base_uri": "https://localhost:8080/"
        },
        "outputId": "ce2c95bc-8291-40fd-b650-e9b6f281c7e4"
      },
      "source": [
        "r = tf.ragged.constant([[1, 2], \n",
        "                        [3, 4, 5], \n",
        "                        [], \n",
        "                        [6]])\n",
        "r"
      ],
      "execution_count": null,
      "outputs": [
        {
          "output_type": "execute_result",
          "data": {
            "text/plain": [
              "<tf.RaggedTensor [[1, 2], [3, 4, 5], [], [6]]>"
            ]
          },
          "metadata": {
            "tags": []
          },
          "execution_count": 23
        }
      ]
    },
    {
      "cell_type": "code",
      "metadata": {
        "id": "V8N-kDxxLt0H",
        "colab": {
          "base_uri": "https://localhost:8080/"
        },
        "outputId": "157689c9-66c1-4ec8-8427-5cf656c8375b"
      },
      "source": [
        "r[1]"
      ],
      "execution_count": null,
      "outputs": [
        {
          "output_type": "execute_result",
          "data": {
            "text/plain": [
              "<tf.Tensor: shape=(3,), dtype=int32, numpy=array([3, 4, 5], dtype=int32)>"
            ]
          },
          "metadata": {
            "tags": []
          },
          "execution_count": 24
        }
      ]
    },
    {
      "cell_type": "code",
      "metadata": {
        "id": "6fIRzVqoL1fp",
        "colab": {
          "base_uri": "https://localhost:8080/"
        },
        "outputId": "6da63158-be9a-4a73-bafa-351f4225a1cd"
      },
      "source": [
        "r2 = tf.ragged.constant([[11, 22], [], [33]])\n",
        "tf.concat([r, r2], axis=0)"
      ],
      "execution_count": null,
      "outputs": [
        {
          "output_type": "execute_result",
          "data": {
            "text/plain": [
              "<tf.RaggedTensor [[1, 2], [3, 4, 5], [], [6], [11, 22], [], [33]]>"
            ]
          },
          "metadata": {
            "tags": []
          },
          "execution_count": 25
        }
      ]
    },
    {
      "cell_type": "code",
      "metadata": {
        "id": "zhqZHJRML7SQ",
        "colab": {
          "base_uri": "https://localhost:8080/"
        },
        "outputId": "71a2bb0b-8ed3-439d-aef7-97d7310c8e4a"
      },
      "source": [
        "r3 = tf.ragged.constant([[11, 22, 33], \n",
        "                         [44], \n",
        "                         [], \n",
        "                         [55, 66]])\n",
        "tf.concat([r, r3], axis=1)"
      ],
      "execution_count": null,
      "outputs": [
        {
          "output_type": "execute_result",
          "data": {
            "text/plain": [
              "<tf.RaggedTensor [[1, 2, 11, 22, 33], [3, 4, 5, 44], [], [6, 55, 66]]>"
            ]
          },
          "metadata": {
            "tags": []
          },
          "execution_count": 26
        }
      ]
    },
    {
      "cell_type": "markdown",
      "metadata": {
        "id": "OY9wjqanMD0X"
      },
      "source": [
        "## Sparse Tensors"
      ]
    },
    {
      "cell_type": "code",
      "metadata": {
        "id": "QcC7On8zMe1j",
        "colab": {
          "base_uri": "https://localhost:8080/"
        },
        "outputId": "35905de0-32b2-4dd5-abc9-21f1287aae88"
      },
      "source": [
        "t = tf.SparseTensor(indices=[[0, 0], [1, 1], [2, 2]],\n",
        "                    values=[1., 2., 3.],\n",
        "                    dense_shape=[3, 3])\n",
        "t"
      ],
      "execution_count": null,
      "outputs": [
        {
          "output_type": "execute_result",
          "data": {
            "text/plain": [
              "<tensorflow.python.framework.sparse_tensor.SparseTensor at 0x7fc9d85cd978>"
            ]
          },
          "metadata": {
            "tags": []
          },
          "execution_count": 27
        }
      ]
    },
    {
      "cell_type": "code",
      "metadata": {
        "id": "qTC-1FzpMqLU",
        "colab": {
          "base_uri": "https://localhost:8080/"
        },
        "outputId": "11ae26a5-b78a-489c-8d92-a71b8559700e"
      },
      "source": [
        "tf.sparse.to_dense(t)"
      ],
      "execution_count": null,
      "outputs": [
        {
          "output_type": "execute_result",
          "data": {
            "text/plain": [
              "<tf.Tensor: shape=(3, 3), dtype=float32, numpy=\n",
              "array([[1., 0., 0.],\n",
              "       [0., 2., 0.],\n",
              "       [0., 0., 3.]], dtype=float32)>"
            ]
          },
          "metadata": {
            "tags": []
          },
          "execution_count": 28
        }
      ]
    },
    {
      "cell_type": "code",
      "metadata": {
        "id": "711otJT7Mszc",
        "colab": {
          "base_uri": "https://localhost:8080/"
        },
        "outputId": "610e4861-31ab-4109-d6a7-27f37b73cc35"
      },
      "source": [
        "t2 = t * 5\n",
        "tf.sparse.to_dense(t2)"
      ],
      "execution_count": null,
      "outputs": [
        {
          "output_type": "execute_result",
          "data": {
            "text/plain": [
              "<tf.Tensor: shape=(3, 3), dtype=float32, numpy=\n",
              "array([[ 5.,  0.,  0.],\n",
              "       [ 0., 10.,  0.],\n",
              "       [ 0.,  0., 15.]], dtype=float32)>"
            ]
          },
          "metadata": {
            "tags": []
          },
          "execution_count": 29
        }
      ]
    },
    {
      "cell_type": "markdown",
      "metadata": {
        "id": "2iD9cjbnNdVw"
      },
      "source": [
        "# 2. Basic Regression with Simple NN + Custom Loss Function"
      ]
    },
    {
      "cell_type": "code",
      "metadata": {
        "id": "BpCgoQ5sOHrE",
        "colab": {
          "base_uri": "https://localhost:8080/"
        },
        "outputId": "936dcc1c-afa0-4fb4-a50e-ce5251ab296c"
      },
      "source": [
        "from sklearn.datasets import fetch_california_housing\n",
        "from sklearn.model_selection import train_test_split\n",
        "from sklearn.preprocessing import StandardScaler\n",
        "\n",
        "housing = fetch_california_housing()\n",
        "\n",
        "housing"
      ],
      "execution_count": 10,
      "outputs": [
        {
          "output_type": "stream",
          "text": [
            "Downloading Cal. housing from https://ndownloader.figshare.com/files/5976036 to /root/scikit_learn_data\n"
          ],
          "name": "stderr"
        },
        {
          "output_type": "execute_result",
          "data": {
            "text/plain": [
              "{'DESCR': '.. _california_housing_dataset:\\n\\nCalifornia Housing dataset\\n--------------------------\\n\\n**Data Set Characteristics:**\\n\\n    :Number of Instances: 20640\\n\\n    :Number of Attributes: 8 numeric, predictive attributes and the target\\n\\n    :Attribute Information:\\n        - MedInc        median income in block\\n        - HouseAge      median house age in block\\n        - AveRooms      average number of rooms\\n        - AveBedrms     average number of bedrooms\\n        - Population    block population\\n        - AveOccup      average house occupancy\\n        - Latitude      house block latitude\\n        - Longitude     house block longitude\\n\\n    :Missing Attribute Values: None\\n\\nThis dataset was obtained from the StatLib repository.\\nhttp://lib.stat.cmu.edu/datasets/\\n\\nThe target variable is the median house value for California districts.\\n\\nThis dataset was derived from the 1990 U.S. census, using one row per census\\nblock group. A block group is the smallest geographical unit for which the U.S.\\nCensus Bureau publishes sample data (a block group typically has a population\\nof 600 to 3,000 people).\\n\\nIt can be downloaded/loaded using the\\n:func:`sklearn.datasets.fetch_california_housing` function.\\n\\n.. topic:: References\\n\\n    - Pace, R. Kelley and Ronald Barry, Sparse Spatial Autoregressions,\\n      Statistics and Probability Letters, 33 (1997) 291-297\\n',\n",
              " 'data': array([[   8.3252    ,   41.        ,    6.98412698, ...,    2.55555556,\n",
              "           37.88      , -122.23      ],\n",
              "        [   8.3014    ,   21.        ,    6.23813708, ...,    2.10984183,\n",
              "           37.86      , -122.22      ],\n",
              "        [   7.2574    ,   52.        ,    8.28813559, ...,    2.80225989,\n",
              "           37.85      , -122.24      ],\n",
              "        ...,\n",
              "        [   1.7       ,   17.        ,    5.20554273, ...,    2.3256351 ,\n",
              "           39.43      , -121.22      ],\n",
              "        [   1.8672    ,   18.        ,    5.32951289, ...,    2.12320917,\n",
              "           39.43      , -121.32      ],\n",
              "        [   2.3886    ,   16.        ,    5.25471698, ...,    2.61698113,\n",
              "           39.37      , -121.24      ]]),\n",
              " 'feature_names': ['MedInc',\n",
              "  'HouseAge',\n",
              "  'AveRooms',\n",
              "  'AveBedrms',\n",
              "  'Population',\n",
              "  'AveOccup',\n",
              "  'Latitude',\n",
              "  'Longitude'],\n",
              " 'target': array([4.526, 3.585, 3.521, ..., 0.923, 0.847, 0.894])}"
            ]
          },
          "metadata": {
            "tags": []
          },
          "execution_count": 10
        }
      ]
    },
    {
      "cell_type": "code",
      "metadata": {
        "id": "MopR_4g2OT8H",
        "colab": {
          "base_uri": "https://localhost:8080/"
        },
        "outputId": "7f01e74b-d29f-4863-da8c-17e7fba6d430"
      },
      "source": [
        "print(housing['DESCR'])"
      ],
      "execution_count": null,
      "outputs": [
        {
          "output_type": "stream",
          "text": [
            ".. _california_housing_dataset:\n",
            "\n",
            "California Housing dataset\n",
            "--------------------------\n",
            "\n",
            "**Data Set Characteristics:**\n",
            "\n",
            "    :Number of Instances: 20640\n",
            "\n",
            "    :Number of Attributes: 8 numeric, predictive attributes and the target\n",
            "\n",
            "    :Attribute Information:\n",
            "        - MedInc        median income in block\n",
            "        - HouseAge      median house age in block\n",
            "        - AveRooms      average number of rooms\n",
            "        - AveBedrms     average number of bedrooms\n",
            "        - Population    block population\n",
            "        - AveOccup      average house occupancy\n",
            "        - Latitude      house block latitude\n",
            "        - Longitude     house block longitude\n",
            "\n",
            "    :Missing Attribute Values: None\n",
            "\n",
            "This dataset was obtained from the StatLib repository.\n",
            "http://lib.stat.cmu.edu/datasets/\n",
            "\n",
            "The target variable is the median house value for California districts.\n",
            "\n",
            "This dataset was derived from the 1990 U.S. census, using one row per census\n",
            "block group. A block group is the smallest geographical unit for which the U.S.\n",
            "Census Bureau publishes sample data (a block group typically has a population\n",
            "of 600 to 3,000 people).\n",
            "\n",
            "It can be downloaded/loaded using the\n",
            ":func:`sklearn.datasets.fetch_california_housing` function.\n",
            "\n",
            ".. topic:: References\n",
            "\n",
            "    - Pace, R. Kelley and Ronald Barry, Sparse Spatial Autoregressions,\n",
            "      Statistics and Probability Letters, 33 (1997) 291-297\n",
            "\n"
          ],
          "name": "stdout"
        }
      ]
    },
    {
      "cell_type": "code",
      "metadata": {
        "id": "IY3FOBA3ObXZ",
        "colab": {
          "base_uri": "https://localhost:8080/",
          "height": 195
        },
        "outputId": "522c1153-da95-4f3f-88a9-f6ff88101900"
      },
      "source": [
        "X = pd.DataFrame(housing['data'], columns=housing['feature_names'])\n",
        "X.head()"
      ],
      "execution_count": 12,
      "outputs": [
        {
          "output_type": "execute_result",
          "data": {
            "text/html": [
              "<div>\n",
              "<style scoped>\n",
              "    .dataframe tbody tr th:only-of-type {\n",
              "        vertical-align: middle;\n",
              "    }\n",
              "\n",
              "    .dataframe tbody tr th {\n",
              "        vertical-align: top;\n",
              "    }\n",
              "\n",
              "    .dataframe thead th {\n",
              "        text-align: right;\n",
              "    }\n",
              "</style>\n",
              "<table border=\"1\" class=\"dataframe\">\n",
              "  <thead>\n",
              "    <tr style=\"text-align: right;\">\n",
              "      <th></th>\n",
              "      <th>MedInc</th>\n",
              "      <th>HouseAge</th>\n",
              "      <th>AveRooms</th>\n",
              "      <th>AveBedrms</th>\n",
              "      <th>Population</th>\n",
              "      <th>AveOccup</th>\n",
              "      <th>Latitude</th>\n",
              "      <th>Longitude</th>\n",
              "    </tr>\n",
              "  </thead>\n",
              "  <tbody>\n",
              "    <tr>\n",
              "      <th>0</th>\n",
              "      <td>8.3252</td>\n",
              "      <td>41.0</td>\n",
              "      <td>6.984127</td>\n",
              "      <td>1.023810</td>\n",
              "      <td>322.0</td>\n",
              "      <td>2.555556</td>\n",
              "      <td>37.88</td>\n",
              "      <td>-122.23</td>\n",
              "    </tr>\n",
              "    <tr>\n",
              "      <th>1</th>\n",
              "      <td>8.3014</td>\n",
              "      <td>21.0</td>\n",
              "      <td>6.238137</td>\n",
              "      <td>0.971880</td>\n",
              "      <td>2401.0</td>\n",
              "      <td>2.109842</td>\n",
              "      <td>37.86</td>\n",
              "      <td>-122.22</td>\n",
              "    </tr>\n",
              "    <tr>\n",
              "      <th>2</th>\n",
              "      <td>7.2574</td>\n",
              "      <td>52.0</td>\n",
              "      <td>8.288136</td>\n",
              "      <td>1.073446</td>\n",
              "      <td>496.0</td>\n",
              "      <td>2.802260</td>\n",
              "      <td>37.85</td>\n",
              "      <td>-122.24</td>\n",
              "    </tr>\n",
              "    <tr>\n",
              "      <th>3</th>\n",
              "      <td>5.6431</td>\n",
              "      <td>52.0</td>\n",
              "      <td>5.817352</td>\n",
              "      <td>1.073059</td>\n",
              "      <td>558.0</td>\n",
              "      <td>2.547945</td>\n",
              "      <td>37.85</td>\n",
              "      <td>-122.25</td>\n",
              "    </tr>\n",
              "    <tr>\n",
              "      <th>4</th>\n",
              "      <td>3.8462</td>\n",
              "      <td>52.0</td>\n",
              "      <td>6.281853</td>\n",
              "      <td>1.081081</td>\n",
              "      <td>565.0</td>\n",
              "      <td>2.181467</td>\n",
              "      <td>37.85</td>\n",
              "      <td>-122.25</td>\n",
              "    </tr>\n",
              "  </tbody>\n",
              "</table>\n",
              "</div>"
            ],
            "text/plain": [
              "   MedInc  HouseAge  AveRooms  ...  AveOccup  Latitude  Longitude\n",
              "0  8.3252      41.0  6.984127  ...  2.555556     37.88    -122.23\n",
              "1  8.3014      21.0  6.238137  ...  2.109842     37.86    -122.22\n",
              "2  7.2574      52.0  8.288136  ...  2.802260     37.85    -122.24\n",
              "3  5.6431      52.0  5.817352  ...  2.547945     37.85    -122.25\n",
              "4  3.8462      52.0  6.281853  ...  2.181467     37.85    -122.25\n",
              "\n",
              "[5 rows x 8 columns]"
            ]
          },
          "metadata": {
            "tags": []
          },
          "execution_count": 12
        }
      ]
    },
    {
      "cell_type": "code",
      "metadata": {
        "id": "TIFsG3kwOmOm",
        "colab": {
          "base_uri": "https://localhost:8080/",
          "height": 195
        },
        "outputId": "91277ed2-7dd5-43ce-f2c6-bb5b242d464e"
      },
      "source": [
        "y = pd.DataFrame({'price': housing['target']})\n",
        "y.head()"
      ],
      "execution_count": 13,
      "outputs": [
        {
          "output_type": "execute_result",
          "data": {
            "text/html": [
              "<div>\n",
              "<style scoped>\n",
              "    .dataframe tbody tr th:only-of-type {\n",
              "        vertical-align: middle;\n",
              "    }\n",
              "\n",
              "    .dataframe tbody tr th {\n",
              "        vertical-align: top;\n",
              "    }\n",
              "\n",
              "    .dataframe thead th {\n",
              "        text-align: right;\n",
              "    }\n",
              "</style>\n",
              "<table border=\"1\" class=\"dataframe\">\n",
              "  <thead>\n",
              "    <tr style=\"text-align: right;\">\n",
              "      <th></th>\n",
              "      <th>price</th>\n",
              "    </tr>\n",
              "  </thead>\n",
              "  <tbody>\n",
              "    <tr>\n",
              "      <th>0</th>\n",
              "      <td>4.526</td>\n",
              "    </tr>\n",
              "    <tr>\n",
              "      <th>1</th>\n",
              "      <td>3.585</td>\n",
              "    </tr>\n",
              "    <tr>\n",
              "      <th>2</th>\n",
              "      <td>3.521</td>\n",
              "    </tr>\n",
              "    <tr>\n",
              "      <th>3</th>\n",
              "      <td>3.413</td>\n",
              "    </tr>\n",
              "    <tr>\n",
              "      <th>4</th>\n",
              "      <td>3.422</td>\n",
              "    </tr>\n",
              "  </tbody>\n",
              "</table>\n",
              "</div>"
            ],
            "text/plain": [
              "   price\n",
              "0  4.526\n",
              "1  3.585\n",
              "2  3.521\n",
              "3  3.413\n",
              "4  3.422"
            ]
          },
          "metadata": {
            "tags": []
          },
          "execution_count": 13
        }
      ]
    },
    {
      "cell_type": "code",
      "metadata": {
        "id": "S3T9NU_dOyVa",
        "colab": {
          "base_uri": "https://localhost:8080/"
        },
        "outputId": "1b3cfd3d-a131-4c88-ad89-fec9f7e934dc"
      },
      "source": [
        "X_train, X_test, y_train, y_test = train_test_split(X, y, test_size=0.3, random_state=42)\n",
        "X_train.shape, X_test.shape"
      ],
      "execution_count": 14,
      "outputs": [
        {
          "output_type": "execute_result",
          "data": {
            "text/plain": [
              "((14448, 8), (6192, 8))"
            ]
          },
          "metadata": {
            "tags": []
          },
          "execution_count": 14
        }
      ]
    },
    {
      "cell_type": "code",
      "metadata": {
        "id": "OUkulk-APF2O"
      },
      "source": [
        "scaler = StandardScaler()\n",
        "X_train_scaled = scaler.fit_transform(X_train)\n",
        "X_test_scaled = scaler.transform(X_test)"
      ],
      "execution_count": 15,
      "outputs": []
    },
    {
      "cell_type": "code",
      "metadata": {
        "id": "Xht6pIuzPPFe",
        "colab": {
          "base_uri": "https://localhost:8080/"
        },
        "outputId": "ae8e6a44-119b-4ead-dfd6-b4eaa8bf9c3f"
      },
      "source": [
        "from sklearn.linear_model import LinearRegression\n",
        "from sklearn.metrics import r2_score, mean_squared_error\n",
        "\n",
        "lr = LinearRegression()\n",
        "lr.fit(X_train_scaled, y_train)"
      ],
      "execution_count": null,
      "outputs": [
        {
          "output_type": "execute_result",
          "data": {
            "text/plain": [
              "LinearRegression(copy_X=True, fit_intercept=True, n_jobs=None, normalize=False)"
            ]
          },
          "metadata": {
            "tags": []
          },
          "execution_count": 36
        }
      ]
    },
    {
      "cell_type": "code",
      "metadata": {
        "id": "EAdcOhJzQjXW",
        "colab": {
          "base_uri": "https://localhost:8080/"
        },
        "outputId": "040c1008-39a7-48e2-c31d-e35eaf10a48e"
      },
      "source": [
        "predictions = lr.predict(X_test_scaled)\n",
        "print('R2:', r2_score(y_test, predictions))\n",
        "print('MSE:', mean_squared_error(y_test, predictions))"
      ],
      "execution_count": null,
      "outputs": [
        {
          "output_type": "stream",
          "text": [
            "R2: 0.5957702326061665\n",
            "MSE: 0.5305677824766752\n"
          ],
          "name": "stdout"
        }
      ]
    },
    {
      "cell_type": "markdown",
      "metadata": {
        "id": "3kXNdLtIQzXM"
      },
      "source": [
        "## 2.1: Creating a custom loss function\n",
        "\n",
        "Create a `mse_loss(...)` function with two arguments: \n",
        "- the true labels `y_true` \n",
        "- the model predictions `y_pred` \n",
        "\n",
        "Make it return the mean squared error using TensorFlow operations. Note that you could write your own custom metrics in this way. \n",
        "\n",
        "__Tip:__ Recall that the MSE is the mean of the squares of prediction errors, which are the differences between the predictions and the labels, so you will need to use `tf.reduce_mean()` and `tf.square()` ops."
      ]
    },
    {
      "cell_type": "code",
      "metadata": {
        "id": "fS65zON8Rh4X"
      },
      "source": [
        "def mse_loss(y_true, y_pred):\n",
        "    return tf.reduce_mean(tf.square(y_pred - y_true))"
      ],
      "execution_count": 20,
      "outputs": []
    },
    {
      "cell_type": "markdown",
      "metadata": {
        "id": "4hGWe6G6Ropr"
      },
      "source": [
        "## 2.2: Create a simple 1-layer NN\n",
        "\n",
        "Here we leverage the `Sequential` API of `tf.keras` to create a simple NN with 1 hidden layer"
      ]
    },
    {
      "cell_type": "code",
      "metadata": {
        "id": "uAcYQPiySAda"
      },
      "source": [
        "model = tf.keras.models.Sequential([\n",
        "    tf.keras.layers.Dense(16, activation=\"relu\", \n",
        "                          input_shape=(X_train.shape[1],)),\n",
        "    tf.keras.layers.Dense(1),\n",
        "])"
      ],
      "execution_count": null,
      "outputs": []
    },
    {
      "cell_type": "code",
      "metadata": {
        "id": "6MUJ3YqTSoeU"
      },
      "source": [
        "model.compile(loss=mse_loss, \n",
        "              optimizer=tf.keras.optimizers.SGD(lr=1e-3),\n",
        "              metrics=['mean_squared_error'])"
      ],
      "execution_count": null,
      "outputs": []
    },
    {
      "cell_type": "code",
      "metadata": {
        "id": "1A5kxuhoSyNS",
        "colab": {
          "base_uri": "https://localhost:8080/"
        },
        "outputId": "36046b90-f167-453e-c57c-f28e988a16a6"
      },
      "source": [
        "model.summary()"
      ],
      "execution_count": null,
      "outputs": [
        {
          "output_type": "stream",
          "text": [
            "Model: \"sequential\"\n",
            "_________________________________________________________________\n",
            "Layer (type)                 Output Shape              Param #   \n",
            "=================================================================\n",
            "dense (Dense)                (None, 16)                144       \n",
            "_________________________________________________________________\n",
            "dense_1 (Dense)              (None, 1)                 17        \n",
            "=================================================================\n",
            "Total params: 161\n",
            "Trainable params: 161\n",
            "Non-trainable params: 0\n",
            "_________________________________________________________________\n"
          ],
          "name": "stdout"
        }
      ]
    },
    {
      "cell_type": "markdown",
      "metadata": {
        "id": "FdWNezYlSzSn"
      },
      "source": [
        "## 2.3: Train the model and Test its performance\n",
        "\n",
        "We will now train our simple NN and test its performance"
      ]
    },
    {
      "cell_type": "markdown",
      "metadata": {
        "id": "TpQZbDQKGuKF"
      },
      "source": [
        "```\n",
        "3200 houses\n",
        "32 batch size\n",
        "\n",
        "every batch of data passed to the NN will have 32 houses\n",
        "\n",
        "1 epoch = 3200 // 32 = 100\n",
        "\n",
        "loss is computed after each batch of 32 houses and error\\loss is backpropagated based on gradients in each layer\n",
        "```"
      ]
    },
    {
      "cell_type": "code",
      "metadata": {
        "id": "gvuo490CTGuY",
        "colab": {
          "base_uri": "https://localhost:8080/"
        },
        "outputId": "eeeea379-7e1f-4c67-8a55-f206af57cf84"
      },
      "source": [
        "model.fit(X_train_scaled, y_train, \n",
        "          epochs=30,\n",
        "          batch_size=32,\n",
        "          validation_split=0.1)"
      ],
      "execution_count": null,
      "outputs": [
        {
          "output_type": "stream",
          "text": [
            "Epoch 1/30\n",
            "407/407 [==============================] - 1s 2ms/step - loss: 2.3144 - mean_squared_error: 2.3144 - val_loss: 1.0867 - val_mean_squared_error: 1.0867\n",
            "Epoch 2/30\n",
            "407/407 [==============================] - 1s 2ms/step - loss: 0.8915 - mean_squared_error: 0.8915 - val_loss: 0.7776 - val_mean_squared_error: 0.7776\n",
            "Epoch 3/30\n",
            "407/407 [==============================] - 1s 2ms/step - loss: 0.7593 - mean_squared_error: 0.7593 - val_loss: 0.7196 - val_mean_squared_error: 0.7196\n",
            "Epoch 4/30\n",
            "407/407 [==============================] - 1s 2ms/step - loss: 0.7178 - mean_squared_error: 0.7178 - val_loss: 0.6881 - val_mean_squared_error: 0.6881\n",
            "Epoch 5/30\n",
            "407/407 [==============================] - 1s 2ms/step - loss: 0.6878 - mean_squared_error: 0.6878 - val_loss: 0.6625 - val_mean_squared_error: 0.6625\n",
            "Epoch 6/30\n",
            "407/407 [==============================] - 1s 2ms/step - loss: 0.6611 - mean_squared_error: 0.6611 - val_loss: 0.6412 - val_mean_squared_error: 0.6412\n",
            "Epoch 7/30\n",
            "407/407 [==============================] - 1s 2ms/step - loss: 0.6387 - mean_squared_error: 0.6387 - val_loss: 0.6218 - val_mean_squared_error: 0.6218\n",
            "Epoch 8/30\n",
            "407/407 [==============================] - 1s 2ms/step - loss: 0.6205 - mean_squared_error: 0.6205 - val_loss: 0.6076 - val_mean_squared_error: 0.6076\n",
            "Epoch 9/30\n",
            "407/407 [==============================] - 1s 2ms/step - loss: 0.6045 - mean_squared_error: 0.6045 - val_loss: 0.5939 - val_mean_squared_error: 0.5939\n",
            "Epoch 10/30\n",
            "407/407 [==============================] - 1s 2ms/step - loss: 0.5907 - mean_squared_error: 0.5907 - val_loss: 0.5828 - val_mean_squared_error: 0.5828\n",
            "Epoch 11/30\n",
            "407/407 [==============================] - 1s 2ms/step - loss: 0.5782 - mean_squared_error: 0.5782 - val_loss: 0.5720 - val_mean_squared_error: 0.5720\n",
            "Epoch 12/30\n",
            "407/407 [==============================] - 1s 2ms/step - loss: 0.5672 - mean_squared_error: 0.5672 - val_loss: 0.5627 - val_mean_squared_error: 0.5627\n",
            "Epoch 13/30\n",
            "407/407 [==============================] - 1s 2ms/step - loss: 0.5571 - mean_squared_error: 0.5571 - val_loss: 0.5553 - val_mean_squared_error: 0.5553\n",
            "Epoch 14/30\n",
            "407/407 [==============================] - 1s 2ms/step - loss: 0.5479 - mean_squared_error: 0.5479 - val_loss: 0.5476 - val_mean_squared_error: 0.5476\n",
            "Epoch 15/30\n",
            "407/407 [==============================] - 1s 2ms/step - loss: 0.5396 - mean_squared_error: 0.5396 - val_loss: 0.5400 - val_mean_squared_error: 0.5400\n",
            "Epoch 16/30\n",
            "407/407 [==============================] - 1s 2ms/step - loss: 0.5320 - mean_squared_error: 0.5320 - val_loss: 0.5341 - val_mean_squared_error: 0.5341\n",
            "Epoch 17/30\n",
            "407/407 [==============================] - 1s 2ms/step - loss: 0.5250 - mean_squared_error: 0.5250 - val_loss: 0.5284 - val_mean_squared_error: 0.5284\n",
            "Epoch 18/30\n",
            "407/407 [==============================] - 1s 2ms/step - loss: 0.5186 - mean_squared_error: 0.5186 - val_loss: 0.5231 - val_mean_squared_error: 0.5231\n",
            "Epoch 19/30\n",
            "407/407 [==============================] - 1s 2ms/step - loss: 0.5126 - mean_squared_error: 0.5126 - val_loss: 0.5191 - val_mean_squared_error: 0.5191\n",
            "Epoch 20/30\n",
            "407/407 [==============================] - 1s 2ms/step - loss: 0.5074 - mean_squared_error: 0.5074 - val_loss: 0.5128 - val_mean_squared_error: 0.5128\n",
            "Epoch 21/30\n",
            "407/407 [==============================] - 1s 2ms/step - loss: 0.5025 - mean_squared_error: 0.5025 - val_loss: 0.5093 - val_mean_squared_error: 0.5093\n",
            "Epoch 22/30\n",
            "407/407 [==============================] - 1s 2ms/step - loss: 0.4980 - mean_squared_error: 0.4980 - val_loss: 0.5052 - val_mean_squared_error: 0.5052\n",
            "Epoch 23/30\n",
            "407/407 [==============================] - 1s 2ms/step - loss: 0.4936 - mean_squared_error: 0.4936 - val_loss: 0.5017 - val_mean_squared_error: 0.5017\n",
            "Epoch 24/30\n",
            "407/407 [==============================] - 1s 2ms/step - loss: 0.4898 - mean_squared_error: 0.4898 - val_loss: 0.4997 - val_mean_squared_error: 0.4997\n",
            "Epoch 25/30\n",
            "407/407 [==============================] - 1s 2ms/step - loss: 0.4864 - mean_squared_error: 0.4864 - val_loss: 0.4964 - val_mean_squared_error: 0.4964\n",
            "Epoch 26/30\n",
            "407/407 [==============================] - 1s 2ms/step - loss: 0.4831 - mean_squared_error: 0.4831 - val_loss: 0.4940 - val_mean_squared_error: 0.4940\n",
            "Epoch 27/30\n",
            "407/407 [==============================] - 1s 2ms/step - loss: 0.4798 - mean_squared_error: 0.4798 - val_loss: 0.4922 - val_mean_squared_error: 0.4922\n",
            "Epoch 28/30\n",
            "407/407 [==============================] - 1s 2ms/step - loss: 0.4769 - mean_squared_error: 0.4769 - val_loss: 0.4894 - val_mean_squared_error: 0.4894\n",
            "Epoch 29/30\n",
            "407/407 [==============================] - 1s 2ms/step - loss: 0.4745 - mean_squared_error: 0.4745 - val_loss: 0.4873 - val_mean_squared_error: 0.4873\n",
            "Epoch 30/30\n",
            "407/407 [==============================] - 1s 2ms/step - loss: 0.4723 - mean_squared_error: 0.4723 - val_loss: 0.4857 - val_mean_squared_error: 0.4857\n"
          ],
          "name": "stdout"
        },
        {
          "output_type": "execute_result",
          "data": {
            "text/plain": [
              "<tensorflow.python.keras.callbacks.History at 0x7fc9a8182c88>"
            ]
          },
          "metadata": {
            "tags": []
          },
          "execution_count": 44
        }
      ]
    },
    {
      "cell_type": "code",
      "metadata": {
        "id": "OTPwbW1YTRC9"
      },
      "source": [
        "predictions = model.predict(X_test_scaled)"
      ],
      "execution_count": null,
      "outputs": []
    },
    {
      "cell_type": "code",
      "metadata": {
        "id": "46I3RukVTcIp",
        "colab": {
          "base_uri": "https://localhost:8080/"
        },
        "outputId": "4d5954d6-d0a5-4df7-a781-13d7a59befa0"
      },
      "source": [
        "print('R2:', r2_score(y_test, predictions))\n",
        "print('MSE:', mean_squared_error(y_test, predictions))"
      ],
      "execution_count": null,
      "outputs": [
        {
          "output_type": "stream",
          "text": [
            "R2: 0.6389823667167998\n",
            "MSE: 0.47385012331223736\n"
          ],
          "name": "stdout"
        }
      ]
    },
    {
      "cell_type": "code",
      "metadata": {
        "id": "rLA5GxjATeen"
      },
      "source": [
        "model = tf.keras.models.Sequential([\n",
        "    tf.keras.layers.Dense(16, activation=\"relu\", \n",
        "                          input_shape=(X_train.shape[1],)),\n",
        "    tf.keras.layers.Dense(32, activation=\"relu\"),\n",
        "    tf.keras.layers.Dense(32, activation=\"relu\"),\n",
        "    tf.keras.layers.Dense(1),\n",
        "])"
      ],
      "execution_count": null,
      "outputs": []
    },
    {
      "cell_type": "code",
      "metadata": {
        "id": "N6MFhm3IT6IW"
      },
      "source": [
        "model.compile(loss=mse_loss, \n",
        "              optimizer=tf.keras.optimizers.SGD(lr=1e-3),\n",
        "              metrics=['mean_squared_error'])"
      ],
      "execution_count": null,
      "outputs": []
    },
    {
      "cell_type": "code",
      "metadata": {
        "id": "TYrNOeLWT91V",
        "colab": {
          "base_uri": "https://localhost:8080/"
        },
        "outputId": "5d8e9647-e780-4bf9-a67b-d7d6d6eacbe5"
      },
      "source": [
        "model.summary()"
      ],
      "execution_count": null,
      "outputs": [
        {
          "output_type": "stream",
          "text": [
            "Model: \"sequential_1\"\n",
            "_________________________________________________________________\n",
            "Layer (type)                 Output Shape              Param #   \n",
            "=================================================================\n",
            "dense_2 (Dense)              (None, 16)                144       \n",
            "_________________________________________________________________\n",
            "dense_3 (Dense)              (None, 32)                544       \n",
            "_________________________________________________________________\n",
            "dense_4 (Dense)              (None, 32)                1056      \n",
            "_________________________________________________________________\n",
            "dense_5 (Dense)              (None, 1)                 33        \n",
            "=================================================================\n",
            "Total params: 1,777\n",
            "Trainable params: 1,777\n",
            "Non-trainable params: 0\n",
            "_________________________________________________________________\n"
          ],
          "name": "stdout"
        }
      ]
    },
    {
      "cell_type": "code",
      "metadata": {
        "id": "tX1Hjj7DUAWx",
        "colab": {
          "base_uri": "https://localhost:8080/"
        },
        "outputId": "10f20612-d0a2-4ac3-a67e-add7a3b79af4"
      },
      "source": [
        "model.fit(X_train_scaled, y_train, \n",
        "          epochs=30,\n",
        "          batch_size=32,\n",
        "          validation_split=0.1) "
      ],
      "execution_count": null,
      "outputs": [
        {
          "output_type": "stream",
          "text": [
            "Epoch 1/30\n",
            "407/407 [==============================] - 1s 2ms/step - loss: 1.6648 - mean_squared_error: 1.6648 - val_loss: 0.7879 - val_mean_squared_error: 0.7879\n",
            "Epoch 2/30\n",
            "407/407 [==============================] - 1s 2ms/step - loss: 0.7352 - mean_squared_error: 0.7352 - val_loss: 0.6796 - val_mean_squared_error: 0.6796\n",
            "Epoch 3/30\n",
            "407/407 [==============================] - 1s 2ms/step - loss: 0.6742 - mean_squared_error: 0.6742 - val_loss: 0.6476 - val_mean_squared_error: 0.6476\n",
            "Epoch 4/30\n",
            "407/407 [==============================] - 1s 2ms/step - loss: 0.6394 - mean_squared_error: 0.6394 - val_loss: 0.6229 - val_mean_squared_error: 0.6229\n",
            "Epoch 5/30\n",
            "407/407 [==============================] - 1s 2ms/step - loss: 0.6128 - mean_squared_error: 0.6128 - val_loss: 0.6045 - val_mean_squared_error: 0.6045\n",
            "Epoch 6/30\n",
            "407/407 [==============================] - 1s 2ms/step - loss: 0.5887 - mean_squared_error: 0.5887 - val_loss: 0.5884 - val_mean_squared_error: 0.5884\n",
            "Epoch 7/30\n",
            "407/407 [==============================] - 1s 2ms/step - loss: 0.5676 - mean_squared_error: 0.5676 - val_loss: 0.5723 - val_mean_squared_error: 0.5723\n",
            "Epoch 8/30\n",
            "407/407 [==============================] - 1s 2ms/step - loss: 0.5490 - mean_squared_error: 0.5490 - val_loss: 0.5574 - val_mean_squared_error: 0.5574\n",
            "Epoch 9/30\n",
            "407/407 [==============================] - 1s 2ms/step - loss: 0.5317 - mean_squared_error: 0.5317 - val_loss: 0.5429 - val_mean_squared_error: 0.5429\n",
            "Epoch 10/30\n",
            "407/407 [==============================] - 1s 2ms/step - loss: 0.5158 - mean_squared_error: 0.5158 - val_loss: 0.5289 - val_mean_squared_error: 0.5289\n",
            "Epoch 11/30\n",
            "407/407 [==============================] - 1s 2ms/step - loss: 0.5014 - mean_squared_error: 0.5014 - val_loss: 0.5177 - val_mean_squared_error: 0.5177\n",
            "Epoch 12/30\n",
            "407/407 [==============================] - 1s 2ms/step - loss: 0.4891 - mean_squared_error: 0.4891 - val_loss: 0.5062 - val_mean_squared_error: 0.5062\n",
            "Epoch 13/30\n",
            "407/407 [==============================] - 1s 2ms/step - loss: 0.4780 - mean_squared_error: 0.4780 - val_loss: 0.4965 - val_mean_squared_error: 0.4965\n",
            "Epoch 14/30\n",
            "407/407 [==============================] - 1s 2ms/step - loss: 0.4685 - mean_squared_error: 0.4685 - val_loss: 0.4876 - val_mean_squared_error: 0.4876\n",
            "Epoch 15/30\n",
            "407/407 [==============================] - 1s 2ms/step - loss: 0.4607 - mean_squared_error: 0.4607 - val_loss: 0.4814 - val_mean_squared_error: 0.4814\n",
            "Epoch 16/30\n",
            "407/407 [==============================] - 1s 2ms/step - loss: 0.4541 - mean_squared_error: 0.4541 - val_loss: 0.4776 - val_mean_squared_error: 0.4776\n",
            "Epoch 17/30\n",
            "407/407 [==============================] - 1s 2ms/step - loss: 0.4478 - mean_squared_error: 0.4478 - val_loss: 0.4727 - val_mean_squared_error: 0.4727\n",
            "Epoch 18/30\n",
            "407/407 [==============================] - 1s 2ms/step - loss: 0.4435 - mean_squared_error: 0.4435 - val_loss: 0.4655 - val_mean_squared_error: 0.4655\n",
            "Epoch 19/30\n",
            "407/407 [==============================] - 1s 2ms/step - loss: 0.4393 - mean_squared_error: 0.4393 - val_loss: 0.4623 - val_mean_squared_error: 0.4623\n",
            "Epoch 20/30\n",
            "407/407 [==============================] - 1s 2ms/step - loss: 0.4351 - mean_squared_error: 0.4351 - val_loss: 0.4586 - val_mean_squared_error: 0.4586\n",
            "Epoch 21/30\n",
            "407/407 [==============================] - 1s 2ms/step - loss: 0.4315 - mean_squared_error: 0.4315 - val_loss: 0.4551 - val_mean_squared_error: 0.4551\n",
            "Epoch 22/30\n",
            "407/407 [==============================] - 1s 2ms/step - loss: 0.4282 - mean_squared_error: 0.4282 - val_loss: 0.4525 - val_mean_squared_error: 0.4525\n",
            "Epoch 23/30\n",
            "407/407 [==============================] - 1s 2ms/step - loss: 0.4250 - mean_squared_error: 0.4250 - val_loss: 0.4505 - val_mean_squared_error: 0.4505\n",
            "Epoch 24/30\n",
            "407/407 [==============================] - 1s 2ms/step - loss: 0.4227 - mean_squared_error: 0.4227 - val_loss: 0.4478 - val_mean_squared_error: 0.4478\n",
            "Epoch 25/30\n",
            "407/407 [==============================] - 1s 2ms/step - loss: 0.4200 - mean_squared_error: 0.4200 - val_loss: 0.4451 - val_mean_squared_error: 0.4451\n",
            "Epoch 26/30\n",
            "407/407 [==============================] - 1s 2ms/step - loss: 0.4178 - mean_squared_error: 0.4178 - val_loss: 0.4427 - val_mean_squared_error: 0.4427\n",
            "Epoch 27/30\n",
            "407/407 [==============================] - 1s 2ms/step - loss: 0.4153 - mean_squared_error: 0.4153 - val_loss: 0.4416 - val_mean_squared_error: 0.4416\n",
            "Epoch 28/30\n",
            "407/407 [==============================] - 1s 2ms/step - loss: 0.4134 - mean_squared_error: 0.4134 - val_loss: 0.4386 - val_mean_squared_error: 0.4386\n",
            "Epoch 29/30\n",
            "407/407 [==============================] - 1s 2ms/step - loss: 0.4117 - mean_squared_error: 0.4117 - val_loss: 0.4384 - val_mean_squared_error: 0.4384\n",
            "Epoch 30/30\n",
            "407/407 [==============================] - 1s 2ms/step - loss: 0.4096 - mean_squared_error: 0.4096 - val_loss: 0.4425 - val_mean_squared_error: 0.4425\n"
          ],
          "name": "stdout"
        },
        {
          "output_type": "execute_result",
          "data": {
            "text/plain": [
              "<tensorflow.python.keras.callbacks.History at 0x7fc9a4fcf470>"
            ]
          },
          "metadata": {
            "tags": []
          },
          "execution_count": 50
        }
      ]
    },
    {
      "cell_type": "code",
      "metadata": {
        "id": "pdtdmbGSUDDc"
      },
      "source": [
        "predictions = model.predict(X_test_scaled)"
      ],
      "execution_count": null,
      "outputs": []
    },
    {
      "cell_type": "code",
      "metadata": {
        "id": "Hp1AA1T5UFBn",
        "colab": {
          "base_uri": "https://localhost:8080/"
        },
        "outputId": "f591aa8d-4960-4574-a1f2-bca4917e6819"
      },
      "source": [
        "print('R2:', r2_score(y_test, predictions))\n",
        "print('MSE:', mean_squared_error(y_test, predictions))"
      ],
      "execution_count": null,
      "outputs": [
        {
          "output_type": "stream",
          "text": [
            "R2: 0.682790557546519\n",
            "MSE: 0.4163501157974675\n"
          ],
          "name": "stdout"
        }
      ]
    },
    {
      "cell_type": "markdown",
      "metadata": {
        "id": "Gy9lY1b5DraC"
      },
      "source": [
        "## 2.4: Activation Functions"
      ]
    },
    {
      "cell_type": "code",
      "metadata": {
        "id": "9E9Z47YFUImv",
        "colab": {
          "base_uri": "https://localhost:8080/",
          "height": 391
        },
        "outputId": "ab38aae1-78b7-4e1b-f288-f70196ef9571"
      },
      "source": [
        "z = np.linspace(-5, 5, 200)\n",
        "plt.figure(figsize=(15,6))\n",
        "plt.plot(z, np.sign(z), \"r-\", linewidth=1, label=\"Step\")\n",
        "plt.plot(z, tf.nn.sigmoid(z), \"g--\", linewidth=2, label=\"Sigmoid\")\n",
        "plt.plot(z, tf.nn.tanh(z), \"b-\", linewidth=2, label=\"Tanh\")\n",
        "plt.plot(z, tf.nn.relu(z), \"m-.\", linewidth=2, label=\"ReLU\")\n",
        "plt.grid(True)\n",
        "plt.legend(loc=\"upper left\", fontsize=14)\n",
        "plt.title(\"Activation functions\", fontsize=14)\n",
        "plt.axis([-5, 5, -1.2, 2]);"
      ],
      "execution_count": null,
      "outputs": [
        {
          "output_type": "display_data",
          "data": {
            "image/png": "[encoded data removed]",
            "text/plain": [
              "<Figure size 1080x432 with 1 Axes>"
            ]
          },
          "metadata": {
            "tags": [],
            "needs_background": "light"
          }
        }
      ]
    },
    {
      "cell_type": "code",
      "metadata": {
        "id": "8fSaGVWwYRf8",
        "colab": {
          "base_uri": "https://localhost:8080/",
          "height": 409
        },
        "outputId": "75536e38-30c9-4d33-c40a-5e24a1447c1a"
      },
      "source": [
        "z = np.linspace(-5, 5, 200)\n",
        "plt.figure(figsize=(15,6))\n",
        "plt.plot(z, np.sign(z), \"r-\", linewidth=1, label=\"Step\")\n",
        "plt.plot(z, tf.nn.elu(z), \"k.\", linewidth=2, label=\"ELU\")\n",
        "plt.plot(z, tf.nn.selu(z), \"c.-\", linewidth=2, label=\"SELU\")\n",
        "plt.plot(z, tf.nn.swish(z), \"y--\", linewidth=2, label=\"Swish\")\n",
        "plt.plot(z, tf.nn.softplus(z), \"r--\", linewidth=2, label=\"Softplus\")\n",
        "plt.plot(z, tf.nn.leaky_relu(z, alpha=0.05), \"m--\", linewidth=2, label=\"Leaky Relu\")\n",
        "\n",
        "plt.grid(True)\n",
        "plt.legend(loc=\"upper left\", fontsize=14)\n",
        "plt.title(\"Activation functions\", fontsize=14)\n",
        "plt.axis([-5, 5, -1.2, 2])"
      ],
      "execution_count": null,
      "outputs": [
        {
          "output_type": "execute_result",
          "data": {
            "text/plain": [
              "(-5.0, 5.0, -1.2, 2.0)"
            ]
          },
          "metadata": {
            "tags": []
          },
          "execution_count": 55
        },
        {
          "output_type": "display_data",
          "data": {
            "image/png": "[encoded data removed]",
            "text/plain": [
              "<Figure size 1080x432 with 1 Axes>"
            ]
          },
          "metadata": {
            "tags": [],
            "needs_background": "light"
          }
        }
      ]
    },
    {
      "cell_type": "markdown",
      "metadata": {
        "id": "Xx9AFyqYal8X"
      },
      "source": [
        "# 3. Custom Layers and Ops\n",
        "\n",
        "Some layers have no weights, such as `tf.keras.layers.Flatten` or `tf.keras.layers.ReLU`. If you want to create a custom layer without any weights, the simplest option is to create a `tf.keras.layers.Lambda` layer and pass it the function to perform. \n",
        "\n"
      ]
    },
    {
      "cell_type": "markdown",
      "metadata": {
        "id": "AROT3BDig-N7"
      },
      "source": [
        "## 3.1: Create a softplus layer\n",
        "\n",
        "Hint: You have used the softplus function earlier which is (log(exp(X) + 1), and the `tf.nn.softplus` function can be used for the same"
      ]
    },
    {
      "cell_type": "code",
      "metadata": {
        "id": "TQ0VS7w9hnYZ",
        "colab": {
          "base_uri": "https://localhost:8080/"
        },
        "outputId": "174dfdb4-c78f-43ef-8b74-7252558f6ffa"
      },
      "source": [
        "softplus_fn = tf.keras.layers.Lambda(lambda x: tf.nn.softplus(x))\n",
        "softplus_fn"
      ],
      "execution_count": 18,
      "outputs": [
        {
          "output_type": "execute_result",
          "data": {
            "text/plain": [
              "<tensorflow.python.keras.layers.core.Lambda at 0x7fa1ffc634e0>"
            ]
          },
          "metadata": {
            "tags": []
          },
          "execution_count": 18
        }
      ]
    },
    {
      "cell_type": "code",
      "metadata": {
        "id": "v71KlglmiSxP",
        "colab": {
          "base_uri": "https://localhost:8080/"
        },
        "outputId": "78e655bf-c66f-4298-8412-86b326b0c69b"
      },
      "source": [
        "softplus_fn([-10., -5., 0., 5., 10.])"
      ],
      "execution_count": null,
      "outputs": [
        {
          "output_type": "execute_result",
          "data": {
            "text/plain": [
              "<tf.Tensor: shape=(5,), dtype=float32, numpy=\n",
              "array([4.5398901e-05, 6.7153485e-03, 6.9314718e-01, 5.0067153e+00,\n",
              "       1.0000046e+01], dtype=float32)>"
            ]
          },
          "metadata": {
            "tags": []
          },
          "execution_count": 57
        }
      ]
    },
    {
      "cell_type": "markdown",
      "metadata": {
        "id": "5pJm874_iYlT"
      },
      "source": [
        "## 3.2: Create regression model with softplus layer\n",
        "\n",
        "Create a regression model but add your softplus layer at the top (i.e., after the existing 1-unit dense layer). This can be useful to ensure that your model never predicts negative values.\n",
        "\n"
      ]
    },
    {
      "cell_type": "code",
      "metadata": {
        "id": "Lkl508SSi3Fp",
        "colab": {
          "base_uri": "https://localhost:8080/"
        },
        "outputId": "13774898-ed06-4f90-9cb3-165c0b9c6419"
      },
      "source": [
        "model = tf.keras.models.Sequential([\n",
        "    tf.keras.layers.Dense(16, activation=\"relu\", \n",
        "                          input_shape=(X_train.shape[1],)),\n",
        "    tf.keras.layers.Dense(32, activation=\"relu\"),\n",
        "    tf.keras.layers.Dense(32, activation=\"relu\"),\n",
        "    tf.keras.layers.Dense(1),\n",
        "    softplus_fn\n",
        "])\n",
        "\n",
        "model.compile(loss=mse_loss, \n",
        "              optimizer=tf.keras.optimizers.SGD(lr=1e-3),\n",
        "              metrics=['mean_squared_error'])\n",
        "\n",
        "model.summary()"
      ],
      "execution_count": null,
      "outputs": [
        {
          "output_type": "stream",
          "text": [
            "Model: \"sequential_2\"\n",
            "_________________________________________________________________\n",
            "Layer (type)                 Output Shape              Param #   \n",
            "=================================================================\n",
            "dense_6 (Dense)              (None, 16)                144       \n",
            "_________________________________________________________________\n",
            "dense_7 (Dense)              (None, 32)                544       \n",
            "_________________________________________________________________\n",
            "dense_8 (Dense)              (None, 32)                1056      \n",
            "_________________________________________________________________\n",
            "dense_9 (Dense)              (None, 1)                 33        \n",
            "_________________________________________________________________\n",
            "lambda (Lambda)              (None, 1)                 0         \n",
            "=================================================================\n",
            "Total params: 1,777\n",
            "Trainable params: 1,777\n",
            "Non-trainable params: 0\n",
            "_________________________________________________________________\n"
          ],
          "name": "stdout"
        }
      ]
    },
    {
      "cell_type": "markdown",
      "metadata": {
        "id": "nMKttJuOj7In"
      },
      "source": [
        "## 3.3: Train and Predict"
      ]
    },
    {
      "cell_type": "code",
      "metadata": {
        "id": "B1HYHd6AjDUC",
        "colab": {
          "base_uri": "https://localhost:8080/"
        },
        "outputId": "f2c74604-1de3-4bb1-9a0b-f3b02d9d15b8"
      },
      "source": [
        "history = model.fit(X_train_scaled, y_train, \n",
        "                    epochs=30,\n",
        "                    batch_size=32,\n",
        "                    validation_split=0.1)"
      ],
      "execution_count": null,
      "outputs": [
        {
          "output_type": "stream",
          "text": [
            "Epoch 1/30\n",
            "407/407 [==============================] - 1s 2ms/step - loss: 2.0329 - mean_squared_error: 2.0329 - val_loss: 0.9527 - val_mean_squared_error: 0.9527\n",
            "Epoch 2/30\n",
            "407/407 [==============================] - 1s 2ms/step - loss: 0.8912 - mean_squared_error: 0.8912 - val_loss: 0.7253 - val_mean_squared_error: 0.7253\n",
            "Epoch 3/30\n",
            "407/407 [==============================] - 1s 2ms/step - loss: 0.7200 - mean_squared_error: 0.7200 - val_loss: 0.6603 - val_mean_squared_error: 0.6603\n",
            "Epoch 4/30\n",
            "407/407 [==============================] - 1s 2ms/step - loss: 0.6587 - mean_squared_error: 0.6587 - val_loss: 0.6239 - val_mean_squared_error: 0.6239\n",
            "Epoch 5/30\n",
            "407/407 [==============================] - 1s 2ms/step - loss: 0.6242 - mean_squared_error: 0.6242 - val_loss: 0.5995 - val_mean_squared_error: 0.5995\n",
            "Epoch 6/30\n",
            "407/407 [==============================] - 1s 2ms/step - loss: 0.5989 - mean_squared_error: 0.5989 - val_loss: 0.5816 - val_mean_squared_error: 0.5816\n",
            "Epoch 7/30\n",
            "407/407 [==============================] - 1s 2ms/step - loss: 0.5775 - mean_squared_error: 0.5775 - val_loss: 0.5674 - val_mean_squared_error: 0.5674\n",
            "Epoch 8/30\n",
            "407/407 [==============================] - 1s 2ms/step - loss: 0.5599 - mean_squared_error: 0.5599 - val_loss: 0.5509 - val_mean_squared_error: 0.5509\n",
            "Epoch 9/30\n",
            "407/407 [==============================] - 1s 2ms/step - loss: 0.5449 - mean_squared_error: 0.5449 - val_loss: 0.5405 - val_mean_squared_error: 0.5405\n",
            "Epoch 10/30\n",
            "407/407 [==============================] - 1s 2ms/step - loss: 0.5326 - mean_squared_error: 0.5326 - val_loss: 0.5296 - val_mean_squared_error: 0.5296\n",
            "Epoch 11/30\n",
            "407/407 [==============================] - 1s 2ms/step - loss: 0.5221 - mean_squared_error: 0.5221 - val_loss: 0.5231 - val_mean_squared_error: 0.5231\n",
            "Epoch 12/30\n",
            "407/407 [==============================] - 1s 2ms/step - loss: 0.5130 - mean_squared_error: 0.5130 - val_loss: 0.5125 - val_mean_squared_error: 0.5125\n",
            "Epoch 13/30\n",
            "407/407 [==============================] - 1s 2ms/step - loss: 0.5055 - mean_squared_error: 0.5055 - val_loss: 0.5084 - val_mean_squared_error: 0.5084\n",
            "Epoch 14/30\n",
            "407/407 [==============================] - 1s 2ms/step - loss: 0.4981 - mean_squared_error: 0.4981 - val_loss: 0.5028 - val_mean_squared_error: 0.5028\n",
            "Epoch 15/30\n",
            "407/407 [==============================] - 1s 2ms/step - loss: 0.4915 - mean_squared_error: 0.4915 - val_loss: 0.4961 - val_mean_squared_error: 0.4961\n",
            "Epoch 16/30\n",
            "407/407 [==============================] - 1s 2ms/step - loss: 0.4852 - mean_squared_error: 0.4852 - val_loss: 0.4893 - val_mean_squared_error: 0.4893\n",
            "Epoch 17/30\n",
            "407/407 [==============================] - 1s 2ms/step - loss: 0.4799 - mean_squared_error: 0.4799 - val_loss: 0.4855 - val_mean_squared_error: 0.4855\n",
            "Epoch 18/30\n",
            "407/407 [==============================] - 1s 2ms/step - loss: 0.4745 - mean_squared_error: 0.4745 - val_loss: 0.4799 - val_mean_squared_error: 0.4799\n",
            "Epoch 19/30\n",
            "407/407 [==============================] - 1s 2ms/step - loss: 0.4702 - mean_squared_error: 0.4702 - val_loss: 0.4787 - val_mean_squared_error: 0.4787\n",
            "Epoch 20/30\n",
            "407/407 [==============================] - 1s 2ms/step - loss: 0.4657 - mean_squared_error: 0.4657 - val_loss: 0.4753 - val_mean_squared_error: 0.4753\n",
            "Epoch 21/30\n",
            "407/407 [==============================] - 1s 2ms/step - loss: 0.4616 - mean_squared_error: 0.4616 - val_loss: 0.4702 - val_mean_squared_error: 0.4702\n",
            "Epoch 22/30\n",
            "407/407 [==============================] - 1s 2ms/step - loss: 0.4577 - mean_squared_error: 0.4577 - val_loss: 0.4652 - val_mean_squared_error: 0.4652\n",
            "Epoch 23/30\n",
            "407/407 [==============================] - 1s 2ms/step - loss: 0.4541 - mean_squared_error: 0.4541 - val_loss: 0.4624 - val_mean_squared_error: 0.4624\n",
            "Epoch 24/30\n",
            "407/407 [==============================] - 1s 2ms/step - loss: 0.4502 - mean_squared_error: 0.4502 - val_loss: 0.4605 - val_mean_squared_error: 0.4605\n",
            "Epoch 25/30\n",
            "407/407 [==============================] - 1s 2ms/step - loss: 0.4468 - mean_squared_error: 0.4468 - val_loss: 0.4560 - val_mean_squared_error: 0.4560\n",
            "Epoch 26/30\n",
            "407/407 [==============================] - 1s 2ms/step - loss: 0.4437 - mean_squared_error: 0.4437 - val_loss: 0.4539 - val_mean_squared_error: 0.4539\n",
            "Epoch 27/30\n",
            "407/407 [==============================] - 1s 2ms/step - loss: 0.4403 - mean_squared_error: 0.4403 - val_loss: 0.4521 - val_mean_squared_error: 0.4521\n",
            "Epoch 28/30\n",
            "407/407 [==============================] - 1s 2ms/step - loss: 0.4376 - mean_squared_error: 0.4376 - val_loss: 0.4520 - val_mean_squared_error: 0.4520\n",
            "Epoch 29/30\n",
            "407/407 [==============================] - 1s 2ms/step - loss: 0.4350 - mean_squared_error: 0.4350 - val_loss: 0.4467 - val_mean_squared_error: 0.4467\n",
            "Epoch 30/30\n",
            "407/407 [==============================] - 1s 2ms/step - loss: 0.4322 - mean_squared_error: 0.4322 - val_loss: 0.4445 - val_mean_squared_error: 0.4445\n"
          ],
          "name": "stdout"
        }
      ]
    },
    {
      "cell_type": "code",
      "metadata": {
        "id": "foUGuxTAjMzc",
        "colab": {
          "base_uri": "https://localhost:8080/",
          "height": 283
        },
        "outputId": "bb033170-d52a-4511-b43c-71ed6ddb0c6e"
      },
      "source": [
        "history_df = pd.DataFrame(history.history)\n",
        "history_df[['loss', 'val_loss']].plot(kind='line')"
      ],
      "execution_count": null,
      "outputs": [
        {
          "output_type": "execute_result",
          "data": {
            "text/plain": [
              "<matplotlib.axes._subplots.AxesSubplot at 0x7fc9a30f0c50>"
            ]
          },
          "metadata": {
            "tags": []
          },
          "execution_count": 60
        },
        {
          "output_type": "display_data",
          "data": {
            "image/png": "[encoded data removed]",
            "text/plain": [
              "<Figure size 432x288 with 1 Axes>"
            ]
          },
          "metadata": {
            "tags": [],
            "needs_background": "light"
          }
        }
      ]
    },
    {
      "cell_type": "code",
      "metadata": {
        "id": "0mnngrfOjWkp",
        "colab": {
          "base_uri": "https://localhost:8080/"
        },
        "outputId": "105452fc-8900-403a-8c55-998872332791"
      },
      "source": [
        "predictions = model.predict(X_test_scaled)\n",
        "print('R2:', r2_score(y_test, predictions))\n",
        "print('MSE:', mean_squared_error(y_test, predictions))"
      ],
      "execution_count": null,
      "outputs": [
        {
          "output_type": "stream",
          "text": [
            "R2: 0.6650092010460874\n",
            "MSE: 0.4396888593756206\n"
          ],
          "name": "stdout"
        }
      ]
    },
    {
      "cell_type": "markdown",
      "metadata": {
        "id": "mD88HcyQjohR"
      },
      "source": [
        "## 3.4: Creating a custom dense layer\n",
        "\n",
        "Now let's create a custom layer with its own weights. \n",
        "\n",
        "\n",
        "Use the following template to create a MyDense layer that computes $\\phi(\\mathbf{X} \\mathbf{W}) + \\mathbf{b}$, \n",
        "\n",
        "where $\\phi$ is the (optional) activation function, \n",
        "\n",
        "$\\mathbf{X}$ is the input data, \n",
        "\n",
        "$\\mathbf{W}$ represents the kernel (i.e., connection weights), \n",
        "\n",
        "and $\\mathbf{b}$ represents the biases, \n",
        "\n",
        "then train and evaluate a model using this instead of a regular Dense layer.\n",
        "\n"
      ]
    },
    {
      "cell_type": "code",
      "metadata": {
        "id": "T-xPJsVAk51k"
      },
      "source": [
        "class CustomDense(tf.keras.layers.Layer):\n",
        "\n",
        "    def __init__(self, units, activation=None, initializer='uniform', **kwargs):\n",
        "        self.units = units\n",
        "        self.activation = tf.keras.layers.Activation(activation)\n",
        "        self.initializer = initializer\n",
        "        super(CustomDense, self).__init__(**kwargs)\n",
        "\n",
        "    def build(self, input_shape):\n",
        "        self.kernel = self.add_weight(name='kernel', \n",
        "                                      shape=(input_shape[1], self.units),\n",
        "                                      initializer=self.initializer,\n",
        "                                      trainable=True)\n",
        "        self.biases = self.add_weight(name='bias', \n",
        "                                      shape=(self.units,),\n",
        "                                      initializer='zeros',\n",
        "                                      trainable=True)\n",
        "        super(CustomDense, self).build(input_shape)\n",
        "\n",
        "    def call(self, X):\n",
        "        return self.activation(X @ self.kernel + self.biases)"
      ],
      "execution_count": 16,
      "outputs": []
    },
    {
      "cell_type": "markdown",
      "metadata": {
        "id": "R9UDrR0ulSYh"
      },
      "source": [
        "## 3.5 Build NN Model with custom dense layer"
      ]
    },
    {
      "cell_type": "code",
      "metadata": {
        "id": "pUT3X8rbla8S",
        "colab": {
          "base_uri": "https://localhost:8080/"
        },
        "outputId": "3f743079-0232-4bb6-a32d-dadd82e666c4"
      },
      "source": [
        "model = tf.keras.models.Sequential([\n",
        "    CustomDense(16, activation=\"relu\", \n",
        "                          input_shape=(X_train.shape[1],)),\n",
        "    CustomDense(32, activation=\"relu\"),\n",
        "    CustomDense(32, activation=\"relu\"),\n",
        "    CustomDense(1),\n",
        "    softplus_fn\n",
        "])\n",
        "\n",
        "model.compile(loss=mse_loss, \n",
        "              optimizer=tf.keras.optimizers.SGD(lr=1e-3),\n",
        "              metrics=['mean_squared_error'])\n",
        "\n",
        "model.summary()"
      ],
      "execution_count": 21,
      "outputs": [
        {
          "output_type": "stream",
          "text": [
            "Model: \"sequential_1\"\n",
            "_________________________________________________________________\n",
            "Layer (type)                 Output Shape              Param #   \n",
            "=================================================================\n",
            "custom_dense_8 (CustomDense) (None, 16)                144       \n",
            "_________________________________________________________________\n",
            "custom_dense_9 (CustomDense) (None, 32)                544       \n",
            "_________________________________________________________________\n",
            "custom_dense_10 (CustomDense (None, 32)                1056      \n",
            "_________________________________________________________________\n",
            "custom_dense_11 (CustomDense (None, 1)                 33        \n",
            "_________________________________________________________________\n",
            "lambda (Lambda)              (None, 1)                 0         \n",
            "=================================================================\n",
            "Total params: 1,777\n",
            "Trainable params: 1,777\n",
            "Non-trainable params: 0\n",
            "_________________________________________________________________\n"
          ],
          "name": "stdout"
        }
      ]
    },
    {
      "cell_type": "code",
      "metadata": {
        "id": "3xwwvACNlrFE",
        "colab": {
          "base_uri": "https://localhost:8080/"
        },
        "outputId": "30756fbb-98fb-41d7-d4b7-c3211fdb1167"
      },
      "source": [
        "history = model.fit(X_train_scaled, y_train, \n",
        "                    epochs=30,\n",
        "                    batch_size=32,\n",
        "                    validation_split=0.1)"
      ],
      "execution_count": 22,
      "outputs": [
        {
          "output_type": "stream",
          "text": [
            "Epoch 1/30\n",
            "407/407 [==============================] - 2s 2ms/step - loss: 3.0793 - mean_squared_error: 3.0793 - val_loss: 2.4810 - val_mean_squared_error: 2.4810\n",
            "Epoch 2/30\n",
            "407/407 [==============================] - 1s 2ms/step - loss: 2.2862 - mean_squared_error: 2.2862 - val_loss: 1.8639 - val_mean_squared_error: 1.8639\n",
            "Epoch 3/30\n",
            "407/407 [==============================] - 1s 2ms/step - loss: 1.7079 - mean_squared_error: 1.7079 - val_loss: 1.5399 - val_mean_squared_error: 1.5399\n",
            "Epoch 4/30\n",
            "407/407 [==============================] - 1s 2ms/step - loss: 1.4233 - mean_squared_error: 1.4233 - val_loss: 1.4153 - val_mean_squared_error: 1.4153\n",
            "Epoch 5/30\n",
            "407/407 [==============================] - 1s 2ms/step - loss: 1.3991 - mean_squared_error: 1.3991 - val_loss: 1.3769 - val_mean_squared_error: 1.3769\n",
            "Epoch 6/30\n",
            "407/407 [==============================] - 1s 2ms/step - loss: 1.3471 - mean_squared_error: 1.3471 - val_loss: 1.3660 - val_mean_squared_error: 1.3660\n",
            "Epoch 7/30\n",
            "407/407 [==============================] - 1s 2ms/step - loss: 1.3472 - mean_squared_error: 1.3472 - val_loss: 1.3629 - val_mean_squared_error: 1.3629\n",
            "Epoch 8/30\n",
            "407/407 [==============================] - 1s 2ms/step - loss: 1.3136 - mean_squared_error: 1.3136 - val_loss: 1.3621 - val_mean_squared_error: 1.3621\n",
            "Epoch 9/30\n",
            "407/407 [==============================] - 1s 2ms/step - loss: 1.3288 - mean_squared_error: 1.3288 - val_loss: 1.3619 - val_mean_squared_error: 1.3619\n",
            "Epoch 10/30\n",
            "407/407 [==============================] - 1s 2ms/step - loss: 1.3391 - mean_squared_error: 1.3391 - val_loss: 1.3618 - val_mean_squared_error: 1.3618\n",
            "Epoch 11/30\n",
            "407/407 [==============================] - 1s 2ms/step - loss: 1.2816 - mean_squared_error: 1.2816 - val_loss: 1.3617 - val_mean_squared_error: 1.3617\n",
            "Epoch 12/30\n",
            "407/407 [==============================] - 1s 2ms/step - loss: 1.3057 - mean_squared_error: 1.3057 - val_loss: 1.3617 - val_mean_squared_error: 1.3617\n",
            "Epoch 13/30\n",
            "407/407 [==============================] - 1s 2ms/step - loss: 1.3699 - mean_squared_error: 1.3699 - val_loss: 1.3617 - val_mean_squared_error: 1.3617\n",
            "Epoch 14/30\n",
            "407/407 [==============================] - 1s 2ms/step - loss: 1.3347 - mean_squared_error: 1.3347 - val_loss: 1.3616 - val_mean_squared_error: 1.3616\n",
            "Epoch 15/30\n",
            "407/407 [==============================] - 1s 2ms/step - loss: 1.3319 - mean_squared_error: 1.3319 - val_loss: 1.3616 - val_mean_squared_error: 1.3616\n",
            "Epoch 16/30\n",
            "407/407 [==============================] - 1s 2ms/step - loss: 1.3409 - mean_squared_error: 1.3409 - val_loss: 1.3615 - val_mean_squared_error: 1.3615\n",
            "Epoch 17/30\n",
            "407/407 [==============================] - 1s 2ms/step - loss: 1.3386 - mean_squared_error: 1.3386 - val_loss: 1.3615 - val_mean_squared_error: 1.3615\n",
            "Epoch 18/30\n",
            "407/407 [==============================] - 1s 2ms/step - loss: 1.3259 - mean_squared_error: 1.3259 - val_loss: 1.3615 - val_mean_squared_error: 1.3615\n",
            "Epoch 19/30\n",
            "407/407 [==============================] - 1s 2ms/step - loss: 1.3107 - mean_squared_error: 1.3107 - val_loss: 1.3614 - val_mean_squared_error: 1.3614\n",
            "Epoch 20/30\n",
            "407/407 [==============================] - 1s 2ms/step - loss: 1.3078 - mean_squared_error: 1.3078 - val_loss: 1.3614 - val_mean_squared_error: 1.3614\n",
            "Epoch 21/30\n",
            "407/407 [==============================] - 1s 2ms/step - loss: 1.3232 - mean_squared_error: 1.3232 - val_loss: 1.3613 - val_mean_squared_error: 1.3613\n",
            "Epoch 22/30\n",
            "407/407 [==============================] - 1s 2ms/step - loss: 1.3469 - mean_squared_error: 1.3469 - val_loss: 1.3613 - val_mean_squared_error: 1.3613\n",
            "Epoch 23/30\n",
            "407/407 [==============================] - 1s 2ms/step - loss: 1.3519 - mean_squared_error: 1.3519 - val_loss: 1.3613 - val_mean_squared_error: 1.3613\n",
            "Epoch 24/30\n",
            "407/407 [==============================] - 1s 2ms/step - loss: 1.3291 - mean_squared_error: 1.3291 - val_loss: 1.3612 - val_mean_squared_error: 1.3612\n",
            "Epoch 25/30\n",
            "407/407 [==============================] - 1s 2ms/step - loss: 1.3221 - mean_squared_error: 1.3221 - val_loss: 1.3611 - val_mean_squared_error: 1.3611\n",
            "Epoch 26/30\n",
            "407/407 [==============================] - 1s 2ms/step - loss: 1.3192 - mean_squared_error: 1.3192 - val_loss: 1.3611 - val_mean_squared_error: 1.3611\n",
            "Epoch 27/30\n",
            "407/407 [==============================] - 1s 2ms/step - loss: 1.3165 - mean_squared_error: 1.3165 - val_loss: 1.3610 - val_mean_squared_error: 1.3610\n",
            "Epoch 28/30\n",
            "407/407 [==============================] - 1s 2ms/step - loss: 1.3307 - mean_squared_error: 1.3307 - val_loss: 1.3609 - val_mean_squared_error: 1.3609\n",
            "Epoch 29/30\n",
            "407/407 [==============================] - 1s 2ms/step - loss: 1.3577 - mean_squared_error: 1.3577 - val_loss: 1.3609 - val_mean_squared_error: 1.3609\n",
            "Epoch 30/30\n",
            "407/407 [==============================] - 1s 2ms/step - loss: 1.3731 - mean_squared_error: 1.3731 - val_loss: 1.3607 - val_mean_squared_error: 1.3607\n"
          ],
          "name": "stdout"
        }
      ]
    },
    {
      "cell_type": "code",
      "metadata": {
        "id": "0LOkyDW9l87k",
        "colab": {
          "base_uri": "https://localhost:8080/",
          "height": 282
        },
        "outputId": "af44aaa4-0c91-44c0-d505-c87d8a29842a"
      },
      "source": [
        "history_df = pd.DataFrame(history.history)\n",
        "history_df[['loss', 'val_loss']].plot(kind='line')"
      ],
      "execution_count": 23,
      "outputs": [
        {
          "output_type": "execute_result",
          "data": {
            "text/plain": [
              "<matplotlib.axes._subplots.AxesSubplot at 0x7fa1ffbdfa20>"
            ]
          },
          "metadata": {
            "tags": []
          },
          "execution_count": 23
        },
        {
          "output_type": "display_data",
          "data": {
            "image/png": "[encoded data removed]",
            "text/plain": [
              "<Figure size 432x288 with 1 Axes>"
            ]
          },
          "metadata": {
            "tags": [],
            "needs_background": "light"
          }
        }
      ]
    },
    {
      "cell_type": "code",
      "metadata": {
        "id": "eAqcfYkJmH0c",
        "colab": {
          "base_uri": "https://localhost:8080/"
        },
        "outputId": "939c80a2-0dd6-4ecb-baad-98d4b6db7df9"
      },
      "source": [
        "predictions = model.predict(X_test_scaled)\n",
        "print('R2:', r2_score(y_test, predictions))\n",
        "print('MSE:', mean_squared_error(y_test, predictions))"
      ],
      "execution_count": 26,
      "outputs": [
        {
          "output_type": "stream",
          "text": [
            "R2: 0.0009308488769875778\n",
            "MSE: 1.3113183313285037\n"
          ],
          "name": "stdout"
        }
      ]
    },
    {
      "cell_type": "markdown",
      "metadata": {
        "id": "lYSf_Ipusgbh"
      },
      "source": [
        "## 3.6: Custom NN model with custom dense and weight initializers"
      ]
    },
    {
      "cell_type": "code",
      "metadata": {
        "id": "hIf31L4nmK3t",
        "colab": {
          "base_uri": "https://localhost:8080/"
        },
        "outputId": "678e61d1-2e01-43f9-c003-47db94aa4085"
      },
      "source": [
        "model = tf.keras.models.Sequential([\n",
        "    CustomDense(16, activation=\"relu\", initializer='glorot_uniform',\n",
        "                          input_shape=(X_train.shape[1],)),\n",
        "    CustomDense(32, activation=\"relu\", initializer='glorot_uniform'),\n",
        "    CustomDense(32, activation=\"relu\", initializer='glorot_uniform'),\n",
        "    CustomDense(1),\n",
        "    softplus_fn\n",
        "])\n",
        "\n",
        "model.compile(loss=mse_loss, \n",
        "              optimizer=tf.keras.optimizers.SGD(lr=1e-3),\n",
        "              metrics=['mean_squared_error'])\n",
        "\n",
        "model.summary()"
      ],
      "execution_count": 27,
      "outputs": [
        {
          "output_type": "stream",
          "text": [
            "Model: \"sequential_2\"\n",
            "_________________________________________________________________\n",
            "Layer (type)                 Output Shape              Param #   \n",
            "=================================================================\n",
            "custom_dense_12 (CustomDense (None, 16)                144       \n",
            "_________________________________________________________________\n",
            "custom_dense_13 (CustomDense (None, 32)                544       \n",
            "_________________________________________________________________\n",
            "custom_dense_14 (CustomDense (None, 32)                1056      \n",
            "_________________________________________________________________\n",
            "custom_dense_15 (CustomDense (None, 1)                 33        \n",
            "_________________________________________________________________\n",
            "lambda (Lambda)              (None, 1)                 0         \n",
            "=================================================================\n",
            "Total params: 1,777\n",
            "Trainable params: 1,777\n",
            "Non-trainable params: 0\n",
            "_________________________________________________________________\n"
          ],
          "name": "stdout"
        }
      ]
    },
    {
      "cell_type": "code",
      "metadata": {
        "id": "CKmOMZjBnC1Z",
        "colab": {
          "base_uri": "https://localhost:8080/"
        },
        "outputId": "38a62a69-c0da-4657-f24a-0158509586ce"
      },
      "source": [
        "history = model.fit(X_train_scaled, y_train, \n",
        "                    epochs=30,\n",
        "                    batch_size=32,\n",
        "                    validation_split=0.1)"
      ],
      "execution_count": 28,
      "outputs": [
        {
          "output_type": "stream",
          "text": [
            "Epoch 1/30\n",
            "407/407 [==============================] - 1s 2ms/step - loss: 2.7581 - mean_squared_error: 2.7581 - val_loss: 1.4834 - val_mean_squared_error: 1.4834\n",
            "Epoch 2/30\n",
            "407/407 [==============================] - 1s 2ms/step - loss: 1.3492 - mean_squared_error: 1.3492 - val_loss: 1.0399 - val_mean_squared_error: 1.0399\n",
            "Epoch 3/30\n",
            "407/407 [==============================] - 1s 2ms/step - loss: 1.0163 - mean_squared_error: 1.0163 - val_loss: 0.8873 - val_mean_squared_error: 0.8873\n",
            "Epoch 4/30\n",
            "407/407 [==============================] - 1s 2ms/step - loss: 0.8699 - mean_squared_error: 0.8699 - val_loss: 0.7972 - val_mean_squared_error: 0.7972\n",
            "Epoch 5/30\n",
            "407/407 [==============================] - 1s 2ms/step - loss: 0.7901 - mean_squared_error: 0.7901 - val_loss: 0.7371 - val_mean_squared_error: 0.7371\n",
            "Epoch 6/30\n",
            "407/407 [==============================] - 1s 2ms/step - loss: 0.7297 - mean_squared_error: 0.7297 - val_loss: 0.6934 - val_mean_squared_error: 0.6934\n",
            "Epoch 7/30\n",
            "407/407 [==============================] - 1s 2ms/step - loss: 0.6943 - mean_squared_error: 0.6943 - val_loss: 0.6555 - val_mean_squared_error: 0.6555\n",
            "Epoch 8/30\n",
            "407/407 [==============================] - 1s 2ms/step - loss: 0.6371 - mean_squared_error: 0.6371 - val_loss: 0.6281 - val_mean_squared_error: 0.6281\n",
            "Epoch 9/30\n",
            "407/407 [==============================] - 1s 2ms/step - loss: 0.6193 - mean_squared_error: 0.6193 - val_loss: 0.6051 - val_mean_squared_error: 0.6051\n",
            "Epoch 10/30\n",
            "407/407 [==============================] - 1s 2ms/step - loss: 0.6116 - mean_squared_error: 0.6116 - val_loss: 0.5880 - val_mean_squared_error: 0.5880\n",
            "Epoch 11/30\n",
            "407/407 [==============================] - 1s 2ms/step - loss: 0.5766 - mean_squared_error: 0.5766 - val_loss: 0.5752 - val_mean_squared_error: 0.5752\n",
            "Epoch 12/30\n",
            "407/407 [==============================] - 1s 2ms/step - loss: 0.5761 - mean_squared_error: 0.5761 - val_loss: 0.5633 - val_mean_squared_error: 0.5633\n",
            "Epoch 13/30\n",
            "407/407 [==============================] - 1s 2ms/step - loss: 0.5438 - mean_squared_error: 0.5438 - val_loss: 0.5526 - val_mean_squared_error: 0.5526\n",
            "Epoch 14/30\n",
            "407/407 [==============================] - 1s 2ms/step - loss: 0.5489 - mean_squared_error: 0.5489 - val_loss: 0.5448 - val_mean_squared_error: 0.5448\n",
            "Epoch 15/30\n",
            "407/407 [==============================] - 1s 2ms/step - loss: 0.5439 - mean_squared_error: 0.5439 - val_loss: 0.5369 - val_mean_squared_error: 0.5369\n",
            "Epoch 16/30\n",
            "407/407 [==============================] - 1s 2ms/step - loss: 0.5255 - mean_squared_error: 0.5255 - val_loss: 0.5256 - val_mean_squared_error: 0.5256\n",
            "Epoch 17/30\n",
            "407/407 [==============================] - 1s 2ms/step - loss: 0.5114 - mean_squared_error: 0.5114 - val_loss: 0.5168 - val_mean_squared_error: 0.5168\n",
            "Epoch 18/30\n",
            "407/407 [==============================] - 1s 2ms/step - loss: 0.5090 - mean_squared_error: 0.5090 - val_loss: 0.5089 - val_mean_squared_error: 0.5089\n",
            "Epoch 19/30\n",
            "407/407 [==============================] - 1s 2ms/step - loss: 0.5031 - mean_squared_error: 0.5031 - val_loss: 0.5024 - val_mean_squared_error: 0.5024\n",
            "Epoch 20/30\n",
            "407/407 [==============================] - 1s 2ms/step - loss: 0.5052 - mean_squared_error: 0.5052 - val_loss: 0.4957 - val_mean_squared_error: 0.4957\n",
            "Epoch 21/30\n",
            "407/407 [==============================] - 1s 2ms/step - loss: 0.4574 - mean_squared_error: 0.4574 - val_loss: 0.4896 - val_mean_squared_error: 0.4896\n",
            "Epoch 22/30\n",
            "407/407 [==============================] - 1s 2ms/step - loss: 0.4694 - mean_squared_error: 0.4694 - val_loss: 0.4846 - val_mean_squared_error: 0.4846\n",
            "Epoch 23/30\n",
            "407/407 [==============================] - 1s 2ms/step - loss: 0.4644 - mean_squared_error: 0.4644 - val_loss: 0.4803 - val_mean_squared_error: 0.4803\n",
            "Epoch 24/30\n",
            "407/407 [==============================] - 1s 2ms/step - loss: 0.4492 - mean_squared_error: 0.4492 - val_loss: 0.4757 - val_mean_squared_error: 0.4757\n",
            "Epoch 25/30\n",
            "407/407 [==============================] - 1s 2ms/step - loss: 0.4367 - mean_squared_error: 0.4367 - val_loss: 0.4706 - val_mean_squared_error: 0.4706\n",
            "Epoch 26/30\n",
            "407/407 [==============================] - 1s 2ms/step - loss: 0.4449 - mean_squared_error: 0.4449 - val_loss: 0.4674 - val_mean_squared_error: 0.4674\n",
            "Epoch 27/30\n",
            "407/407 [==============================] - 1s 2ms/step - loss: 0.4387 - mean_squared_error: 0.4387 - val_loss: 0.4644 - val_mean_squared_error: 0.4644\n",
            "Epoch 28/30\n",
            "407/407 [==============================] - 1s 2ms/step - loss: 0.4206 - mean_squared_error: 0.4206 - val_loss: 0.4629 - val_mean_squared_error: 0.4629\n",
            "Epoch 29/30\n",
            "407/407 [==============================] - 1s 2ms/step - loss: 0.4375 - mean_squared_error: 0.4375 - val_loss: 0.4622 - val_mean_squared_error: 0.4622\n",
            "Epoch 30/30\n",
            "407/407 [==============================] - 1s 2ms/step - loss: 0.4321 - mean_squared_error: 0.4321 - val_loss: 0.4607 - val_mean_squared_error: 0.4607\n"
          ],
          "name": "stdout"
        }
      ]
    },
    {
      "cell_type": "code",
      "metadata": {
        "id": "cmUc8Gf3nGnx",
        "colab": {
          "base_uri": "https://localhost:8080/",
          "height": 282
        },
        "outputId": "6fdf3845-f854-40d8-83c0-120138d89612"
      },
      "source": [
        "history_df = pd.DataFrame(history.history)\n",
        "history_df[['loss', 'val_loss']].plot(kind='line')"
      ],
      "execution_count": 29,
      "outputs": [
        {
          "output_type": "execute_result",
          "data": {
            "text/plain": [
              "<matplotlib.axes._subplots.AxesSubplot at 0x7fa1fff5c710>"
            ]
          },
          "metadata": {
            "tags": []
          },
          "execution_count": 29
        },
        {
          "output_type": "display_data",
          "data": {
            "image/png": "[encoded data removed]",
            "text/plain": [
              "<Figure size 432x288 with 1 Axes>"
            ]
          },
          "metadata": {
            "tags": [],
            "needs_background": "light"
          }
        }
      ]
    },
    {
      "cell_type": "code",
      "metadata": {
        "id": "comqT3N0nJbI",
        "colab": {
          "base_uri": "https://localhost:8080/"
        },
        "outputId": "9568b436-44d9-4ea5-ff1d-11c3bcd00c5a"
      },
      "source": [
        "predictions = model.predict(X_test_scaled)\n",
        "print('R2:', r2_score(y_test, predictions))\n",
        "print('MSE:', mean_squared_error(y_test, predictions))"
      ],
      "execution_count": 30,
      "outputs": [
        {
          "output_type": "stream",
          "text": [
            "R2: 0.6702474810411744\n",
            "MSE: 0.43281340678610997\n"
          ],
          "name": "stdout"
        }
      ]
    },
    {
      "cell_type": "code",
      "metadata": {
        "colab": {
          "base_uri": "https://localhost:8080/"
        },
        "id": "AnDcPrmGE02I",
        "outputId": "12b591ee-cf48-4bb6-8de5-f9ff57c416c3"
      },
      "source": [
        "model = tf.keras.models.Sequential([\r\n",
        "    CustomDense(16, activation=\"relu\", initializer='random_normal',\r\n",
        "                          input_shape=(X_train.shape[1],)),\r\n",
        "    CustomDense(32, activation=\"relu\", initializer='random_normal'),\r\n",
        "    CustomDense(32, activation=\"relu\", initializer='random_normal'),\r\n",
        "    CustomDense(1),\r\n",
        "    softplus_fn\r\n",
        "])\r\n",
        "\r\n",
        "model.compile(loss=mse_loss, \r\n",
        "              optimizer=tf.keras.optimizers.SGD(lr=1e-3),\r\n",
        "              metrics=['mean_squared_error'])\r\n",
        "\r\n",
        "model.summary()"
      ],
      "execution_count": 41,
      "outputs": [
        {
          "output_type": "stream",
          "text": [
            "Model: \"sequential_5\"\n",
            "_________________________________________________________________\n",
            "Layer (type)                 Output Shape              Param #   \n",
            "=================================================================\n",
            "custom_dense_24 (CustomDense (None, 16)                144       \n",
            "_________________________________________________________________\n",
            "custom_dense_25 (CustomDense (None, 32)                544       \n",
            "_________________________________________________________________\n",
            "custom_dense_26 (CustomDense (None, 32)                1056      \n",
            "_________________________________________________________________\n",
            "custom_dense_27 (CustomDense (None, 1)                 33        \n",
            "_________________________________________________________________\n",
            "lambda (Lambda)              (None, 1)                 0         \n",
            "=================================================================\n",
            "Total params: 1,777\n",
            "Trainable params: 1,777\n",
            "Non-trainable params: 0\n",
            "_________________________________________________________________\n"
          ],
          "name": "stdout"
        }
      ]
    },
    {
      "cell_type": "code",
      "metadata": {
        "colab": {
          "base_uri": "https://localhost:8080/"
        },
        "id": "0fMhDyTSGYUQ",
        "outputId": "aafe9ed1-50ed-4ab0-8c99-8199b6401df1"
      },
      "source": [
        "history = model.fit(X_train_scaled, y_train, \r\n",
        "                    epochs=60,\r\n",
        "                    batch_size=32,\r\n",
        "                    validation_split=0.1)"
      ],
      "execution_count": 42,
      "outputs": [
        {
          "output_type": "stream",
          "text": [
            "Epoch 1/60\n",
            "407/407 [==============================] - 1s 3ms/step - loss: 3.0029 - mean_squared_error: 3.0029 - val_loss: 2.4778 - val_mean_squared_error: 2.4778\n",
            "Epoch 2/60\n",
            "407/407 [==============================] - 1s 2ms/step - loss: 2.2250 - mean_squared_error: 2.2250 - val_loss: 1.8568 - val_mean_squared_error: 1.8568\n",
            "Epoch 3/60\n",
            "407/407 [==============================] - 1s 2ms/step - loss: 1.7037 - mean_squared_error: 1.7037 - val_loss: 1.5328 - val_mean_squared_error: 1.5328\n",
            "Epoch 4/60\n",
            "407/407 [==============================] - 1s 2ms/step - loss: 1.4727 - mean_squared_error: 1.4727 - val_loss: 1.4105 - val_mean_squared_error: 1.4105\n",
            "Epoch 5/60\n",
            "407/407 [==============================] - 1s 2ms/step - loss: 1.4053 - mean_squared_error: 1.4053 - val_loss: 1.3736 - val_mean_squared_error: 1.3736\n",
            "Epoch 6/60\n",
            "407/407 [==============================] - 1s 2ms/step - loss: 1.3080 - mean_squared_error: 1.3080 - val_loss: 1.3637 - val_mean_squared_error: 1.3637\n",
            "Epoch 7/60\n",
            "407/407 [==============================] - 1s 2ms/step - loss: 1.3467 - mean_squared_error: 1.3467 - val_loss: 1.3611 - val_mean_squared_error: 1.3611\n",
            "Epoch 8/60\n",
            "407/407 [==============================] - 1s 2ms/step - loss: 1.3413 - mean_squared_error: 1.3413 - val_loss: 1.3601 - val_mean_squared_error: 1.3601\n",
            "Epoch 9/60\n",
            "407/407 [==============================] - 1s 2ms/step - loss: 1.3298 - mean_squared_error: 1.3298 - val_loss: 1.3595 - val_mean_squared_error: 1.3595\n",
            "Epoch 10/60\n",
            "407/407 [==============================] - 1s 2ms/step - loss: 1.2972 - mean_squared_error: 1.2972 - val_loss: 1.3590 - val_mean_squared_error: 1.3590\n",
            "Epoch 11/60\n",
            "407/407 [==============================] - 1s 2ms/step - loss: 1.3260 - mean_squared_error: 1.3260 - val_loss: 1.3585 - val_mean_squared_error: 1.3585\n",
            "Epoch 12/60\n",
            "407/407 [==============================] - 1s 2ms/step - loss: 1.3390 - mean_squared_error: 1.3390 - val_loss: 1.3579 - val_mean_squared_error: 1.3579\n",
            "Epoch 13/60\n",
            "407/407 [==============================] - 1s 2ms/step - loss: 1.3311 - mean_squared_error: 1.3311 - val_loss: 1.3571 - val_mean_squared_error: 1.3571\n",
            "Epoch 14/60\n",
            "407/407 [==============================] - 1s 2ms/step - loss: 1.3111 - mean_squared_error: 1.3111 - val_loss: 1.3562 - val_mean_squared_error: 1.3562\n",
            "Epoch 15/60\n",
            "407/407 [==============================] - 1s 2ms/step - loss: 1.3574 - mean_squared_error: 1.3574 - val_loss: 1.3551 - val_mean_squared_error: 1.3551\n",
            "Epoch 16/60\n",
            "407/407 [==============================] - 1s 2ms/step - loss: 1.3579 - mean_squared_error: 1.3579 - val_loss: 1.3537 - val_mean_squared_error: 1.3537\n",
            "Epoch 17/60\n",
            "407/407 [==============================] - 1s 2ms/step - loss: 1.3312 - mean_squared_error: 1.3312 - val_loss: 1.3519 - val_mean_squared_error: 1.3519\n",
            "Epoch 18/60\n",
            "407/407 [==============================] - 1s 2ms/step - loss: 1.3399 - mean_squared_error: 1.3399 - val_loss: 1.3496 - val_mean_squared_error: 1.3496\n",
            "Epoch 19/60\n",
            "407/407 [==============================] - 1s 2ms/step - loss: 1.3387 - mean_squared_error: 1.3387 - val_loss: 1.3465 - val_mean_squared_error: 1.3465\n",
            "Epoch 20/60\n",
            "407/407 [==============================] - 1s 2ms/step - loss: 1.3086 - mean_squared_error: 1.3086 - val_loss: 1.3423 - val_mean_squared_error: 1.3423\n",
            "Epoch 21/60\n",
            "407/407 [==============================] - 1s 2ms/step - loss: 1.3049 - mean_squared_error: 1.3049 - val_loss: 1.3364 - val_mean_squared_error: 1.3364\n",
            "Epoch 22/60\n",
            "407/407 [==============================] - 1s 2ms/step - loss: 1.3243 - mean_squared_error: 1.3243 - val_loss: 1.3278 - val_mean_squared_error: 1.3278\n",
            "Epoch 23/60\n",
            "407/407 [==============================] - 1s 2ms/step - loss: 1.2903 - mean_squared_error: 1.2903 - val_loss: 1.3145 - val_mean_squared_error: 1.3145\n",
            "Epoch 24/60\n",
            "407/407 [==============================] - 1s 2ms/step - loss: 1.2843 - mean_squared_error: 1.2843 - val_loss: 1.2925 - val_mean_squared_error: 1.2925\n",
            "Epoch 25/60\n",
            "407/407 [==============================] - 1s 2ms/step - loss: 1.2601 - mean_squared_error: 1.2601 - val_loss: 1.2535 - val_mean_squared_error: 1.2535\n",
            "Epoch 26/60\n",
            "407/407 [==============================] - 1s 2ms/step - loss: 1.1917 - mean_squared_error: 1.1917 - val_loss: 1.1790 - val_mean_squared_error: 1.1790\n",
            "Epoch 27/60\n",
            "407/407 [==============================] - 1s 2ms/step - loss: 1.1264 - mean_squared_error: 1.1264 - val_loss: 1.0381 - val_mean_squared_error: 1.0381\n",
            "Epoch 28/60\n",
            "407/407 [==============================] - 1s 2ms/step - loss: 0.9753 - mean_squared_error: 0.9753 - val_loss: 0.8523 - val_mean_squared_error: 0.8523\n",
            "Epoch 29/60\n",
            "407/407 [==============================] - 1s 2ms/step - loss: 0.8000 - mean_squared_error: 0.8000 - val_loss: 0.7429 - val_mean_squared_error: 0.7429\n",
            "Epoch 30/60\n",
            "407/407 [==============================] - 1s 2ms/step - loss: 0.7323 - mean_squared_error: 0.7323 - val_loss: 0.7003 - val_mean_squared_error: 0.7003\n",
            "Epoch 31/60\n",
            "407/407 [==============================] - 1s 2ms/step - loss: 0.6973 - mean_squared_error: 0.6973 - val_loss: 0.6766 - val_mean_squared_error: 0.6766\n",
            "Epoch 32/60\n",
            "407/407 [==============================] - 1s 2ms/step - loss: 0.6779 - mean_squared_error: 0.6779 - val_loss: 0.6618 - val_mean_squared_error: 0.6618\n",
            "Epoch 33/60\n",
            "407/407 [==============================] - 1s 2ms/step - loss: 0.6545 - mean_squared_error: 0.6545 - val_loss: 0.6488 - val_mean_squared_error: 0.6488\n",
            "Epoch 34/60\n",
            "407/407 [==============================] - 1s 2ms/step - loss: 0.6547 - mean_squared_error: 0.6547 - val_loss: 0.6342 - val_mean_squared_error: 0.6342\n",
            "Epoch 35/60\n",
            "407/407 [==============================] - 1s 2ms/step - loss: 0.6222 - mean_squared_error: 0.6222 - val_loss: 0.6223 - val_mean_squared_error: 0.6223\n",
            "Epoch 36/60\n",
            "407/407 [==============================] - 1s 2ms/step - loss: 0.6023 - mean_squared_error: 0.6023 - val_loss: 0.6109 - val_mean_squared_error: 0.6109\n",
            "Epoch 37/60\n",
            "407/407 [==============================] - 1s 2ms/step - loss: 0.5993 - mean_squared_error: 0.5993 - val_loss: 0.6000 - val_mean_squared_error: 0.6000\n",
            "Epoch 38/60\n",
            "407/407 [==============================] - 1s 2ms/step - loss: 0.5698 - mean_squared_error: 0.5698 - val_loss: 0.5884 - val_mean_squared_error: 0.5884\n",
            "Epoch 39/60\n",
            "407/407 [==============================] - 1s 2ms/step - loss: 0.5757 - mean_squared_error: 0.5757 - val_loss: 0.5780 - val_mean_squared_error: 0.5780\n",
            "Epoch 40/60\n",
            "407/407 [==============================] - 1s 2ms/step - loss: 0.5659 - mean_squared_error: 0.5659 - val_loss: 0.5679 - val_mean_squared_error: 0.5679\n",
            "Epoch 41/60\n",
            "407/407 [==============================] - 1s 2ms/step - loss: 0.5403 - mean_squared_error: 0.5403 - val_loss: 0.5561 - val_mean_squared_error: 0.5561\n",
            "Epoch 42/60\n",
            "407/407 [==============================] - 1s 2ms/step - loss: 0.5544 - mean_squared_error: 0.5544 - val_loss: 0.5468 - val_mean_squared_error: 0.5468\n",
            "Epoch 43/60\n",
            "407/407 [==============================] - 1s 2ms/step - loss: 0.5465 - mean_squared_error: 0.5465 - val_loss: 0.5376 - val_mean_squared_error: 0.5376\n",
            "Epoch 44/60\n",
            "407/407 [==============================] - 1s 2ms/step - loss: 0.5068 - mean_squared_error: 0.5068 - val_loss: 0.5312 - val_mean_squared_error: 0.5312\n",
            "Epoch 45/60\n",
            "407/407 [==============================] - 1s 2ms/step - loss: 0.5079 - mean_squared_error: 0.5079 - val_loss: 0.5238 - val_mean_squared_error: 0.5238\n",
            "Epoch 46/60\n",
            "407/407 [==============================] - 1s 2ms/step - loss: 0.4915 - mean_squared_error: 0.4915 - val_loss: 0.5170 - val_mean_squared_error: 0.5170\n",
            "Epoch 47/60\n",
            "407/407 [==============================] - 1s 2ms/step - loss: 0.4858 - mean_squared_error: 0.4858 - val_loss: 0.5110 - val_mean_squared_error: 0.5110\n",
            "Epoch 48/60\n",
            "407/407 [==============================] - 1s 2ms/step - loss: 0.5143 - mean_squared_error: 0.5143 - val_loss: 0.5067 - val_mean_squared_error: 0.5067\n",
            "Epoch 49/60\n",
            "407/407 [==============================] - 1s 2ms/step - loss: 0.4860 - mean_squared_error: 0.4860 - val_loss: 0.5030 - val_mean_squared_error: 0.5030\n",
            "Epoch 50/60\n",
            "407/407 [==============================] - 1s 2ms/step - loss: 0.4715 - mean_squared_error: 0.4715 - val_loss: 0.5011 - val_mean_squared_error: 0.5011\n",
            "Epoch 51/60\n",
            "407/407 [==============================] - 1s 2ms/step - loss: 0.4781 - mean_squared_error: 0.4781 - val_loss: 0.4973 - val_mean_squared_error: 0.4973\n",
            "Epoch 52/60\n",
            "407/407 [==============================] - 1s 2ms/step - loss: 0.4970 - mean_squared_error: 0.4970 - val_loss: 0.4955 - val_mean_squared_error: 0.4955\n",
            "Epoch 53/60\n",
            "407/407 [==============================] - 1s 2ms/step - loss: 0.4673 - mean_squared_error: 0.4673 - val_loss: 0.4934 - val_mean_squared_error: 0.4934\n",
            "Epoch 54/60\n",
            "407/407 [==============================] - 1s 2ms/step - loss: 0.4665 - mean_squared_error: 0.4665 - val_loss: 0.4903 - val_mean_squared_error: 0.4903\n",
            "Epoch 55/60\n",
            "407/407 [==============================] - 1s 2ms/step - loss: 0.4580 - mean_squared_error: 0.4580 - val_loss: 0.4904 - val_mean_squared_error: 0.4904\n",
            "Epoch 56/60\n",
            "407/407 [==============================] - 1s 2ms/step - loss: 0.4824 - mean_squared_error: 0.4824 - val_loss: 0.4876 - val_mean_squared_error: 0.4876\n",
            "Epoch 57/60\n",
            "407/407 [==============================] - 1s 2ms/step - loss: 0.4753 - mean_squared_error: 0.4753 - val_loss: 0.4851 - val_mean_squared_error: 0.4851\n",
            "Epoch 58/60\n",
            "407/407 [==============================] - 1s 2ms/step - loss: 0.4641 - mean_squared_error: 0.4641 - val_loss: 0.4838 - val_mean_squared_error: 0.4838\n",
            "Epoch 59/60\n",
            "407/407 [==============================] - 1s 2ms/step - loss: 0.4535 - mean_squared_error: 0.4535 - val_loss: 0.4822 - val_mean_squared_error: 0.4822\n",
            "Epoch 60/60\n",
            "407/407 [==============================] - 1s 2ms/step - loss: 0.4571 - mean_squared_error: 0.4571 - val_loss: 0.4799 - val_mean_squared_error: 0.4799\n"
          ],
          "name": "stdout"
        }
      ]
    },
    {
      "cell_type": "code",
      "metadata": {
        "colab": {
          "base_uri": "https://localhost:8080/",
          "height": 282
        },
        "id": "_rpxoEzgGg4X",
        "outputId": "7f98b4f8-fd00-4002-aa72-6986a1523275"
      },
      "source": [
        "history_df = pd.DataFrame(history.history)\r\n",
        "history_df[['loss', 'val_loss']].plot(kind='line')"
      ],
      "execution_count": 43,
      "outputs": [
        {
          "output_type": "execute_result",
          "data": {
            "text/plain": [
              "<matplotlib.axes._subplots.AxesSubplot at 0x7fa1ffd40f60>"
            ]
          },
          "metadata": {
            "tags": []
          },
          "execution_count": 43
        },
        {
          "output_type": "display_data",
          "data": {
            "image/png": "[encoded data removed]",
            "text/plain": [
              "<Figure size 432x288 with 1 Axes>"
            ]
          },
          "metadata": {
            "tags": [],
            "needs_background": "light"
          }
        }
      ]
    },
    {
      "cell_type": "code",
      "metadata": {
        "colab": {
          "base_uri": "https://localhost:8080/"
        },
        "id": "6auA4aw8Gz38",
        "outputId": "ca75872c-293a-4ca8-f0cd-ac9030db4b9d"
      },
      "source": [
        "predictions = model.predict(X_test_scaled)\r\n",
        "print('R2:', r2_score(y_test, predictions))\r\n",
        "print('MSE:', mean_squared_error(y_test, predictions))"
      ],
      "execution_count": 44,
      "outputs": [
        {
          "output_type": "stream",
          "text": [
            "R2: 0.6493164194181347\n",
            "MSE: 0.46028626466547323\n"
          ],
          "name": "stdout"
        }
      ]
    },
    {
      "cell_type": "markdown",
      "metadata": {
        "id": "4XW8eIhbnRwX"
      },
      "source": [
        "## Different layer weight initializers"
      ]
    },
    {
      "cell_type": "code",
      "metadata": {
        "id": "W9uePY_JoQz-",
        "colab": {
          "base_uri": "https://localhost:8080/"
        },
        "outputId": "18b9eaa8-b53f-4159-f1e0-e3500c797a73"
      },
      "source": [
        "[name for name in dir(tf.keras.initializers) if not name.startswith(\"_\")]"
      ],
      "execution_count": null,
      "outputs": [
        {
          "output_type": "execute_result",
          "data": {
            "text/plain": [
              "['Constant',\n",
              " 'GlorotNormal',\n",
              " 'GlorotUniform',\n",
              " 'HeNormal',\n",
              " 'HeUniform',\n",
              " 'Identity',\n",
              " 'Initializer',\n",
              " 'LecunNormal',\n",
              " 'LecunUniform',\n",
              " 'Ones',\n",
              " 'Orthogonal',\n",
              " 'RandomNormal',\n",
              " 'RandomUniform',\n",
              " 'TruncatedNormal',\n",
              " 'VarianceScaling',\n",
              " 'Zeros',\n",
              " 'constant',\n",
              " 'deserialize',\n",
              " 'get',\n",
              " 'glorot_normal',\n",
              " 'glorot_uniform',\n",
              " 'he_normal',\n",
              " 'he_uniform',\n",
              " 'identity',\n",
              " 'lecun_normal',\n",
              " 'lecun_uniform',\n",
              " 'ones',\n",
              " 'orthogonal',\n",
              " 'random_normal',\n",
              " 'random_uniform',\n",
              " 'serialize',\n",
              " 'truncated_normal',\n",
              " 'variance_scaling',\n",
              " 'zeros']"
            ]
          },
          "metadata": {
            "tags": []
          },
          "execution_count": 71
        }
      ]
    },
    {
      "cell_type": "code",
      "metadata": {
        "id": "6M2MsyW5oSjY",
        "colab": {
          "base_uri": "https://localhost:8080/",
          "height": 265
        },
        "outputId": "3f629227-f06d-4922-ed8e-bc92ee6be13d"
      },
      "source": [
        "input_x = np.array([[1]])\n",
        "dense1 = tf.keras.layers.Dense(100, activation=\"relu\", kernel_initializer=\"uniform\", input_shape=(input_x.shape[0],))\n",
        "y = dense1(input_x)\n",
        "plt.hist(dense1.weights[0][0]);"
      ],
      "execution_count": null,
      "outputs": [
        {
          "output_type": "display_data",
          "data": {
            "image/png": "[encoded data removed]",
            "text/plain": [
              "<Figure size 432x288 with 1 Axes>"
            ]
          },
          "metadata": {
            "tags": [],
            "needs_background": "light"
          }
        }
      ]
    },
    {
      "cell_type": "code",
      "metadata": {
        "id": "YOvYsYYqocG7",
        "colab": {
          "base_uri": "https://localhost:8080/",
          "height": 265
        },
        "outputId": "9b664579-a3da-403d-e5b0-8da21b02ae0a"
      },
      "source": [
        "input_x = np.array([[1]])\n",
        "dense1 = tf.keras.layers.Dense(100, activation=\"relu\", kernel_initializer=\"glorot_uniform\", input_shape=(input_x.shape[0],))\n",
        "y = dense1(input_x)\n",
        "plt.hist(dense1.weights[0][0]);"
      ],
      "execution_count": null,
      "outputs": [
        {
          "output_type": "display_data",
          "data": {
            "image/png": "[encoded data removed]",
            "text/plain": [
              "<Figure size 432x288 with 1 Axes>"
            ]
          },
          "metadata": {
            "tags": [],
            "needs_background": "light"
          }
        }
      ]
    },
    {
      "cell_type": "code",
      "metadata": {
        "id": "muC-thr4qrXp",
        "colab": {
          "base_uri": "https://localhost:8080/",
          "height": 265
        },
        "outputId": "f1f4dee3-107d-4448-f3b1-5454ab4ddcb1"
      },
      "source": [
        "input_x = np.array([[1]])\n",
        "dense1 = tf.keras.layers.Dense(100, activation=\"relu\", kernel_initializer=\"lecun_uniform\", input_shape=(input_x.shape[0],))\n",
        "y = dense1(input_x)\n",
        "plt.hist(dense1.weights[0][0]);"
      ],
      "execution_count": null,
      "outputs": [
        {
          "output_type": "display_data",
          "data": {
            "image/png": "[encoded data removed]",
            "text/plain": [
              "<Figure size 432x288 with 1 Axes>"
            ]
          },
          "metadata": {
            "tags": [],
            "needs_background": "light"
          }
        }
      ]
    },
    {
      "cell_type": "code",
      "metadata": {
        "id": "55XrpZ1CodnE",
        "colab": {
          "base_uri": "https://localhost:8080/",
          "height": 265
        },
        "outputId": "11d4bbf7-c678-4516-d30e-57092021dcd0"
      },
      "source": [
        "input_x = np.array([[1]])\n",
        "dense1 = tf.keras.layers.Dense(100, activation=\"relu\", kernel_initializer=\"lecun_normal\", input_shape=(input_x.shape[0],))\n",
        "y = dense1(input_x)\n",
        "plt.hist(dense1.weights[0][0]);"
      ],
      "execution_count": null,
      "outputs": [
        {
          "output_type": "display_data",
          "data": {
            "image/png": "[encoded data removed]",
            "text/plain": [
              "<Figure size 432x288 with 1 Axes>"
            ]
          },
          "metadata": {
            "tags": [],
            "needs_background": "light"
          }
        }
      ]
    },
    {
      "cell_type": "code",
      "metadata": {
        "id": "flgRy7dMpGae",
        "colab": {
          "base_uri": "https://localhost:8080/",
          "height": 265
        },
        "outputId": "fc4c6597-f894-44da-b938-e1ba19b354aa"
      },
      "source": [
        "input_x = np.array([[1]])\n",
        "dense1 = tf.keras.layers.Dense(100, activation=\"relu\", kernel_initializer=\"random_normal\", input_shape=(input_x.shape[0],))\n",
        "y = dense1(input_x)\n",
        "plt.hist(dense1.weights[0][0]);"
      ],
      "execution_count": null,
      "outputs": [
        {
          "output_type": "display_data",
          "data": {
            "image/png": "[encoded data removed]",
            "text/plain": [
              "<Figure size 432x288 with 1 Axes>"
            ]
          },
          "metadata": {
            "tags": [],
            "needs_background": "light"
          }
        }
      ]
    },
    {
      "cell_type": "markdown",
      "metadata": {
        "id": "JNLaa7Ju3C-j"
      },
      "source": [
        "# 4. Gradient Descent & Custom Training Loops"
      ]
    },
    {
      "cell_type": "markdown",
      "metadata": {
        "id": "1qH1Cl_a3eH_"
      },
      "source": [
        "## 4.1: Implement Gradient Descent manually \n",
        "\n",
        "Find the value of x that minimizes the following function f(x).\n",
        "\n"
      ]
    },
    {
      "cell_type": "code",
      "metadata": {
        "id": "th6T9ySdr6S3"
      },
      "source": [
        "def f(x):\n",
        "    return 5. * x ** 2 + 3. * x + 1."
      ],
      "execution_count": 45,
      "outputs": []
    },
    {
      "cell_type": "code",
      "metadata": {
        "id": "wd_XcD31szPV",
        "colab": {
          "base_uri": "https://localhost:8080/"
        },
        "outputId": "7f0648a0-1c04-4ae8-eeda-2f28fa09d959"
      },
      "source": [
        "f(1)"
      ],
      "execution_count": 46,
      "outputs": [
        {
          "output_type": "execute_result",
          "data": {
            "text/plain": [
              "9.0"
            ]
          },
          "metadata": {
            "tags": []
          },
          "execution_count": 46
        }
      ]
    },
    {
      "cell_type": "code",
      "metadata": {
        "id": "t3uyAKm8s0Ko"
      },
      "source": [
        "def approximate_diff(f, x, eps=1e-5):\n",
        "    return (f(x + eps) - f(x - eps)) / (2. * eps)"
      ],
      "execution_count": 47,
      "outputs": []
    },
    {
      "cell_type": "code",
      "metadata": {
        "id": "HQqBpTMJs4JX",
        "colab": {
          "base_uri": "https://localhost:8080/"
        },
        "outputId": "f57a1ac9-0fac-4a1c-edc1-a29a391daeac"
      },
      "source": [
        "approximate_diff(f, 1) # true derivative = 13"
      ],
      "execution_count": 50,
      "outputs": [
        {
          "output_type": "execute_result",
          "data": {
            "text/plain": [
              "13.000000000040755"
            ]
          },
          "metadata": {
            "tags": []
          },
          "execution_count": 50
        }
      ]
    },
    {
      "cell_type": "markdown",
      "metadata": {
        "id": "btpRqeKX3j-L"
      },
      "source": [
        "# 4.2: Visualize function space"
      ]
    },
    {
      "cell_type": "code",
      "metadata": {
        "id": "pEkwnvd3s601",
        "colab": {
          "base_uri": "https://localhost:8080/",
          "height": 287
        },
        "outputId": "ab6b1350-97e6-454c-9a81-57cdf37d47c9"
      },
      "source": [
        "xs = np.linspace(-2, 2, 200)\n",
        "fs = f(xs)\n",
        "x0 = 0.25\n",
        "df_x0 = approximate_diff(f, x0)\n",
        "tangent_x0 = df_x0 * (xs - x0) + f(x0)\n",
        "plt.plot([-2, 2], [0, 0], \"k-\", linewidth=1)\n",
        "plt.plot([0, 0], [-5, 15], \"k-\", linewidth=1)\n",
        "plt.plot(xs, fs)\n",
        "plt.plot(xs, tangent_x0, \"r--\")\n",
        "plt.plot(x0, f(x0), \"ro\")\n",
        "plt.grid(True)\n",
        "plt.xlabel(\"x\", fontsize=14)\n",
        "plt.ylabel(\"f(x)\", fontsize=14, rotation=0)\n",
        "plt.axis([-2, 2, -5, 15]);"
      ],
      "execution_count": 49,
      "outputs": [
        {
          "output_type": "display_data",
          "data": {
            "image/png": "[encoded data removed]",
            "text/plain": [
              "<Figure size 432x288 with 1 Axes>"
            ]
          },
          "metadata": {
            "tags": [],
            "needs_background": "light"
          }
        }
      ]
    },
    {
      "cell_type": "markdown",
      "metadata": {
        "id": "zPVKnTCH4EIH"
      },
      "source": [
        "## 4.4: Gradient Tape for fast diff"
      ]
    },
    {
      "cell_type": "code",
      "metadata": {
        "id": "SobkFYXdvti0",
        "colab": {
          "base_uri": "https://localhost:8080/"
        },
        "outputId": "5829c15d-e4af-4199-9d0c-baf19d0a6fcb"
      },
      "source": [
        "x = tf.Variable(1.0)\n",
        "\n",
        "with tf.GradientTape() as tape:\n",
        "    z = f(x)\n",
        "grads = tape.gradient(z, [x])\n",
        "grads"
      ],
      "execution_count": 71,
      "outputs": [
        {
          "output_type": "execute_result",
          "data": {
            "text/plain": [
              "[<tf.Tensor: shape=(), dtype=float32, numpy=13.0>]"
            ]
          },
          "metadata": {
            "tags": []
          },
          "execution_count": 71
        }
      ]
    },
    {
      "cell_type": "code",
      "metadata": {
        "colab": {
          "base_uri": "https://localhost:8080/"
        },
        "id": "uBc9oG_pPE5R",
        "outputId": "0230cb16-2e85-4732-afb2-80e9a815b453"
      },
      "source": [
        "x = tf.Variable(0.)\r\n",
        "\r\n",
        "with tf.GradientTape() as tape:\r\n",
        "    z = f(x)\r\n",
        "grads = tape.gradient(z, [x])\r\n",
        "grads"
      ],
      "execution_count": 73,
      "outputs": [
        {
          "output_type": "execute_result",
          "data": {
            "text/plain": [
              "[<tf.Tensor: shape=(), dtype=float32, numpy=3.0>]"
            ]
          },
          "metadata": {
            "tags": []
          },
          "execution_count": 73
        }
      ]
    },
    {
      "cell_type": "markdown",
      "metadata": {
        "id": "BgEtmUQg4N7O"
      },
      "source": [
        "## 4.5: Gradient descent with Gradient Tape"
      ]
    },
    {
      "cell_type": "code",
      "metadata": {
        "id": "WNTgOqiKxYfs"
      },
      "source": [
        "def f(x):\n",
        "    return 5 * x ** 2 + 3 * x + 1."
      ],
      "execution_count": 59,
      "outputs": []
    },
    {
      "cell_type": "code",
      "metadata": {
        "colab": {
          "base_uri": "https://localhost:8080/",
          "height": 287
        },
        "id": "2OwtUVrwMnED",
        "outputId": "d08550fd-543d-4707-d120-75d027705032"
      },
      "source": [
        "xs = np.linspace(-2, 2, 200)\r\n",
        "fs = f(xs)\r\n",
        "x0 = 0.5\r\n",
        "df_x0 = approximate_diff(f, x0)\r\n",
        "tangent_x0 = df_x0 * (xs - x0) + f(x0)\r\n",
        "plt.plot([-2, 2], [0, 0], \"k-\", linewidth=1)\r\n",
        "plt.plot([0, 0], [-5, 15], \"k-\", linewidth=1)\r\n",
        "plt.plot(xs, fs)\r\n",
        "plt.plot(xs, tangent_x0, \"r--\")\r\n",
        "plt.plot(x0, f(x0), \"ro\")\r\n",
        "plt.grid(True)\r\n",
        "plt.xlabel(\"x\", fontsize=14)\r\n",
        "plt.ylabel(\"f(x)\", fontsize=14, rotation=0)\r\n",
        "plt.axis([-2, 2, -5, 15]);"
      ],
      "execution_count": 68,
      "outputs": [
        {
          "output_type": "display_data",
          "data": {
            "image/png": "[encoded data removed]",
            "text/plain": [
              "<Figure size 432x288 with 1 Axes>"
            ]
          },
          "metadata": {
            "tags": [],
            "needs_background": "light"
          }
        }
      ]
    },
    {
      "cell_type": "code",
      "metadata": {
        "id": "dz-BjXzQyc2w",
        "colab": {
          "base_uri": "https://localhost:8080/"
        },
        "outputId": "49dc0a33-f0b8-4628-a25c-b0598c86546b"
      },
      "source": [
        "learning_rate = 0.1\n",
        "x = tf.Variable(0.)\n",
        "\n",
        "for i, epoch in enumerate(range(10)):\n",
        "    with tf.GradientTape() as tape:\n",
        "        z = f(x)\n",
        "    dz_dx = tape.gradient(z, x)\n",
        "    print('Epoch:', i, 'Grad:', dz_dx.numpy())\n",
        "    x.assign_sub(learning_rate * dz_dx)"
      ],
      "execution_count": 60,
      "outputs": [
        {
          "output_type": "stream",
          "text": [
            "Epoch: 0 Grad: 3.0\n",
            "Epoch: 1 Grad: -4.7683716e-07\n",
            "Epoch: 2 Grad: 4.7683716e-07\n",
            "Epoch: 3 Grad: -4.7683716e-07\n",
            "Epoch: 4 Grad: 4.7683716e-07\n",
            "Epoch: 5 Grad: -4.7683716e-07\n",
            "Epoch: 6 Grad: 4.7683716e-07\n",
            "Epoch: 7 Grad: -4.7683716e-07\n",
            "Epoch: 8 Grad: 4.7683716e-07\n",
            "Epoch: 9 Grad: -4.7683716e-07\n"
          ],
          "name": "stdout"
        }
      ]
    },
    {
      "cell_type": "code",
      "metadata": {
        "id": "xYJVp-q0y3jz",
        "colab": {
          "base_uri": "https://localhost:8080/"
        },
        "outputId": "ba282a61-f3a1-47e1-c6a1-58c22866ddfd"
      },
      "source": [
        "x.numpy()"
      ],
      "execution_count": 61,
      "outputs": [
        {
          "output_type": "execute_result",
          "data": {
            "text/plain": [
              "-0.29999995"
            ]
          },
          "metadata": {
            "tags": []
          },
          "execution_count": 61
        }
      ]
    },
    {
      "cell_type": "code",
      "metadata": {
        "id": "LVhhitHUy9EY",
        "colab": {
          "base_uri": "https://localhost:8080/"
        },
        "outputId": "bd988222-0b35-4997-85a2-2158777465d6"
      },
      "source": [
        "f(x.numpy())"
      ],
      "execution_count": 62,
      "outputs": [
        {
          "output_type": "execute_result",
          "data": {
            "text/plain": [
              "0.5500000000000114"
            ]
          },
          "metadata": {
            "tags": []
          },
          "execution_count": 62
        }
      ]
    },
    {
      "cell_type": "code",
      "metadata": {
        "id": "XtX8DczaR_H8",
        "colab": {
          "base_uri": "https://localhost:8080/",
          "height": 287
        },
        "outputId": "8007fd14-c997-4ba8-da00-5a8232eea156"
      },
      "source": [
        "xs = np.linspace(-2, 2, 200)\r\n",
        "fs = f(xs)\r\n",
        "x0 = x.numpy()\r\n",
        "df_x0 = approximate_diff(f, x0)\r\n",
        "tangent_x0 = df_x0 * (xs - x0) + f(x0)\r\n",
        "plt.plot([-2, 2], [0, 0], \"k-\", linewidth=1)\r\n",
        "plt.plot([0, 0], [-5, 15], \"k-\", linewidth=1)\r\n",
        "plt.plot(xs, fs)\r\n",
        "plt.plot(xs, tangent_x0, \"r--\")\r\n",
        "plt.plot(x0, f(x0), \"ro\")\r\n",
        "plt.grid(True)\r\n",
        "plt.xlabel(\"x\", fontsize=14)\r\n",
        "plt.ylabel(\"f(x)\", fontsize=14, rotation=0)\r\n",
        "plt.axis([-2, 2, -5, 15]);"
      ],
      "execution_count": 69,
      "outputs": [
        {
          "output_type": "display_data",
          "data": {
            "image/png": "[encoded data removed]",
            "text/plain": [
              "<Figure size 432x288 with 1 Axes>"
            ]
          },
          "metadata": {
            "tags": [],
            "needs_background": "light"
          }
        }
      ]
    },
    {
      "cell_type": "code",
      "metadata": {
        "id": "CQhi7LNjzDqu",
        "colab": {
          "base_uri": "https://localhost:8080/"
        },
        "outputId": "66ba45fe-ef40-44ed-93a7-7ebb63fea12f"
      },
      "source": [
        "learning_rate = 0.01\n",
        "x = tf.Variable(0.)\n",
        "\n",
        "for i, epoch in enumerate(range(150)):\n",
        "    with tf.GradientTape() as tape:\n",
        "        z = f(x)\n",
        "    dz_dx = tape.gradient(z, x)\n",
        "    print('Epoch:', i, 'Grad:', dz_dx.numpy())\n",
        "    x.assign_sub(learning_rate * dz_dx)"
      ],
      "execution_count": null,
      "outputs": [
        {
          "output_type": "stream",
          "text": [
            "Epoch: 0 Grad: 3.0\n",
            "Epoch: 1 Grad: 2.7\n",
            "Epoch: 2 Grad: 2.43\n",
            "Epoch: 3 Grad: 2.187\n",
            "Epoch: 4 Grad: 1.9683\n",
            "Epoch: 5 Grad: 1.7714701\n",
            "Epoch: 6 Grad: 1.5943232\n",
            "Epoch: 7 Grad: 1.4348907\n",
            "Epoch: 8 Grad: 1.2914017\n",
            "Epoch: 9 Grad: 1.1622615\n",
            "Epoch: 10 Grad: 1.0460356\n",
            "Epoch: 11 Grad: 0.94143176\n",
            "Epoch: 12 Grad: 0.8472886\n",
            "Epoch: 13 Grad: 0.7625599\n",
            "Epoch: 14 Grad: 0.6863041\n",
            "Epoch: 15 Grad: 0.61767364\n",
            "Epoch: 16 Grad: 0.5559063\n",
            "Epoch: 17 Grad: 0.5003152\n",
            "Epoch: 18 Grad: 0.450284\n",
            "Epoch: 19 Grad: 0.4052558\n",
            "Epoch: 20 Grad: 0.3647306\n",
            "Epoch: 21 Grad: 0.32825756\n",
            "Epoch: 22 Grad: 0.2954316\n",
            "Epoch: 23 Grad: 0.26588845\n",
            "Epoch: 24 Grad: 0.2392993\n",
            "Epoch: 25 Grad: 0.2153697\n",
            "Epoch: 26 Grad: 0.1938324\n",
            "Epoch: 27 Grad: 0.17444944\n",
            "Epoch: 28 Grad: 0.15700436\n",
            "Epoch: 29 Grad: 0.14130402\n",
            "Epoch: 30 Grad: 0.12717342\n",
            "Epoch: 31 Grad: 0.11445618\n",
            "Epoch: 32 Grad: 0.103010654\n",
            "Epoch: 33 Grad: 0.09270978\n",
            "Epoch: 34 Grad: 0.083438635\n",
            "Epoch: 35 Grad: 0.07509494\n",
            "Epoch: 36 Grad: 0.06758523\n",
            "Epoch: 37 Grad: 0.06082678\n",
            "Epoch: 38 Grad: 0.054744005\n",
            "Epoch: 39 Grad: 0.049269915\n",
            "Epoch: 40 Grad: 0.044342756\n",
            "Epoch: 41 Grad: 0.03990841\n",
            "Epoch: 42 Grad: 0.03591776\n",
            "Epoch: 43 Grad: 0.032325745\n",
            "Epoch: 44 Grad: 0.029093266\n",
            "Epoch: 45 Grad: 0.026183844\n",
            "Epoch: 46 Grad: 0.02356553\n",
            "Epoch: 47 Grad: 0.021209002\n",
            "Epoch: 48 Grad: 0.01908803\n",
            "Epoch: 49 Grad: 0.017179012\n",
            "Epoch: 50 Grad: 0.015461683\n",
            "Epoch: 51 Grad: 0.013915062\n",
            "Epoch: 52 Grad: 0.012523651\n",
            "Epoch: 53 Grad: 0.011271715\n",
            "Epoch: 54 Grad: 0.010144711\n",
            "Epoch: 55 Grad: 0.009130001\n",
            "Epoch: 56 Grad: 0.0082166195\n",
            "Epoch: 57 Grad: 0.007395029\n",
            "Epoch: 58 Grad: 0.006655693\n",
            "Epoch: 59 Grad: 0.00598979\n",
            "Epoch: 60 Grad: 0.005391121\n",
            "Epoch: 61 Grad: 0.0048520565\n",
            "Epoch: 62 Grad: 0.0043668747\n",
            "Epoch: 63 Grad: 0.0039305687\n",
            "Epoch: 64 Grad: 0.003537178\n",
            "Epoch: 65 Grad: 0.0031833649\n",
            "Epoch: 66 Grad: 0.002865076\n",
            "Epoch: 67 Grad: 0.0025787354\n",
            "Epoch: 68 Grad: 0.0023207664\n",
            "Epoch: 69 Grad: 0.0020887852\n",
            "Epoch: 70 Grad: 0.0018796921\n",
            "Epoch: 71 Grad: 0.0016918182\n",
            "Epoch: 72 Grad: 0.001522541\n",
            "Epoch: 73 Grad: 0.0013701916\n",
            "Epoch: 74 Grad: 0.0012333393\n",
            "Epoch: 75 Grad: 0.0011100769\n",
            "Epoch: 76 Grad: 0.0009989738\n",
            "Epoch: 77 Grad: 0.00089907646\n",
            "Epoch: 78 Grad: 0.00080895424\n",
            "Epoch: 79 Grad: 0.0007286072\n",
            "Epoch: 80 Grad: 0.0006556511\n",
            "Epoch: 81 Grad: 0.0005903244\n",
            "Epoch: 82 Grad: 0.0005311966\n",
            "Epoch: 83 Grad: 0.00047779083\n",
            "Epoch: 84 Grad: 0.00043010712\n",
            "Epoch: 85 Grad: 0.00038719177\n",
            "Epoch: 86 Grad: 0.00034880638\n",
            "Epoch: 87 Grad: 0.00031375885\n",
            "Epoch: 88 Grad: 0.00028276443\n",
            "Epoch: 89 Grad: 0.00025439262\n",
            "Epoch: 90 Grad: 0.00022912025\n",
            "Epoch: 91 Grad: 0.00020599365\n",
            "Epoch: 92 Grad: 0.00018548965\n",
            "Epoch: 93 Grad: 0.000166893\n",
            "Epoch: 94 Grad: 0.0001502037\n",
            "Epoch: 95 Grad: 0.00013542175\n",
            "Epoch: 96 Grad: 0.000121831894\n",
            "Epoch: 97 Grad: 0.00010967255\n",
            "Epoch: 98 Grad: 9.846687e-05\n",
            "Epoch: 99 Grad: 8.869171e-05\n",
            "Epoch: 100 Grad: 7.9631805e-05\n",
            "Epoch: 101 Grad: 7.176399e-05\n",
            "Epoch: 102 Grad: 6.4611435e-05\n",
            "Epoch: 103 Grad: 5.7935715e-05\n",
            "Epoch: 104 Grad: 5.2452087e-05\n",
            "Epoch: 105 Grad: 4.696846e-05\n",
            "Epoch: 106 Grad: 4.2438507e-05\n",
            "Epoch: 107 Grad: 3.8146973e-05\n",
            "Epoch: 108 Grad: 3.385544e-05\n",
            "Epoch: 109 Grad: 3.0994415e-05\n",
            "Epoch: 110 Grad: 2.7894974e-05\n",
            "Epoch: 111 Grad: 2.527237e-05\n",
            "Epoch: 112 Grad: 2.3126602e-05\n",
            "Epoch: 113 Grad: 2.0742416e-05\n",
            "Epoch: 114 Grad: 1.835823e-05\n",
            "Epoch: 115 Grad: 1.66893e-05\n",
            "Epoch: 116 Grad: 1.4781952e-05\n",
            "Epoch: 117 Grad: 1.335144e-05\n",
            "Epoch: 118 Grad: 1.21593475e-05\n",
            "Epoch: 119 Grad: 1.0967255e-05\n",
            "Epoch: 120 Grad: 9.775162e-06\n",
            "Epoch: 121 Grad: 8.583069e-06\n",
            "Epoch: 122 Grad: 7.867813e-06\n",
            "Epoch: 123 Grad: 7.1525574e-06\n",
            "Epoch: 124 Grad: 6.4373016e-06\n",
            "Epoch: 125 Grad: 5.722046e-06\n",
            "Epoch: 126 Grad: 5.2452087e-06\n",
            "Epoch: 127 Grad: 4.7683716e-06\n",
            "Epoch: 128 Grad: 4.053116e-06\n",
            "Epoch: 129 Grad: 3.8146973e-06\n",
            "Epoch: 130 Grad: 3.33786e-06\n",
            "Epoch: 131 Grad: 3.0994415e-06\n",
            "Epoch: 132 Grad: 2.861023e-06\n",
            "Epoch: 133 Grad: 2.6226044e-06\n",
            "Epoch: 134 Grad: 2.3841858e-06\n",
            "Epoch: 135 Grad: 1.66893e-06\n",
            "Epoch: 136 Grad: 1.4305115e-06\n",
            "Epoch: 137 Grad: 1.4305115e-06\n",
            "Epoch: 138 Grad: 1.4305115e-06\n",
            "Epoch: 139 Grad: 1.4305115e-06\n",
            "Epoch: 140 Grad: 1.4305115e-06\n",
            "Epoch: 141 Grad: 1.4305115e-06\n",
            "Epoch: 142 Grad: 1.4305115e-06\n",
            "Epoch: 143 Grad: 1.4305115e-06\n",
            "Epoch: 144 Grad: 1.4305115e-06\n",
            "Epoch: 145 Grad: 1.4305115e-06\n",
            "Epoch: 146 Grad: 1.4305115e-06\n",
            "Epoch: 147 Grad: 1.4305115e-06\n",
            "Epoch: 148 Grad: 1.4305115e-06\n",
            "Epoch: 149 Grad: 1.4305115e-06\n"
          ],
          "name": "stdout"
        }
      ]
    },
    {
      "cell_type": "code",
      "metadata": {
        "id": "QLT7cNt10BFS",
        "colab": {
          "base_uri": "https://localhost:8080/"
        },
        "outputId": "0400e92b-6e49-4a22-c1f1-e360a53e0ded"
      },
      "source": [
        "x.numpy()"
      ],
      "execution_count": null,
      "outputs": [
        {
          "output_type": "execute_result",
          "data": {
            "text/plain": [
              "-0.29999983"
            ]
          },
          "metadata": {
            "tags": []
          },
          "execution_count": 106
        }
      ]
    },
    {
      "cell_type": "code",
      "metadata": {
        "id": "Lb23k-Bi0W-v",
        "colab": {
          "base_uri": "https://localhost:8080/"
        },
        "outputId": "4860f908-c6cf-4deb-ae2c-a87860136e1a"
      },
      "source": [
        "f(x.numpy())"
      ],
      "execution_count": null,
      "outputs": [
        {
          "output_type": "execute_result",
          "data": {
            "text/plain": [
              "-1.4499999999998607"
            ]
          },
          "metadata": {
            "tags": []
          },
          "execution_count": 107
        }
      ]
    },
    {
      "cell_type": "code",
      "metadata": {
        "id": "z-1TmqE30h_8",
        "colab": {
          "base_uri": "https://localhost:8080/"
        },
        "outputId": "ecc5bb73-8a91-43b8-d531-8698b313ad3a"
      },
      "source": [
        "x = tf.Variable(0.)\n",
        "optimizer = tf.keras.optimizers.SGD(lr=0.01)\n",
        "\n",
        "for iteration in range(150):\n",
        "    with tf.GradientTape() as tape:\n",
        "        z = f(x)\n",
        "    dz_dx = tape.gradient(z, x)\n",
        "    print('Epoch:', i, 'Grad:', dz_dx.numpy())\n",
        "    optimizer.apply_gradients([(dz_dx, x)])"
      ],
      "execution_count": null,
      "outputs": [
        {
          "output_type": "stream",
          "text": [
            "Epoch: 149 Grad: 3.0\n",
            "Epoch: 149 Grad: 2.7\n",
            "Epoch: 149 Grad: 2.43\n",
            "Epoch: 149 Grad: 2.187\n",
            "Epoch: 149 Grad: 1.9683\n",
            "Epoch: 149 Grad: 1.7714701\n",
            "Epoch: 149 Grad: 1.5943232\n",
            "Epoch: 149 Grad: 1.4348907\n",
            "Epoch: 149 Grad: 1.2914017\n",
            "Epoch: 149 Grad: 1.1622615\n",
            "Epoch: 149 Grad: 1.0460356\n",
            "Epoch: 149 Grad: 0.94143176\n",
            "Epoch: 149 Grad: 0.8472886\n",
            "Epoch: 149 Grad: 0.7625599\n",
            "Epoch: 149 Grad: 0.6863041\n",
            "Epoch: 149 Grad: 0.61767364\n",
            "Epoch: 149 Grad: 0.5559063\n",
            "Epoch: 149 Grad: 0.5003152\n",
            "Epoch: 149 Grad: 0.450284\n",
            "Epoch: 149 Grad: 0.4052558\n",
            "Epoch: 149 Grad: 0.3647306\n",
            "Epoch: 149 Grad: 0.32825756\n",
            "Epoch: 149 Grad: 0.2954316\n",
            "Epoch: 149 Grad: 0.26588845\n",
            "Epoch: 149 Grad: 0.2392993\n",
            "Epoch: 149 Grad: 0.2153697\n",
            "Epoch: 149 Grad: 0.1938324\n",
            "Epoch: 149 Grad: 0.17444944\n",
            "Epoch: 149 Grad: 0.15700436\n",
            "Epoch: 149 Grad: 0.14130402\n",
            "Epoch: 149 Grad: 0.12717342\n",
            "Epoch: 149 Grad: 0.11445618\n",
            "Epoch: 149 Grad: 0.103010654\n",
            "Epoch: 149 Grad: 0.09270978\n",
            "Epoch: 149 Grad: 0.083438635\n",
            "Epoch: 149 Grad: 0.07509494\n",
            "Epoch: 149 Grad: 0.06758523\n",
            "Epoch: 149 Grad: 0.06082678\n",
            "Epoch: 149 Grad: 0.054744005\n",
            "Epoch: 149 Grad: 0.049269915\n",
            "Epoch: 149 Grad: 0.044342756\n",
            "Epoch: 149 Grad: 0.03990841\n",
            "Epoch: 149 Grad: 0.03591776\n",
            "Epoch: 149 Grad: 0.032325745\n",
            "Epoch: 149 Grad: 0.029093266\n",
            "Epoch: 149 Grad: 0.026183844\n",
            "Epoch: 149 Grad: 0.02356553\n",
            "Epoch: 149 Grad: 0.021209002\n",
            "Epoch: 149 Grad: 0.01908803\n",
            "Epoch: 149 Grad: 0.017179012\n",
            "Epoch: 149 Grad: 0.015461683\n",
            "Epoch: 149 Grad: 0.013915062\n",
            "Epoch: 149 Grad: 0.012523651\n",
            "Epoch: 149 Grad: 0.011271715\n",
            "Epoch: 149 Grad: 0.010144711\n",
            "Epoch: 149 Grad: 0.009130001\n",
            "Epoch: 149 Grad: 0.0082166195\n",
            "Epoch: 149 Grad: 0.007395029\n",
            "Epoch: 149 Grad: 0.006655693\n",
            "Epoch: 149 Grad: 0.00598979\n",
            "Epoch: 149 Grad: 0.005391121\n",
            "Epoch: 149 Grad: 0.0048520565\n",
            "Epoch: 149 Grad: 0.0043668747\n",
            "Epoch: 149 Grad: 0.0039305687\n",
            "Epoch: 149 Grad: 0.003537178\n",
            "Epoch: 149 Grad: 0.0031833649\n",
            "Epoch: 149 Grad: 0.002865076\n",
            "Epoch: 149 Grad: 0.0025787354\n",
            "Epoch: 149 Grad: 0.0023207664\n",
            "Epoch: 149 Grad: 0.0020887852\n",
            "Epoch: 149 Grad: 0.0018796921\n",
            "Epoch: 149 Grad: 0.0016918182\n",
            "Epoch: 149 Grad: 0.001522541\n",
            "Epoch: 149 Grad: 0.0013701916\n",
            "Epoch: 149 Grad: 0.0012333393\n",
            "Epoch: 149 Grad: 0.0011100769\n",
            "Epoch: 149 Grad: 0.0009989738\n",
            "Epoch: 149 Grad: 0.00089907646\n",
            "Epoch: 149 Grad: 0.00080895424\n",
            "Epoch: 149 Grad: 0.0007286072\n",
            "Epoch: 149 Grad: 0.0006556511\n",
            "Epoch: 149 Grad: 0.0005903244\n",
            "Epoch: 149 Grad: 0.0005311966\n",
            "Epoch: 149 Grad: 0.00047779083\n",
            "Epoch: 149 Grad: 0.00043010712\n",
            "Epoch: 149 Grad: 0.00038719177\n",
            "Epoch: 149 Grad: 0.00034880638\n",
            "Epoch: 149 Grad: 0.00031375885\n",
            "Epoch: 149 Grad: 0.00028276443\n",
            "Epoch: 149 Grad: 0.00025439262\n",
            "Epoch: 149 Grad: 0.00022912025\n",
            "Epoch: 149 Grad: 0.00020599365\n",
            "Epoch: 149 Grad: 0.00018548965\n",
            "Epoch: 149 Grad: 0.000166893\n",
            "Epoch: 149 Grad: 0.0001502037\n",
            "Epoch: 149 Grad: 0.00013542175\n",
            "Epoch: 149 Grad: 0.000121831894\n",
            "Epoch: 149 Grad: 0.00010967255\n",
            "Epoch: 149 Grad: 9.846687e-05\n",
            "Epoch: 149 Grad: 8.869171e-05\n",
            "Epoch: 149 Grad: 7.9631805e-05\n",
            "Epoch: 149 Grad: 7.176399e-05\n",
            "Epoch: 149 Grad: 6.4611435e-05\n",
            "Epoch: 149 Grad: 5.7935715e-05\n",
            "Epoch: 149 Grad: 5.2452087e-05\n",
            "Epoch: 149 Grad: 4.696846e-05\n",
            "Epoch: 149 Grad: 4.2438507e-05\n",
            "Epoch: 149 Grad: 3.8146973e-05\n",
            "Epoch: 149 Grad: 3.385544e-05\n",
            "Epoch: 149 Grad: 3.0994415e-05\n",
            "Epoch: 149 Grad: 2.7894974e-05\n",
            "Epoch: 149 Grad: 2.527237e-05\n",
            "Epoch: 149 Grad: 2.3126602e-05\n",
            "Epoch: 149 Grad: 2.0742416e-05\n",
            "Epoch: 149 Grad: 1.835823e-05\n",
            "Epoch: 149 Grad: 1.66893e-05\n",
            "Epoch: 149 Grad: 1.4781952e-05\n",
            "Epoch: 149 Grad: 1.335144e-05\n",
            "Epoch: 149 Grad: 1.21593475e-05\n",
            "Epoch: 149 Grad: 1.0967255e-05\n",
            "Epoch: 149 Grad: 9.775162e-06\n",
            "Epoch: 149 Grad: 8.583069e-06\n",
            "Epoch: 149 Grad: 7.867813e-06\n",
            "Epoch: 149 Grad: 7.1525574e-06\n",
            "Epoch: 149 Grad: 6.4373016e-06\n",
            "Epoch: 149 Grad: 5.722046e-06\n",
            "Epoch: 149 Grad: 5.2452087e-06\n",
            "Epoch: 149 Grad: 4.7683716e-06\n",
            "Epoch: 149 Grad: 4.053116e-06\n",
            "Epoch: 149 Grad: 3.8146973e-06\n",
            "Epoch: 149 Grad: 3.33786e-06\n",
            "Epoch: 149 Grad: 3.0994415e-06\n",
            "Epoch: 149 Grad: 2.861023e-06\n",
            "Epoch: 149 Grad: 2.6226044e-06\n",
            "Epoch: 149 Grad: 2.3841858e-06\n",
            "Epoch: 149 Grad: 1.66893e-06\n",
            "Epoch: 149 Grad: 1.4305115e-06\n",
            "Epoch: 149 Grad: 1.4305115e-06\n",
            "Epoch: 149 Grad: 1.4305115e-06\n",
            "Epoch: 149 Grad: 1.4305115e-06\n",
            "Epoch: 149 Grad: 1.4305115e-06\n",
            "Epoch: 149 Grad: 1.4305115e-06\n",
            "Epoch: 149 Grad: 1.4305115e-06\n",
            "Epoch: 149 Grad: 1.4305115e-06\n",
            "Epoch: 149 Grad: 1.4305115e-06\n",
            "Epoch: 149 Grad: 1.4305115e-06\n",
            "Epoch: 149 Grad: 1.4305115e-06\n",
            "Epoch: 149 Grad: 1.4305115e-06\n",
            "Epoch: 149 Grad: 1.4305115e-06\n",
            "Epoch: 149 Grad: 1.4305115e-06\n"
          ],
          "name": "stdout"
        }
      ]
    },
    {
      "cell_type": "code",
      "metadata": {
        "id": "A6tZXEci1gPo",
        "colab": {
          "base_uri": "https://localhost:8080/"
        },
        "outputId": "72b8db46-23e0-479c-8207-a4582bc24527"
      },
      "source": [
        "x.numpy()"
      ],
      "execution_count": null,
      "outputs": [
        {
          "output_type": "execute_result",
          "data": {
            "text/plain": [
              "-0.29999983"
            ]
          },
          "metadata": {
            "tags": []
          },
          "execution_count": 110
        }
      ]
    },
    {
      "cell_type": "markdown",
      "metadata": {
        "id": "e9YTXSel-rK7"
      },
      "source": [
        "## 4.6 Training NN with Custom Loops & SGD"
      ]
    },
    {
      "cell_type": "markdown",
      "metadata": {
        "id": "nsvBOvBZ-w2k"
      },
      "source": [
        "### Define function to extract a batch of data"
      ]
    },
    {
      "cell_type": "code",
      "metadata": {
        "id": "rwR1V9a81qv1"
      },
      "source": [
        "def get_random_batch_data(X, y, batch_size = 32):\n",
        "    idx = np.random.choice(X.index.tolist(), size=batch_size, replace=False)\n",
        "    return X.loc[idx], y.loc[idx]"
      ],
      "execution_count": null,
      "outputs": []
    },
    {
      "cell_type": "markdown",
      "metadata": {
        "id": "xeK-dohA-1bd"
      },
      "source": [
        "### Define training params\n",
        "\n",
        "- Epoch: One full pass of the data\n",
        "- Batch: a batch of data based on batch size\n",
        "- steps per epoch: total number of batches to be passed in an epoch (total data / batch size)"
      ]
    },
    {
      "cell_type": "code",
      "metadata": {
        "id": "wA-AXYai6qzw",
        "colab": {
          "base_uri": "https://localhost:8080/"
        },
        "outputId": "24692e2f-ccda-48dd-a8f9-82b7b8482f33"
      },
      "source": [
        "epochs = 30\n",
        "batch_size = 32\n",
        "steps_per_epoch = len(X_train) // batch_size\n",
        "steps_per_epoch"
      ],
      "execution_count": null,
      "outputs": [
        {
          "output_type": "execute_result",
          "data": {
            "text/plain": [
              "451"
            ]
          },
          "metadata": {
            "tags": []
          },
          "execution_count": 112
        }
      ]
    },
    {
      "cell_type": "markdown",
      "metadata": {
        "id": "k-GLyTdP_Br8"
      },
      "source": [
        "### Build NN Model"
      ]
    },
    {
      "cell_type": "code",
      "metadata": {
        "id": "TrP3ETon7xz1"
      },
      "source": [
        "optimizer = tf.keras.optimizers.SGD(lr=1e-3)\n",
        "loss_fn = tf.keras.losses.mean_squared_error\n",
        "\n",
        "model = tf.keras.models.Sequential([\n",
        "    tf.keras.layers.Dense(16, activation=\"relu\",\n",
        "                          input_shape=(X_train.shape[1],)),\n",
        "    tf.keras.layers.Dense(32, activation=\"relu\"),\n",
        "    tf.keras.layers.Dense(32, activation=\"relu\"),\n",
        "    tf.keras.layers.Dense(1),\n",
        "    softplus_fn\n",
        "])"
      ],
      "execution_count": null,
      "outputs": []
    },
    {
      "cell_type": "code",
      "metadata": {
        "id": "jlK4gUL99zf4",
        "colab": {
          "base_uri": "https://localhost:8080/",
          "height": 202
        },
        "outputId": "eb9620c6-d2c7-4bc5-9daf-861360049469"
      },
      "source": [
        "X_train_scaled_df = pd.DataFrame(X_train_scaled, columns=X_train.columns, index=X_train.index)\n",
        "X_train_scaled_df.head()"
      ],
      "execution_count": null,
      "outputs": [
        {
          "output_type": "execute_result",
          "data": {
            "text/html": [
              "<div>\n",
              "<style scoped>\n",
              "    .dataframe tbody tr th:only-of-type {\n",
              "        vertical-align: middle;\n",
              "    }\n",
              "\n",
              "    .dataframe tbody tr th {\n",
              "        vertical-align: top;\n",
              "    }\n",
              "\n",
              "    .dataframe thead th {\n",
              "        text-align: right;\n",
              "    }\n",
              "</style>\n",
              "<table border=\"1\" class=\"dataframe\">\n",
              "  <thead>\n",
              "    <tr style=\"text-align: right;\">\n",
              "      <th></th>\n",
              "      <th>MedInc</th>\n",
              "      <th>HouseAge</th>\n",
              "      <th>AveRooms</th>\n",
              "      <th>AveBedrms</th>\n",
              "      <th>Population</th>\n",
              "      <th>AveOccup</th>\n",
              "      <th>Latitude</th>\n",
              "      <th>Longitude</th>\n",
              "    </tr>\n",
              "  </thead>\n",
              "  <tbody>\n",
              "    <tr>\n",
              "      <th>7061</th>\n",
              "      <td>0.133506</td>\n",
              "      <td>0.509357</td>\n",
              "      <td>0.181060</td>\n",
              "      <td>-0.273850</td>\n",
              "      <td>-0.184117</td>\n",
              "      <td>-0.010825</td>\n",
              "      <td>-0.805682</td>\n",
              "      <td>0.780934</td>\n",
              "    </tr>\n",
              "    <tr>\n",
              "      <th>14689</th>\n",
              "      <td>-0.532218</td>\n",
              "      <td>-0.679873</td>\n",
              "      <td>-0.422630</td>\n",
              "      <td>-0.047868</td>\n",
              "      <td>-0.376191</td>\n",
              "      <td>-0.089316</td>\n",
              "      <td>-1.339473</td>\n",
              "      <td>1.245270</td>\n",
              "    </tr>\n",
              "    <tr>\n",
              "      <th>17323</th>\n",
              "      <td>0.170990</td>\n",
              "      <td>-0.362745</td>\n",
              "      <td>0.073128</td>\n",
              "      <td>-0.242600</td>\n",
              "      <td>-0.611240</td>\n",
              "      <td>-0.044800</td>\n",
              "      <td>-0.496645</td>\n",
              "      <td>-0.277552</td>\n",
              "    </tr>\n",
              "    <tr>\n",
              "      <th>10056</th>\n",
              "      <td>-0.402916</td>\n",
              "      <td>-1.155565</td>\n",
              "      <td>0.175848</td>\n",
              "      <td>-0.008560</td>\n",
              "      <td>-0.987495</td>\n",
              "      <td>-0.075230</td>\n",
              "      <td>1.690024</td>\n",
              "      <td>-0.706938</td>\n",
              "    </tr>\n",
              "    <tr>\n",
              "      <th>15750</th>\n",
              "      <td>-0.299285</td>\n",
              "      <td>1.857152</td>\n",
              "      <td>-0.259598</td>\n",
              "      <td>-0.070993</td>\n",
              "      <td>0.086015</td>\n",
              "      <td>-0.066357</td>\n",
              "      <td>0.992350</td>\n",
              "      <td>-1.430902</td>\n",
              "    </tr>\n",
              "  </tbody>\n",
              "</table>\n",
              "</div>"
            ],
            "text/plain": [
              "         MedInc  HouseAge  AveRooms  ...  AveOccup  Latitude  Longitude\n",
              "7061   0.133506  0.509357  0.181060  ... -0.010825 -0.805682   0.780934\n",
              "14689 -0.532218 -0.679873 -0.422630  ... -0.089316 -1.339473   1.245270\n",
              "17323  0.170990 -0.362745  0.073128  ... -0.044800 -0.496645  -0.277552\n",
              "10056 -0.402916 -1.155565  0.175848  ... -0.075230  1.690024  -0.706938\n",
              "15750 -0.299285  1.857152 -0.259598  ... -0.066357  0.992350  -1.430902\n",
              "\n",
              "[5 rows x 8 columns]"
            ]
          },
          "metadata": {
            "tags": []
          },
          "execution_count": 115
        }
      ]
    },
    {
      "cell_type": "markdown",
      "metadata": {
        "id": "pKKI-4Yq_ENa"
      },
      "source": [
        "### Train and Test Model with Custom Training Loop"
      ]
    },
    {
      "cell_type": "code",
      "metadata": {
        "id": "tI3L-bYz8eCV",
        "colab": {
          "base_uri": "https://localhost:8080/"
        },
        "outputId": "cfc3242b-13ee-40bf-c305-8480ff3baf04"
      },
      "source": [
        "for epoch in range(epochs):\n",
        "\n",
        "    losses = []\n",
        "\n",
        "    for step in range(steps_per_epoch):\n",
        "        X_batch, y_batch = get_random_batch_data(X_train_scaled_df, \n",
        "                                                 y_train, \n",
        "                                                 batch_size)\n",
        "        with tf.GradientTape() as tape:\n",
        "            y_pred = model(X_batch.values)\n",
        "\n",
        "            loss = tf.reduce_mean(loss_fn(y_batch, y_pred))\n",
        "\n",
        "            losses.append(loss.numpy())\n",
        "\n",
        "        grads = tape.gradient(loss, model.variables)\n",
        "\n",
        "        grads_and_vars = zip(grads, model.variables)\n",
        "\n",
        "        optimizer.apply_gradients(grads_and_vars)\n",
        "    \n",
        "    print(\"Epoch\", epoch, \"avg. mse:\", np.mean(losses))"
      ],
      "execution_count": null,
      "outputs": [
        {
          "output_type": "stream",
          "text": [
            "Epoch 0 avg. mse: 1.6084788\n",
            "Epoch 1 avg. mse: 1.0368944\n",
            "Epoch 2 avg. mse: 0.80251783\n",
            "Epoch 3 avg. mse: 0.7421061\n",
            "Epoch 4 avg. mse: 0.7103475\n",
            "Epoch 5 avg. mse: 0.6750144\n",
            "Epoch 6 avg. mse: 0.664873\n",
            "Epoch 7 avg. mse: 0.6497538\n",
            "Epoch 8 avg. mse: 0.62351125\n",
            "Epoch 9 avg. mse: 0.59369886\n",
            "Epoch 10 avg. mse: 0.58272564\n",
            "Epoch 11 avg. mse: 0.555705\n",
            "Epoch 12 avg. mse: 0.55840635\n",
            "Epoch 13 avg. mse: 0.5533785\n",
            "Epoch 14 avg. mse: 0.54142505\n",
            "Epoch 15 avg. mse: 0.5180923\n",
            "Epoch 16 avg. mse: 0.5043723\n",
            "Epoch 17 avg. mse: 0.4995421\n",
            "Epoch 18 avg. mse: 0.51144665\n",
            "Epoch 19 avg. mse: 0.49376386\n",
            "Epoch 20 avg. mse: 0.486438\n",
            "Epoch 21 avg. mse: 0.4733166\n",
            "Epoch 22 avg. mse: 0.47285277\n",
            "Epoch 23 avg. mse: 0.46000323\n",
            "Epoch 24 avg. mse: 0.47040913\n",
            "Epoch 25 avg. mse: 0.45553696\n",
            "Epoch 26 avg. mse: 0.44937178\n",
            "Epoch 27 avg. mse: 0.4565334\n",
            "Epoch 28 avg. mse: 0.43180448\n",
            "Epoch 29 avg. mse: 0.42487937\n"
          ],
          "name": "stdout"
        }
      ]
    },
    {
      "cell_type": "code",
      "metadata": {
        "id": "yHJqJhAb9I8t",
        "colab": {
          "base_uri": "https://localhost:8080/"
        },
        "outputId": "443dab51-caba-473e-b3af-0f2f6ec822d3"
      },
      "source": [
        "predictions = model.predict(X_test_scaled)\n",
        "print('R2:', r2_score(y_test, predictions))\n",
        "print('MSE:', mean_squared_error(y_test, predictions))"
      ],
      "execution_count": null,
      "outputs": [
        {
          "output_type": "stream",
          "text": [
            "R2: 0.6641889726463044\n",
            "MSE: 0.4407654420479039\n"
          ],
          "name": "stdout"
        }
      ]
    },
    {
      "cell_type": "markdown",
      "metadata": {
        "id": "Tl8CIQBKFAEr"
      },
      "source": [
        "# 5. The Functional API\n",
        "\n",
        "Not all neural network models are simply sequential. Some may have complex topologies. Some may have multiple inputs and/or multiple outputs. For example, a Wide & Deep neural network (see [paper](https://ai.google/research/pubs/pub45413)) connects all or part of the inputs directly to the output layer, as shown on the following diagram:\n",
        "\n",
        "![](https://i.imgur.com/B6Y6coM.png)"
      ]
    },
    {
      "cell_type": "markdown",
      "metadata": {
        "id": "w3W3mQI2SHyf"
      },
      "source": [
        "## 5.1: Build, Train & Test a Wide & Deep NN with Functional API\n",
        "\n",
        "Use Keras' functional API to implement a Wide & Deep network to tackle the California housing problem.\n",
        "\n",
        "**Tips**:\n",
        "* You need to create a `tf.keras.layers.Input` layer to represent the inputs. Don't forget to specify the input `shape`.\n",
        "* Create the `Dense` layers, and connect them by using them like functions. For example, `hidden1 = tf.keras.layers.Dense(30, activation=\"relu\")(input)` and `hidden2 = tf.keras.layers.Dense(30, activation=\"relu\")(hidden1)`\n",
        "* Use the `tf.keras.layers.concatenate()` function to concatenate the input layer and the previous hidden layer's output.\n",
        "* Create a `tf.keras.models.Model` and specify its `inputs` and `outputs` (e.g., `inputs=[input]`).\n",
        "* Then use this model just like a `Sequential` model: you need to compile it, display its summary, train it, evaluate it and use it to make predictions."
      ]
    },
    {
      "cell_type": "code",
      "metadata": {
        "id": "p3_cJjRESDCS"
      },
      "source": [
        "input = tf.keras.layers.Input(shape=(X_train.shape[1],))\n",
        "\n",
        "x = tf.keras.layers.Dense(16, activation=\"relu\")(input)\n",
        "x = tf.keras.layers.Dense(32, activation=\"relu\")(x)\n",
        "x = tf.keras.layers.Dense(32, activation=\"relu\")(x)\n",
        "\n",
        "\n",
        "concat = tf.keras.layers.concatenate([input, x])\n",
        "\n",
        "output = tf.keras.layers.Dense(1)(concat)"
      ],
      "execution_count": null,
      "outputs": []
    },
    {
      "cell_type": "code",
      "metadata": {
        "id": "Rr-3DY6ETC84",
        "colab": {
          "base_uri": "https://localhost:8080/"
        },
        "outputId": "41c1f1e7-5323-46ff-a87f-90515645e16a"
      },
      "source": [
        "model = tf.keras.models.Model(inputs=[input], outputs=[output])\n",
        "\n",
        "model.compile(loss=\"mean_squared_error\", \n",
        "              optimizer=tf.keras.optimizers.SGD(1e-3))\n",
        "model.summary()"
      ],
      "execution_count": null,
      "outputs": [
        {
          "output_type": "stream",
          "text": [
            "Model: \"functional_1\"\n",
            "__________________________________________________________________________________________________\n",
            "Layer (type)                    Output Shape         Param #     Connected to                     \n",
            "==================================================================================================\n",
            "input_1 (InputLayer)            [(None, 8)]          0                                            \n",
            "__________________________________________________________________________________________________\n",
            "dense_23 (Dense)                (None, 16)           144         input_1[0][0]                    \n",
            "__________________________________________________________________________________________________\n",
            "dense_24 (Dense)                (None, 32)           544         dense_23[0][0]                   \n",
            "__________________________________________________________________________________________________\n",
            "dense_25 (Dense)                (None, 32)           1056        dense_24[0][0]                   \n",
            "__________________________________________________________________________________________________\n",
            "concatenate (Concatenate)       (None, 40)           0           input_1[0][0]                    \n",
            "                                                                 dense_25[0][0]                   \n",
            "__________________________________________________________________________________________________\n",
            "dense_26 (Dense)                (None, 1)            41          concatenate[0][0]                \n",
            "==================================================================================================\n",
            "Total params: 1,785\n",
            "Trainable params: 1,785\n",
            "Non-trainable params: 0\n",
            "__________________________________________________________________________________________________\n"
          ],
          "name": "stdout"
        }
      ]
    },
    {
      "cell_type": "code",
      "metadata": {
        "id": "ZHCJnFrvTKG9",
        "colab": {
          "base_uri": "https://localhost:8080/",
          "height": 644
        },
        "outputId": "4e66b3ba-4f9a-43b8-d481-464847bdfd14"
      },
      "source": [
        "tf.keras.utils.plot_model(model, show_shapes=True)"
      ],
      "execution_count": null,
      "outputs": [
        {
          "output_type": "execute_result",
          "data": {
            "image/png": "[encoded data removed]",
            "text/plain": [
              "<IPython.core.display.Image object>"
            ]
          },
          "metadata": {
            "tags": []
          },
          "execution_count": 121
        }
      ]
    },
    {
      "cell_type": "code",
      "metadata": {
        "id": "vTdcBX7xTeCS",
        "colab": {
          "base_uri": "https://localhost:8080/"
        },
        "outputId": "4f2d36e8-cd94-46c1-ac9d-5c1f25b01b04"
      },
      "source": [
        "history = model.fit(X_train_scaled, y_train, \n",
        "                    epochs=30,\n",
        "                    batch_size=32,\n",
        "                    validation_split=0.1)"
      ],
      "execution_count": null,
      "outputs": [
        {
          "output_type": "stream",
          "text": [
            "Epoch 1/30\n",
            "407/407 [==============================] - 1s 2ms/step - loss: 2.4045 - val_loss: 0.7922\n",
            "Epoch 2/30\n",
            "407/407 [==============================] - 1s 2ms/step - loss: 0.7079 - val_loss: 0.6603\n",
            "Epoch 3/30\n",
            "407/407 [==============================] - 1s 2ms/step - loss: 0.6424 - val_loss: 0.6243\n",
            "Epoch 4/30\n",
            "407/407 [==============================] - 1s 2ms/step - loss: 0.6112 - val_loss: 0.6006\n",
            "Epoch 5/30\n",
            "407/407 [==============================] - 1s 2ms/step - loss: 0.5875 - val_loss: 0.5798\n",
            "Epoch 6/30\n",
            "407/407 [==============================] - 1s 2ms/step - loss: 0.5678 - val_loss: 0.5647\n",
            "Epoch 7/30\n",
            "407/407 [==============================] - 1s 2ms/step - loss: 0.5523 - val_loss: 0.5509\n",
            "Epoch 8/30\n",
            "407/407 [==============================] - 1s 2ms/step - loss: 0.5387 - val_loss: 0.5397\n",
            "Epoch 9/30\n",
            "407/407 [==============================] - 1s 2ms/step - loss: 0.5271 - val_loss: 0.5295\n",
            "Epoch 10/30\n",
            "407/407 [==============================] - 1s 2ms/step - loss: 0.5173 - val_loss: 0.5218\n",
            "Epoch 11/30\n",
            "407/407 [==============================] - 1s 2ms/step - loss: 0.5093 - val_loss: 0.5136\n",
            "Epoch 12/30\n",
            "407/407 [==============================] - 1s 2ms/step - loss: 0.5012 - val_loss: 0.5079\n",
            "Epoch 13/30\n",
            "407/407 [==============================] - 1s 2ms/step - loss: 0.4948 - val_loss: 0.5026\n",
            "Epoch 14/30\n",
            "407/407 [==============================] - 1s 2ms/step - loss: 0.4895 - val_loss: 0.4976\n",
            "Epoch 15/30\n",
            "407/407 [==============================] - 1s 2ms/step - loss: 0.4839 - val_loss: 0.4923\n",
            "Epoch 16/30\n",
            "407/407 [==============================] - 1s 2ms/step - loss: 0.4789 - val_loss: 0.4876\n",
            "Epoch 17/30\n",
            "407/407 [==============================] - 1s 2ms/step - loss: 0.4748 - val_loss: 0.4836\n",
            "Epoch 18/30\n",
            "407/407 [==============================] - 1s 2ms/step - loss: 0.4702 - val_loss: 0.4811\n",
            "Epoch 19/30\n",
            "407/407 [==============================] - 1s 2ms/step - loss: 0.4667 - val_loss: 0.4770\n",
            "Epoch 20/30\n",
            "407/407 [==============================] - 1s 2ms/step - loss: 0.4634 - val_loss: 0.4725\n",
            "Epoch 21/30\n",
            "407/407 [==============================] - 1s 2ms/step - loss: 0.4598 - val_loss: 0.4700\n",
            "Epoch 22/30\n",
            "407/407 [==============================] - 1s 2ms/step - loss: 0.4565 - val_loss: 0.4674\n",
            "Epoch 23/30\n",
            "407/407 [==============================] - 1s 2ms/step - loss: 0.4530 - val_loss: 0.4656\n",
            "Epoch 24/30\n",
            "407/407 [==============================] - 1s 2ms/step - loss: 0.4501 - val_loss: 0.4616\n",
            "Epoch 25/30\n",
            "407/407 [==============================] - 1s 2ms/step - loss: 0.4474 - val_loss: 0.4601\n",
            "Epoch 26/30\n",
            "407/407 [==============================] - 1s 2ms/step - loss: 0.4454 - val_loss: 0.4569\n",
            "Epoch 27/30\n",
            "407/407 [==============================] - 1s 2ms/step - loss: 0.4420 - val_loss: 0.4539\n",
            "Epoch 28/30\n",
            "407/407 [==============================] - 1s 2ms/step - loss: 0.4402 - val_loss: 0.4516\n",
            "Epoch 29/30\n",
            "407/407 [==============================] - 1s 2ms/step - loss: 0.4375 - val_loss: 0.4490\n",
            "Epoch 30/30\n",
            "407/407 [==============================] - 1s 2ms/step - loss: 0.4354 - val_loss: 0.4469\n"
          ],
          "name": "stdout"
        }
      ]
    },
    {
      "cell_type": "code",
      "metadata": {
        "id": "BHvy4VW5TsjB",
        "colab": {
          "base_uri": "https://localhost:8080/",
          "height": 287
        },
        "outputId": "bf193277-5b14-4cd0-bf79-116028fae154"
      },
      "source": [
        "history_df = pd.DataFrame(history.history)\n",
        "history_df[['loss', 'val_loss']].plot(kind='line')"
      ],
      "execution_count": null,
      "outputs": [
        {
          "output_type": "execute_result",
          "data": {
            "text/plain": [
              "<matplotlib.axes._subplots.AxesSubplot at 0x7fc99e135320>"
            ]
          },
          "metadata": {
            "tags": []
          },
          "execution_count": 123
        },
        {
          "output_type": "display_data",
          "data": {
            "image/png": "[encoded data removed]",
            "text/plain": [
              "<Figure size 432x288 with 1 Axes>"
            ]
          },
          "metadata": {
            "tags": [],
            "needs_background": "light"
          }
        }
      ]
    },
    {
      "cell_type": "code",
      "metadata": {
        "id": "FFwvaeBFTzsT",
        "colab": {
          "base_uri": "https://localhost:8080/"
        },
        "outputId": "28860719-d12c-4ac2-b88d-4c7bba35f4e3"
      },
      "source": [
        "predictions = model.predict(X_test_scaled)\n",
        "print('R2:', r2_score(y_test, predictions))\n",
        "print('MSE:', mean_squared_error(y_test, predictions))"
      ],
      "execution_count": null,
      "outputs": [
        {
          "output_type": "stream",
          "text": [
            "R2: 0.6656533177672821\n",
            "MSE: 0.438843430344939\n"
          ],
          "name": "stdout"
        }
      ]
    },
    {
      "cell_type": "markdown",
      "metadata": {
        "id": "mfCsG2swUGpG"
      },
      "source": [
        "## 5.2 Build, Train & Test a Wide & Deep NN with Subclassing API\n",
        "\n",
        "After the Sequential API and the Functional API, let's try the Subclassing API:\n",
        "* Create a subclass of the `tf.keras.models.Model` class.\n",
        "* Create all the layers you need in the constructor (e.g., `self.hidden1 = tf.keras.layers.Dense(...)`).\n",
        "* Use the layers to process the `input` in the `call()` method, and return the output.\n",
        "* Note that you do not need to create a `tf.keras.layers.Input` in this case.\n",
        "* Also note that `self.output` is used by Keras, so you should use another name for the output layer (e.g., `self.output_layer`).\n",
        "\n",
        "**When should you use the Subclassing API?**\n",
        "* Both the Sequential API and the Functional API are declarative: you first declare the list of layers you need and how they are connected, and only then can you feed your model with actual data. The models that these APIs build are just static graphs of layers. This has many advantages (easy inspection, debugging, saving, loading, sharing, etc.), and they cover the vast majority of use cases\n",
        "\n",
        "* If you need to build a very dynamic model (e.g., with loops or conditional branching), or if you want to experiment with new ideas using an imperative programming style, then the Subclassing API is for you. You can pretty much do any computation you want in the `call()` method, possibly with loops and conditions, using Keras layers of even low-level TensorFlow operations.\n",
        "\n",
        "* However, this extra flexibility comes at the cost of less transparency. Since the model is defined within the `call()` method, Keras cannot fully inspect it. All it sees is the list of model attributes (which include the layers you define in the constructor), so when you display the model summary you just see a list of unconnected layers. Consequently, you cannot save or load the model without writing extra code. So this API is best used only when you really need the extra flexibility."
      ]
    },
    {
      "cell_type": "code",
      "metadata": {
        "id": "YePM2zqXT9xu"
      },
      "source": [
        "class MyRegressionModel(tf.keras.models.Model):\n",
        "\n",
        "    def __init__(self):\n",
        "        super(MyRegressionModel, self).__init__()\n",
        "        self.hidden1 = tf.keras.layers.Dense(16, activation=\"relu\")\n",
        "        self.hidden2 = tf.keras.layers.Dense(32, activation=\"relu\")\n",
        "        self.hidden3 = tf.keras.layers.Dense(32, activation=\"relu\")\n",
        "        self.output_layer = tf.keras.layers.Dense(1)\n",
        "\n",
        "    def call(self, input):\n",
        "        x = self.hidden1(input)\n",
        "        x = self.hidden2(x)\n",
        "        x = self.hidden3(x)\n",
        "        concat = tf.keras.layers.concatenate([input, x])\n",
        "        output = self.output_layer(concat)\n",
        "        return output"
      ],
      "execution_count": null,
      "outputs": []
    },
    {
      "cell_type": "code",
      "metadata": {
        "id": "GHiz9zKzVbki"
      },
      "source": [
        "model = MyRegressionModel()\n",
        "model.compile(loss=\"mean_squared_error\", \n",
        "              optimizer=tf.keras.optimizers.SGD(1e-3))"
      ],
      "execution_count": null,
      "outputs": []
    },
    {
      "cell_type": "code",
      "metadata": {
        "id": "PTpNFnbVVa7l",
        "colab": {
          "base_uri": "https://localhost:8080/"
        },
        "outputId": "7ca9d786-57cd-4c72-f9bc-4721cf9b390a"
      },
      "source": [
        "history = model.fit(X_train_scaled, y_train, \n",
        "                    epochs=30,\n",
        "                    batch_size=32,\n",
        "                    validation_split=0.1)"
      ],
      "execution_count": null,
      "outputs": [
        {
          "output_type": "stream",
          "text": [
            "Epoch 1/30\n",
            "407/407 [==============================] - 1s 2ms/step - loss: 1.7095 - val_loss: 0.8031\n",
            "Epoch 2/30\n",
            "407/407 [==============================] - 1s 2ms/step - loss: 0.7786 - val_loss: 0.6947\n",
            "Epoch 3/30\n",
            "407/407 [==============================] - 1s 2ms/step - loss: 0.6866 - val_loss: 0.6500\n",
            "Epoch 4/30\n",
            "407/407 [==============================] - 1s 2ms/step - loss: 0.6444 - val_loss: 0.6170\n",
            "Epoch 5/30\n",
            "407/407 [==============================] - 1s 2ms/step - loss: 0.6156 - val_loss: 0.5920\n",
            "Epoch 6/30\n",
            "407/407 [==============================] - 1s 2ms/step - loss: 0.5931 - val_loss: 0.5757\n",
            "Epoch 7/30\n",
            "407/407 [==============================] - 1s 2ms/step - loss: 0.5772 - val_loss: 0.5623\n",
            "Epoch 8/30\n",
            "407/407 [==============================] - 1s 2ms/step - loss: 0.5612 - val_loss: 0.5504\n",
            "Epoch 9/30\n",
            "407/407 [==============================] - 1s 2ms/step - loss: 0.5500 - val_loss: 0.5432\n",
            "Epoch 10/30\n",
            "407/407 [==============================] - 1s 2ms/step - loss: 0.5403 - val_loss: 0.5349\n",
            "Epoch 11/30\n",
            "407/407 [==============================] - 1s 2ms/step - loss: 0.5315 - val_loss: 0.5309\n",
            "Epoch 12/30\n",
            "407/407 [==============================] - 1s 2ms/step - loss: 0.5243 - val_loss: 0.5230\n",
            "Epoch 13/30\n",
            "407/407 [==============================] - 1s 2ms/step - loss: 0.5184 - val_loss: 0.5163\n",
            "Epoch 14/30\n",
            "407/407 [==============================] - 1s 2ms/step - loss: 0.5126 - val_loss: 0.5121\n",
            "Epoch 15/30\n",
            "407/407 [==============================] - 1s 2ms/step - loss: 0.5077 - val_loss: 0.5080\n",
            "Epoch 16/30\n",
            "407/407 [==============================] - 1s 2ms/step - loss: 0.5033 - val_loss: 0.5045\n",
            "Epoch 17/30\n",
            "407/407 [==============================] - 1s 2ms/step - loss: 0.4991 - val_loss: 0.5018\n",
            "Epoch 18/30\n",
            "407/407 [==============================] - 1s 2ms/step - loss: 0.4955 - val_loss: 0.4984\n",
            "Epoch 19/30\n",
            "407/407 [==============================] - 1s 2ms/step - loss: 0.4922 - val_loss: 0.4959\n",
            "Epoch 20/30\n",
            "407/407 [==============================] - 1s 2ms/step - loss: 0.4891 - val_loss: 0.4924\n",
            "Epoch 21/30\n",
            "407/407 [==============================] - 1s 2ms/step - loss: 0.4863 - val_loss: 0.4913\n",
            "Epoch 22/30\n",
            "407/407 [==============================] - 1s 2ms/step - loss: 0.4835 - val_loss: 0.4889\n",
            "Epoch 23/30\n",
            "407/407 [==============================] - 1s 2ms/step - loss: 0.4812 - val_loss: 0.4857\n",
            "Epoch 24/30\n",
            "407/407 [==============================] - 1s 2ms/step - loss: 0.4787 - val_loss: 0.4841\n",
            "Epoch 25/30\n",
            "407/407 [==============================] - 1s 2ms/step - loss: 0.4765 - val_loss: 0.4821\n",
            "Epoch 26/30\n",
            "407/407 [==============================] - 1s 2ms/step - loss: 0.4741 - val_loss: 0.4797\n",
            "Epoch 27/30\n",
            "407/407 [==============================] - 1s 2ms/step - loss: 0.4718 - val_loss: 0.4791\n",
            "Epoch 28/30\n",
            "407/407 [==============================] - 1s 2ms/step - loss: 0.4695 - val_loss: 0.4775\n",
            "Epoch 29/30\n",
            "407/407 [==============================] - 1s 2ms/step - loss: 0.4678 - val_loss: 0.4745\n",
            "Epoch 30/30\n",
            "407/407 [==============================] - 1s 2ms/step - loss: 0.4659 - val_loss: 0.4718\n"
          ],
          "name": "stdout"
        }
      ]
    },
    {
      "cell_type": "code",
      "metadata": {
        "id": "7RyFsP0bVvCp",
        "colab": {
          "base_uri": "https://localhost:8080/",
          "height": 283
        },
        "outputId": "e5bda015-0970-4f77-a645-67e1c5895f68"
      },
      "source": [
        "history_df = pd.DataFrame(history.history)\n",
        "history_df[['loss', 'val_loss']].plot(kind='line')"
      ],
      "execution_count": null,
      "outputs": [
        {
          "output_type": "execute_result",
          "data": {
            "text/plain": [
              "<matplotlib.axes._subplots.AxesSubplot at 0x7fc99ddc6710>"
            ]
          },
          "metadata": {
            "tags": []
          },
          "execution_count": 128
        },
        {
          "output_type": "display_data",
          "data": {
            "image/png": "[encoded data removed]",
            "text/plain": [
              "<Figure size 432x288 with 1 Axes>"
            ]
          },
          "metadata": {
            "tags": [],
            "needs_background": "light"
          }
        }
      ]
    },
    {
      "cell_type": "code",
      "metadata": {
        "id": "vKM7F26fV2qk",
        "colab": {
          "base_uri": "https://localhost:8080/"
        },
        "outputId": "16c43222-1460-46c9-baf8-cb2d75aa9411"
      },
      "source": [
        "predictions = model.predict(X_test_scaled)\n",
        "print('R2:', r2_score(y_test, predictions))\n",
        "print('MSE:', mean_squared_error(y_test, predictions))"
      ],
      "execution_count": null,
      "outputs": [
        {
          "output_type": "stream",
          "text": [
            "R2: 0.6474512594797042\n",
            "MSE: 0.4627343618921509\n"
          ],
          "name": "stdout"
        }
      ]
    },
    {
      "cell_type": "code",
      "metadata": {
        "id": "obzFfuwmZZ9j",
        "colab": {
          "base_uri": "https://localhost:8080/",
          "height": 202
        },
        "outputId": "94b7eea7-bdb2-45bd-d6f3-53385417dc84"
      },
      "source": [
        "X_train.head()"
      ],
      "execution_count": null,
      "outputs": [
        {
          "output_type": "execute_result",
          "data": {
            "text/html": [
              "<div>\n",
              "<style scoped>\n",
              "    .dataframe tbody tr th:only-of-type {\n",
              "        vertical-align: middle;\n",
              "    }\n",
              "\n",
              "    .dataframe tbody tr th {\n",
              "        vertical-align: top;\n",
              "    }\n",
              "\n",
              "    .dataframe thead th {\n",
              "        text-align: right;\n",
              "    }\n",
              "</style>\n",
              "<table border=\"1\" class=\"dataframe\">\n",
              "  <thead>\n",
              "    <tr style=\"text-align: right;\">\n",
              "      <th></th>\n",
              "      <th>MedInc</th>\n",
              "      <th>HouseAge</th>\n",
              "      <th>AveRooms</th>\n",
              "      <th>AveBedrms</th>\n",
              "      <th>Population</th>\n",
              "      <th>AveOccup</th>\n",
              "      <th>Latitude</th>\n",
              "      <th>Longitude</th>\n",
              "    </tr>\n",
              "  </thead>\n",
              "  <tbody>\n",
              "    <tr>\n",
              "      <th>7061</th>\n",
              "      <td>4.1312</td>\n",
              "      <td>35.0</td>\n",
              "      <td>5.882353</td>\n",
              "      <td>0.975490</td>\n",
              "      <td>1218.0</td>\n",
              "      <td>2.985294</td>\n",
              "      <td>33.93</td>\n",
              "      <td>-118.02</td>\n",
              "    </tr>\n",
              "    <tr>\n",
              "      <th>14689</th>\n",
              "      <td>2.8631</td>\n",
              "      <td>20.0</td>\n",
              "      <td>4.401210</td>\n",
              "      <td>1.076613</td>\n",
              "      <td>999.0</td>\n",
              "      <td>2.014113</td>\n",
              "      <td>32.79</td>\n",
              "      <td>-117.09</td>\n",
              "    </tr>\n",
              "    <tr>\n",
              "      <th>17323</th>\n",
              "      <td>4.2026</td>\n",
              "      <td>24.0</td>\n",
              "      <td>5.617544</td>\n",
              "      <td>0.989474</td>\n",
              "      <td>731.0</td>\n",
              "      <td>2.564912</td>\n",
              "      <td>34.59</td>\n",
              "      <td>-120.14</td>\n",
              "    </tr>\n",
              "    <tr>\n",
              "      <th>10056</th>\n",
              "      <td>3.1094</td>\n",
              "      <td>14.0</td>\n",
              "      <td>5.869565</td>\n",
              "      <td>1.094203</td>\n",
              "      <td>302.0</td>\n",
              "      <td>2.188406</td>\n",
              "      <td>39.26</td>\n",
              "      <td>-121.00</td>\n",
              "    </tr>\n",
              "    <tr>\n",
              "      <th>15750</th>\n",
              "      <td>3.3068</td>\n",
              "      <td>52.0</td>\n",
              "      <td>4.801205</td>\n",
              "      <td>1.066265</td>\n",
              "      <td>1526.0</td>\n",
              "      <td>2.298193</td>\n",
              "      <td>37.77</td>\n",
              "      <td>-122.45</td>\n",
              "    </tr>\n",
              "  </tbody>\n",
              "</table>\n",
              "</div>"
            ],
            "text/plain": [
              "       MedInc  HouseAge  AveRooms  ...  AveOccup  Latitude  Longitude\n",
              "7061   4.1312      35.0  5.882353  ...  2.985294     33.93    -118.02\n",
              "14689  2.8631      20.0  4.401210  ...  2.014113     32.79    -117.09\n",
              "17323  4.2026      24.0  5.617544  ...  2.564912     34.59    -120.14\n",
              "10056  3.1094      14.0  5.869565  ...  2.188406     39.26    -121.00\n",
              "15750  3.3068      52.0  4.801205  ...  2.298193     37.77    -122.45\n",
              "\n",
              "[5 rows x 8 columns]"
            ]
          },
          "metadata": {
            "tags": []
          },
          "execution_count": 130
        }
      ]
    },
    {
      "cell_type": "markdown",
      "metadata": {
        "id": "zGI1mva4WjFa"
      },
      "source": [
        "## 7.3: Build, Train & Test Wide & Deep Model with feature subsets\n",
        "Now suppose you want to send only features 0 to 3 directly to the output, and only features 4 to 7 through the hidden layers, as shown on the following diagram. Use the functional API to build, train and evaluate this model.\n",
        "\n",
        "**Tips**:\n",
        "* You need to create two `tf.keras.layers.Input` (`input_A` and `input_B`)\n",
        "* Build the model using the functional API, as above, but when you build the `tf.keras.models.Model`, remember to set `inputs=[input_A, input_B]`\n",
        "* When calling `fit()`, `evaluate()` and  `predict()`, instead of passing `X_train_scaled`, pass `(X_train_scaled_A, X_train_scaled_B)` (two NumPy arrays containing only the appropriate features copied from `X_train_scaled`).\n",
        "\n",
        "![](https://i.imgur.com/dFkDs1W.png)"
      ]
    },
    {
      "cell_type": "code",
      "metadata": {
        "id": "5b25ZeICW0dy",
        "colab": {
          "base_uri": "https://localhost:8080/",
          "height": 202
        },
        "outputId": "36ce3a68-e4ef-45c4-8afb-82e7146de1cf"
      },
      "source": [
        "X_train.head()"
      ],
      "execution_count": null,
      "outputs": [
        {
          "output_type": "execute_result",
          "data": {
            "text/html": [
              "<div>\n",
              "<style scoped>\n",
              "    .dataframe tbody tr th:only-of-type {\n",
              "        vertical-align: middle;\n",
              "    }\n",
              "\n",
              "    .dataframe tbody tr th {\n",
              "        vertical-align: top;\n",
              "    }\n",
              "\n",
              "    .dataframe thead th {\n",
              "        text-align: right;\n",
              "    }\n",
              "</style>\n",
              "<table border=\"1\" class=\"dataframe\">\n",
              "  <thead>\n",
              "    <tr style=\"text-align: right;\">\n",
              "      <th></th>\n",
              "      <th>MedInc</th>\n",
              "      <th>HouseAge</th>\n",
              "      <th>AveRooms</th>\n",
              "      <th>AveBedrms</th>\n",
              "      <th>Population</th>\n",
              "      <th>AveOccup</th>\n",
              "      <th>Latitude</th>\n",
              "      <th>Longitude</th>\n",
              "    </tr>\n",
              "  </thead>\n",
              "  <tbody>\n",
              "    <tr>\n",
              "      <th>7061</th>\n",
              "      <td>4.1312</td>\n",
              "      <td>35.0</td>\n",
              "      <td>5.882353</td>\n",
              "      <td>0.975490</td>\n",
              "      <td>1218.0</td>\n",
              "      <td>2.985294</td>\n",
              "      <td>33.93</td>\n",
              "      <td>-118.02</td>\n",
              "    </tr>\n",
              "    <tr>\n",
              "      <th>14689</th>\n",
              "      <td>2.8631</td>\n",
              "      <td>20.0</td>\n",
              "      <td>4.401210</td>\n",
              "      <td>1.076613</td>\n",
              "      <td>999.0</td>\n",
              "      <td>2.014113</td>\n",
              "      <td>32.79</td>\n",
              "      <td>-117.09</td>\n",
              "    </tr>\n",
              "    <tr>\n",
              "      <th>17323</th>\n",
              "      <td>4.2026</td>\n",
              "      <td>24.0</td>\n",
              "      <td>5.617544</td>\n",
              "      <td>0.989474</td>\n",
              "      <td>731.0</td>\n",
              "      <td>2.564912</td>\n",
              "      <td>34.59</td>\n",
              "      <td>-120.14</td>\n",
              "    </tr>\n",
              "    <tr>\n",
              "      <th>10056</th>\n",
              "      <td>3.1094</td>\n",
              "      <td>14.0</td>\n",
              "      <td>5.869565</td>\n",
              "      <td>1.094203</td>\n",
              "      <td>302.0</td>\n",
              "      <td>2.188406</td>\n",
              "      <td>39.26</td>\n",
              "      <td>-121.00</td>\n",
              "    </tr>\n",
              "    <tr>\n",
              "      <th>15750</th>\n",
              "      <td>3.3068</td>\n",
              "      <td>52.0</td>\n",
              "      <td>4.801205</td>\n",
              "      <td>1.066265</td>\n",
              "      <td>1526.0</td>\n",
              "      <td>2.298193</td>\n",
              "      <td>37.77</td>\n",
              "      <td>-122.45</td>\n",
              "    </tr>\n",
              "  </tbody>\n",
              "</table>\n",
              "</div>"
            ],
            "text/plain": [
              "       MedInc  HouseAge  AveRooms  ...  AveOccup  Latitude  Longitude\n",
              "7061   4.1312      35.0  5.882353  ...  2.985294     33.93    -118.02\n",
              "14689  2.8631      20.0  4.401210  ...  2.014113     32.79    -117.09\n",
              "17323  4.2026      24.0  5.617544  ...  2.564912     34.59    -120.14\n",
              "10056  3.1094      14.0  5.869565  ...  2.188406     39.26    -121.00\n",
              "15750  3.3068      52.0  4.801205  ...  2.298193     37.77    -122.45\n",
              "\n",
              "[5 rows x 8 columns]"
            ]
          },
          "metadata": {
            "tags": []
          },
          "execution_count": 131
        }
      ]
    },
    {
      "cell_type": "code",
      "metadata": {
        "id": "4J2m47qfWO_e"
      },
      "source": [
        "input_A = tf.keras.layers.Input(shape=[4])\n",
        "\n",
        "input_B = tf.keras.layers.Input(shape=[4])\n",
        "x = tf.keras.layers.Dense(16, activation=\"relu\")(input_B)\n",
        "x = tf.keras.layers.Dense(32, activation=\"relu\")(x)\n",
        "x = tf.keras.layers.Dense(32, activation=\"relu\")(x)\n",
        "\n",
        "\n",
        "concat = tf.keras.layers.concatenate([input_A, x])\n",
        "\n",
        "output = tf.keras.layers.Dense(1)(concat)"
      ],
      "execution_count": null,
      "outputs": []
    },
    {
      "cell_type": "code",
      "metadata": {
        "id": "qmM0HbDdXcYI",
        "colab": {
          "base_uri": "https://localhost:8080/"
        },
        "outputId": "628ca293-0929-40a8-cea8-ce5c846c7094"
      },
      "source": [
        "model = tf.keras.models.Model(inputs=[input_A, input_B], outputs=[output])\n",
        "model.compile(loss=\"mean_squared_error\", \n",
        "              optimizer=tf.keras.optimizers.SGD(1e-3))\n",
        "model.summary()"
      ],
      "execution_count": null,
      "outputs": [
        {
          "output_type": "stream",
          "text": [
            "Model: \"functional_3\"\n",
            "__________________________________________________________________________________________________\n",
            "Layer (type)                    Output Shape         Param #     Connected to                     \n",
            "==================================================================================================\n",
            "input_3 (InputLayer)            [(None, 4)]          0                                            \n",
            "__________________________________________________________________________________________________\n",
            "dense_31 (Dense)                (None, 16)           80          input_3[0][0]                    \n",
            "__________________________________________________________________________________________________\n",
            "dense_32 (Dense)                (None, 32)           544         dense_31[0][0]                   \n",
            "__________________________________________________________________________________________________\n",
            "input_2 (InputLayer)            [(None, 4)]          0                                            \n",
            "__________________________________________________________________________________________________\n",
            "dense_33 (Dense)                (None, 32)           1056        dense_32[0][0]                   \n",
            "__________________________________________________________________________________________________\n",
            "concatenate_1 (Concatenate)     (None, 36)           0           input_2[0][0]                    \n",
            "                                                                 dense_33[0][0]                   \n",
            "__________________________________________________________________________________________________\n",
            "dense_34 (Dense)                (None, 1)            37          concatenate_1[0][0]              \n",
            "==================================================================================================\n",
            "Total params: 1,717\n",
            "Trainable params: 1,717\n",
            "Non-trainable params: 0\n",
            "__________________________________________________________________________________________________\n"
          ],
          "name": "stdout"
        }
      ]
    },
    {
      "cell_type": "code",
      "metadata": {
        "id": "GIKa4N5XXnLQ",
        "colab": {
          "base_uri": "https://localhost:8080/",
          "height": 644
        },
        "outputId": "96a73b0d-6bef-4f28-f8e3-3f349ffdf7f1"
      },
      "source": [
        "tf.keras.utils.plot_model(model, show_shapes=True)"
      ],
      "execution_count": null,
      "outputs": [
        {
          "output_type": "execute_result",
          "data": {
            "image/png": "[encoded data removed]",
            "text/plain": [
              "<IPython.core.display.Image object>"
            ]
          },
          "metadata": {
            "tags": []
          },
          "execution_count": 134
        }
      ]
    },
    {
      "cell_type": "code",
      "metadata": {
        "id": "qY8bJyIWX6rP"
      },
      "source": [
        "X_train_scaled_A = X_train_scaled[:, :4]\n",
        "X_train_scaled_B = X_train_scaled[:, 4:]\n",
        "\n",
        "X_test_scaled_A = X_test_scaled[:, :4]\n",
        "X_test_scaled_B = X_test_scaled[:, 4:]"
      ],
      "execution_count": null,
      "outputs": []
    },
    {
      "cell_type": "code",
      "metadata": {
        "id": "BdnWjz2lat-V",
        "colab": {
          "base_uri": "https://localhost:8080/"
        },
        "outputId": "3509b1dc-ffb2-48ba-8556-3add7607c675"
      },
      "source": [
        "X_train_scaled_A.shape, X_train_scaled_B.shape"
      ],
      "execution_count": null,
      "outputs": [
        {
          "output_type": "execute_result",
          "data": {
            "text/plain": [
              "((14448, 4), (14448, 4))"
            ]
          },
          "metadata": {
            "tags": []
          },
          "execution_count": 137
        }
      ]
    },
    {
      "cell_type": "code",
      "metadata": {
        "id": "NuiFPAVWYGv8",
        "colab": {
          "base_uri": "https://localhost:8080/"
        },
        "outputId": "15172969-3f5c-48fa-c742-705a2f3ace74"
      },
      "source": [
        "history = model.fit([X_train_scaled_A, \n",
        "                     X_train_scaled_B], y_train, \n",
        "                    epochs=30,\n",
        "                    ba\n",
        "                    validation_split=0.1)"
      ],
      "execution_count": null,
      "outputs": [
        {
          "output_type": "stream",
          "text": [
            "Epoch 1/30\n",
            "407/407 [==============================] - 1s 3ms/step - loss: 2.0971 - val_loss: 0.8004\n",
            "Epoch 2/30\n",
            "407/407 [==============================] - 1s 2ms/step - loss: 0.7077 - val_loss: 0.6807\n",
            "Epoch 3/30\n",
            "407/407 [==============================] - 1s 2ms/step - loss: 0.6300 - val_loss: 0.6332\n",
            "Epoch 4/30\n",
            "407/407 [==============================] - 1s 2ms/step - loss: 0.5937 - val_loss: 0.6050\n",
            "Epoch 5/30\n",
            "407/407 [==============================] - 1s 2ms/step - loss: 0.5704 - val_loss: 0.5854\n",
            "Epoch 6/30\n",
            "407/407 [==============================] - 1s 2ms/step - loss: 0.5521 - val_loss: 0.5691\n",
            "Epoch 7/30\n",
            "407/407 [==============================] - 1s 2ms/step - loss: 0.5373 - val_loss: 0.5565\n",
            "Epoch 8/30\n",
            "407/407 [==============================] - 1s 2ms/step - loss: 0.5250 - val_loss: 0.5458\n",
            "Epoch 9/30\n",
            "407/407 [==============================] - 1s 2ms/step - loss: 0.5148 - val_loss: 0.5365\n",
            "Epoch 10/30\n",
            "407/407 [==============================] - 1s 2ms/step - loss: 0.5058 - val_loss: 0.5301\n",
            "Epoch 11/30\n",
            "407/407 [==============================] - 1s 2ms/step - loss: 0.4983 - val_loss: 0.5222\n",
            "Epoch 12/30\n",
            "407/407 [==============================] - 1s 2ms/step - loss: 0.4914 - val_loss: 0.5174\n",
            "Epoch 13/30\n",
            "407/407 [==============================] - 1s 2ms/step - loss: 0.4859 - val_loss: 0.5115\n",
            "Epoch 14/30\n",
            "407/407 [==============================] - 1s 2ms/step - loss: 0.4807 - val_loss: 0.5073\n",
            "Epoch 15/30\n",
            "407/407 [==============================] - 1s 2ms/step - loss: 0.4760 - val_loss: 0.5031\n",
            "Epoch 16/30\n",
            "407/407 [==============================] - 1s 2ms/step - loss: 0.4714 - val_loss: 0.4992\n",
            "Epoch 17/30\n",
            "407/407 [==============================] - 1s 2ms/step - loss: 0.4675 - val_loss: 0.4956\n",
            "Epoch 18/30\n",
            "407/407 [==============================] - 1s 2ms/step - loss: 0.4637 - val_loss: 0.4922\n",
            "Epoch 19/30\n",
            "407/407 [==============================] - 1s 2ms/step - loss: 0.4603 - val_loss: 0.4893\n",
            "Epoch 20/30\n",
            "407/407 [==============================] - 1s 2ms/step - loss: 0.4571 - val_loss: 0.4850\n",
            "Epoch 21/30\n",
            "407/407 [==============================] - 1s 2ms/step - loss: 0.4545 - val_loss: 0.4825\n",
            "Epoch 22/30\n",
            "407/407 [==============================] - 1s 2ms/step - loss: 0.4519 - val_loss: 0.4799\n",
            "Epoch 23/30\n",
            "407/407 [==============================] - 1s 2ms/step - loss: 0.4494 - val_loss: 0.4783\n",
            "Epoch 24/30\n",
            "407/407 [==============================] - 1s 2ms/step - loss: 0.4474 - val_loss: 0.4751\n",
            "Epoch 25/30\n",
            "407/407 [==============================] - 1s 2ms/step - loss: 0.4452 - val_loss: 0.4735\n",
            "Epoch 26/30\n",
            "407/407 [==============================] - 1s 2ms/step - loss: 0.4433 - val_loss: 0.4716\n",
            "Epoch 27/30\n",
            "407/407 [==============================] - 1s 2ms/step - loss: 0.4413 - val_loss: 0.4699\n",
            "Epoch 28/30\n",
            "407/407 [==============================] - 1s 2ms/step - loss: 0.4396 - val_loss: 0.4677\n",
            "Epoch 29/30\n",
            "407/407 [==============================] - 1s 2ms/step - loss: 0.4377 - val_loss: 0.4655\n",
            "Epoch 30/30\n",
            "407/407 [==============================] - 1s 2ms/step - loss: 0.4361 - val_loss: 0.4640\n"
          ],
          "name": "stdout"
        }
      ]
    },
    {
      "cell_type": "code",
      "metadata": {
        "id": "CoSFroUvYLPW",
        "colab": {
          "base_uri": "https://localhost:8080/",
          "height": 283
        },
        "outputId": "87918155-db6c-4af7-fea9-3eee7ff5b83c"
      },
      "source": [
        "history_df = pd.DataFrame(history.history)\n",
        "history_df[['loss', 'val_loss']].plot(kind='line')"
      ],
      "execution_count": null,
      "outputs": [
        {
          "output_type": "execute_result",
          "data": {
            "text/plain": [
              "<matplotlib.axes._subplots.AxesSubplot at 0x7fc99de1aef0>"
            ]
          },
          "metadata": {
            "tags": []
          },
          "execution_count": 139
        },
        {
          "output_type": "display_data",
          "data": {
            "image/png": "[encoded data removed]",
            "text/plain": [
              "<Figure size 432x288 with 1 Axes>"
            ]
          },
          "metadata": {
            "tags": [],
            "needs_background": "light"
          }
        }
      ]
    },
    {
      "cell_type": "code",
      "metadata": {
        "id": "I-DU63qYYQ91",
        "colab": {
          "base_uri": "https://localhost:8080/"
        },
        "outputId": "c683b48f-9d32-45ee-a97c-611723f93dd3"
      },
      "source": [
        "predictions = model.predict([X_test_scaled_A, \n",
        "                             X_test_scaled_B])\n",
        "print('R2:', r2_score(y_test, predictions))\n",
        "print('MSE:', mean_squared_error(y_test, predictions))"
      ],
      "execution_count": null,
      "outputs": [
        {
          "output_type": "stream",
          "text": [
            "R2: 0.6663551247588422\n",
            "MSE: 0.4379222805205722\n"
          ],
          "name": "stdout"
        }
      ]
    }
  ]
}
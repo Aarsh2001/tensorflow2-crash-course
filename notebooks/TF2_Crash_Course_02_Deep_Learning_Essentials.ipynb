{
  "nbformat": 4,
  "nbformat_minor": 0,
  "metadata": {
    "colab": {
      "name": "TF2 Crash Course 02: Deep Learning Essentials.ipynb",
      "provenance": [],
      "collapsed_sections": []
    },
    "kernelspec": {
      "name": "python3",
      "display_name": "Python 3"
    },
    "accelerator": "GPU"
  },
  "cells": [
    {
      "cell_type": "markdown",
      "metadata": {
        "id": "ib9kB4AYaTV8"
      },
      "source": [
        "# Deep Neural Nets Essentials\n",
        "\n",
        "In this session we will deepen our focus on understanding various aspects of Deep Neural Nets"
      ]
    },
    {
      "cell_type": "code",
      "metadata": {
        "id": "0w3-LfYdjPX6",
        "colab": {
          "base_uri": "https://localhost:8080/"
        },
        "outputId": "2c5848c8-6283-466e-f586-4bfc0261ff1f"
      },
      "source": [
        "!nvidia-smi"
      ],
      "execution_count": 1,
      "outputs": [
        {
          "output_type": "stream",
          "text": [
            "Sat Feb 13 03:04:02 2021       \n",
            "+-----------------------------------------------------------------------------+\n",
            "| NVIDIA-SMI 460.39       Driver Version: 460.32.03    CUDA Version: 11.2     |\n",
            "|-------------------------------+----------------------+----------------------+\n",
            "| GPU  Name        Persistence-M| Bus-Id        Disp.A | Volatile Uncorr. ECC |\n",
            "| Fan  Temp  Perf  Pwr:Usage/Cap|         Memory-Usage | GPU-Util  Compute M. |\n",
            "|                               |                      |               MIG M. |\n",
            "|===============================+======================+======================|\n",
            "|   0  Tesla P100-PCIE...  Off  | 00000000:00:04.0 Off |                    0 |\n",
            "| N/A   31C    P0    26W / 250W |      0MiB / 16280MiB |      0%      Default |\n",
            "|                               |                      |                  N/A |\n",
            "+-------------------------------+----------------------+----------------------+\n",
            "                                                                               \n",
            "+-----------------------------------------------------------------------------+\n",
            "| Processes:                                                                  |\n",
            "|  GPU   GI   CI        PID   Type   Process name                  GPU Memory |\n",
            "|        ID   ID                                                   Usage      |\n",
            "|=============================================================================|\n",
            "|  No running processes found                                                 |\n",
            "+-----------------------------------------------------------------------------+\n"
          ],
          "name": "stdout"
        }
      ]
    },
    {
      "cell_type": "markdown",
      "metadata": {
        "id": "IAGT9QbdaeYG"
      },
      "source": [
        "# Import Dependencies"
      ]
    },
    {
      "cell_type": "code",
      "metadata": {
        "id": "DYc1V3lEaSWF"
      },
      "source": [
        "import matplotlib.pyplot as plt\n",
        "import pandas as pd\n",
        "import numpy as np\n",
        "import sklearn\n",
        "import tensorflow as tf"
      ],
      "execution_count": 2,
      "outputs": []
    },
    {
      "cell_type": "code",
      "metadata": {
        "id": "bGsGZnrUbfFY",
        "colab": {
          "base_uri": "https://localhost:8080/"
        },
        "outputId": "c97de57a-2654-4fd5-de35-e16ec46856da"
      },
      "source": [
        "print(tf.__version__)"
      ],
      "execution_count": 3,
      "outputs": [
        {
          "output_type": "stream",
          "text": [
            "2.4.1\n"
          ],
          "name": "stdout"
        }
      ]
    },
    {
      "cell_type": "code",
      "metadata": {
        "id": "chxffg2hbhB_",
        "colab": {
          "base_uri": "https://localhost:8080/"
        },
        "outputId": "152a5748-0741-4885-fbfb-34c5d5a62a96"
      },
      "source": [
        "print(sklearn.__version__)"
      ],
      "execution_count": 4,
      "outputs": [
        {
          "output_type": "stream",
          "text": [
            "0.22.2.post1\n"
          ],
          "name": "stdout"
        }
      ]
    },
    {
      "cell_type": "markdown",
      "metadata": {
        "id": "yid423I2biJ9"
      },
      "source": [
        "# 1. Building a DNN based Image Classifier\n",
        "\n",
        "We will keep things simple here with regard to the key objective. We will build a simple apparel classifier by training models on the very famous [Fashion MNIST](https://github.com/zalandoresearch/fashion-mnist) dataset based on Zalando’s article images — consisting of a training set of 60,000 examples and a test set of 10,000 examples. Each example is a 28x28 grayscale image, associated with a label from 10 classes. The idea is to classify these images into an apparel category amongst 10 categories on which we will be training our models on.\n",
        "\n",
        "Here's an example how the data looks (each class takes three-rows):\n",
        "\n",
        "<table>\n",
        "  <tr><td>\n",
        "    <img src=\"https://raw.githubusercontent.com/zalandoresearch/fashion-mnist/master/doc/img/fashion-mnist-sprite.png\"\n",
        "         alt=\"Fashion MNIST sprite\"  width=\"600\">\n",
        "  </td></tr>\n",
        "  <tr><td align=\"center\">\n",
        "    <a href=\"https://github.com/zalandoresearch/fashion-mnist\">Fashion-MNIST samples</a> (by Zalando, MIT License).<br/>&nbsp;\n",
        "  </td></tr>\n",
        "</table>\n",
        "\n",
        "Fashion MNIST is intended as a drop-in replacement for the classic [MNIST](http://yann.lecun.com/exdb/mnist/) dataset—often used as the \"Hello, World\" of machine learning programs for computer vision. You can access the Fashion MNIST directly from TensorFlow.\n",
        "\n",
        "__Note:__ Although these are really images, they are loaded as NumPy arrays and not binary image objects."
      ]
    },
    {
      "cell_type": "markdown",
      "metadata": {
        "id": "tcunPKn0c4e1"
      },
      "source": [
        "## 1.1: Understanding the data"
      ]
    },
    {
      "cell_type": "code",
      "metadata": {
        "id": "F_hrm3uvcAop",
        "colab": {
          "base_uri": "https://localhost:8080/"
        },
        "outputId": "9287e153-2fd3-4e00-cd49-607e9fc1a648"
      },
      "source": [
        "fashion_mnist = tf.keras.datasets.fashion_mnist\n",
        "(X_train, y_train), (X_test, y_test) = fashion_mnist.load_data()\n",
        "\n",
        "X_train.shape, X_test.shape"
      ],
      "execution_count": 5,
      "outputs": [
        {
          "output_type": "stream",
          "text": [
            "Downloading data from https://storage.googleapis.com/tensorflow/tf-keras-datasets/train-labels-idx1-ubyte.gz\n",
            "32768/29515 [=================================] - 0s 0us/step\n",
            "Downloading data from https://storage.googleapis.com/tensorflow/tf-keras-datasets/train-images-idx3-ubyte.gz\n",
            "26427392/26421880 [==============================] - 0s 0us/step\n",
            "Downloading data from https://storage.googleapis.com/tensorflow/tf-keras-datasets/t10k-labels-idx1-ubyte.gz\n",
            "8192/5148 [===============================================] - 0s 0us/step\n",
            "Downloading data from https://storage.googleapis.com/tensorflow/tf-keras-datasets/t10k-images-idx3-ubyte.gz\n",
            "4423680/4422102 [==============================] - 0s 0us/step\n"
          ],
          "name": "stdout"
        },
        {
          "output_type": "execute_result",
          "data": {
            "text/plain": [
              "((60000, 28, 28), (10000, 28, 28))"
            ]
          },
          "metadata": {
            "tags": []
          },
          "execution_count": 5
        }
      ]
    },
    {
      "cell_type": "markdown",
      "metadata": {
        "id": "5KZ0rZzocYdV"
      },
      "source": [
        "We scale the pixel intensities down to the 0-1 range and convert them to floats, by dividing by 255 (NNs like normalized inputs)."
      ]
    },
    {
      "cell_type": "code",
      "metadata": {
        "id": "Kwm4P6wzcNS6"
      },
      "source": [
        "X_train = X_train / 255.\n",
        "X_test = X_test / 255."
      ],
      "execution_count": 6,
      "outputs": []
    },
    {
      "cell_type": "code",
      "metadata": {
        "id": "Eww0SuIrcbxU",
        "colab": {
          "base_uri": "https://localhost:8080/",
          "height": 265
        },
        "outputId": "25c18e6a-ae7d-4b85-ac2b-ef7b3a9c4d8f"
      },
      "source": [
        "plt.imshow(X_train[0], cmap=\"binary\");"
      ],
      "execution_count": 7,
      "outputs": [
        {
          "output_type": "display_data",
          "data": {
            "image/png": "[encoded data removed]",
            "text/plain": [
              "<Figure size 432x288 with 1 Axes>"
            ]
          },
          "metadata": {
            "tags": [],
            "needs_background": "light"
          }
        }
      ]
    },
    {
      "cell_type": "markdown",
      "metadata": {
        "id": "nF4qF5P0cmya"
      },
      "source": [
        "The labels are the class IDs (represented as uint8), from 0 to 9:"
      ]
    },
    {
      "cell_type": "code",
      "metadata": {
        "id": "rPdWjqbhcked",
        "colab": {
          "base_uri": "https://localhost:8080/"
        },
        "outputId": "158c5f5b-659d-4955-d047-f4d1f0102c34"
      },
      "source": [
        "y_train"
      ],
      "execution_count": 8,
      "outputs": [
        {
          "output_type": "execute_result",
          "data": {
            "text/plain": [
              "array([9, 0, 0, ..., 3, 0, 5], dtype=uint8)"
            ]
          },
          "metadata": {
            "tags": []
          },
          "execution_count": 8
        }
      ]
    },
    {
      "cell_type": "markdown",
      "metadata": {
        "id": "JCx593p5csMY"
      },
      "source": [
        "Here are the corresponding class names:"
      ]
    },
    {
      "cell_type": "code",
      "metadata": {
        "id": "_pSvtZAIco4v"
      },
      "source": [
        "class_names = [\"T-shirt/top\", \"Trouser\", \"Pullover\", \"Dress\", \"Coat\",\n",
        "               \"Sandal\", \"Shirt\", \"Sneaker\", \"Bag\", \"Ankle boot\"]"
      ],
      "execution_count": 9,
      "outputs": []
    },
    {
      "cell_type": "markdown",
      "metadata": {
        "id": "c7qx4Si1cu3X"
      },
      "source": [
        "So the first image in the training set is a Ankle Boot:"
      ]
    },
    {
      "cell_type": "code",
      "metadata": {
        "id": "BtaXMu2NctiY",
        "colab": {
          "base_uri": "https://localhost:8080/",
          "height": 35
        },
        "outputId": "24cc8953-dc93-4a4d-cbe0-642b7d85a6c7"
      },
      "source": [
        "class_names[y_train[0]]"
      ],
      "execution_count": 10,
      "outputs": [
        {
          "output_type": "execute_result",
          "data": {
            "application/vnd.google.colaboratory.intrinsic+json": {
              "type": "string"
            },
            "text/plain": [
              "'Ankle boot'"
            ]
          },
          "metadata": {
            "tags": []
          },
          "execution_count": 10
        }
      ]
    },
    {
      "cell_type": "code",
      "metadata": {
        "id": "qtuU21-dcwSf",
        "colab": {
          "base_uri": "https://localhost:8080/",
          "height": 308
        },
        "outputId": "4d4b79a7-bf0c-4139-a78e-c6931358e9ee"
      },
      "source": [
        "n_rows = 4\n",
        "n_cols = 10\n",
        "plt.figure(figsize=(n_cols * 1.2, n_rows * 1.2))\n",
        "for row in range(n_rows):\n",
        "    for col in range(n_cols):\n",
        "        index = n_cols * row + col\n",
        "        plt.subplot(n_rows, n_cols, index + 1)\n",
        "        plt.imshow(X_train[index], cmap=\"binary\", interpolation=\"nearest\")\n",
        "        plt.axis('off')\n",
        "        plt.title(class_names[y_train[index]], fontsize=12)\n",
        "plt.subplots_adjust(wspace=0.2, hspace=0.5);"
      ],
      "execution_count": 11,
      "outputs": [
        {
          "output_type": "display_data",
          "data": {
            "image/png": "[encoded data removed]",
            "text/plain": [
              "<Figure size 864x345.6 with 40 Axes>"
            ]
          },
          "metadata": {
            "tags": [],
            "needs_background": "light"
          }
        }
      ]
    },
    {
      "cell_type": "code",
      "metadata": {
        "id": "_jItLcbfc0ij"
      },
      "source": [
        "np.random.seed(42)\n",
        "tf.random.set_seed(42)"
      ],
      "execution_count": 12,
      "outputs": []
    },
    {
      "cell_type": "code",
      "metadata": {
        "id": "bwls5ex8kGKj",
        "colab": {
          "base_uri": "https://localhost:8080/"
        },
        "outputId": "dfbb10e8-432c-4554-d6bb-dd8b752a04ec"
      },
      "source": [
        "28*28"
      ],
      "execution_count": 13,
      "outputs": [
        {
          "output_type": "execute_result",
          "data": {
            "text/plain": [
              "784"
            ]
          },
          "metadata": {
            "tags": []
          },
          "execution_count": 13
        }
      ]
    },
    {
      "cell_type": "markdown",
      "metadata": {
        "id": "WclsZdzGduHj"
      },
      "source": [
        "## 1.2: Building a 2-layer DNN"
      ]
    },
    {
      "cell_type": "markdown",
      "metadata": {
        "id": "upYAnpXFfF2u"
      },
      "source": [
        "Build a `Sequential` model (`tf.keras.models.Sequential`) and add four layers to it:\n",
        "  * a `Flatten` layer (`tf.keras.layers.Flatten`) to convert each 28x28 image to a single row of 784 pixel values. Since it is the first layer in your model, you should specify the `input_shape` argument, leaving out the batch size: `[28, 28]`.\n",
        "  * a `Dense` layer  (`tf.keras.layers.Dense`) with 300 neurons (aka units), and the `\"relu\"` activation function.\n",
        "  * Another `Dense` layer with 100 neurons, also with the `\"relu\"` activation function.\n",
        "  * A final `Dense` layer with 10 neurons (one per class), and with the `\"softmax\"` activation function to ensure that the sum of all the estimated class probabilities for each image is equal to 1."
      ]
    },
    {
      "cell_type": "code",
      "metadata": {
        "id": "pgTNq_98d527"
      },
      "source": [
        "model = tf.keras.models.Sequential([\n",
        "    tf.keras.layers.Flatten(input_shape=[28, 28]),\n",
        "    tf.keras.layers.Dense(300, activation='relu'),\n",
        "    tf.keras.layers.Dense(100, activation='relu'),\n",
        "    tf.keras.layers.Dense(10, activation=\"softmax\")\n",
        "                                    \n",
        "])"
      ],
      "execution_count": 14,
      "outputs": []
    },
    {
      "cell_type": "markdown",
      "metadata": {
        "id": "tJQ9GaMcfVgg"
      },
      "source": [
        "After a model is created, you must call its `compile()` method to specify the `loss` function and the `optimizer` to use. In this case, you want to use the `\"sparse_categorical_crossentropy\"` loss, and the `keras.optimizers.SGD(lr=1e-3)` optimizer (stochastic gradient descent with learning rate of 1e-3). In this case you should specify `metrics=[\"accuracy\"]`."
      ]
    },
    {
      "cell_type": "code",
      "metadata": {
        "id": "gamiwmWteKUM",
        "colab": {
          "base_uri": "https://localhost:8080/"
        },
        "outputId": "ca11b215-46ff-4798-83d0-e791f89a7966"
      },
      "source": [
        "model.compile(loss=\"sparse_categorical_crossentropy\", \n",
        "              optimizer=tf.keras.optimizers.SGD(1e-3),\n",
        "              metrics=[\"accuracy\"])\n",
        "model.summary()"
      ],
      "execution_count": null,
      "outputs": [
        {
          "output_type": "stream",
          "text": [
            "Model: \"sequential\"\n",
            "_________________________________________________________________\n",
            "Layer (type)                 Output Shape              Param #   \n",
            "=================================================================\n",
            "flatten (Flatten)            (None, 784)               0         \n",
            "_________________________________________________________________\n",
            "dense (Dense)                (None, 300)               235500    \n",
            "_________________________________________________________________\n",
            "dense_1 (Dense)              (None, 100)               30100     \n",
            "_________________________________________________________________\n",
            "dense_2 (Dense)              (None, 10)                1010      \n",
            "=================================================================\n",
            "Total params: 266,610\n",
            "Trainable params: 266,610\n",
            "Non-trainable params: 0\n",
            "_________________________________________________________________\n"
          ],
          "name": "stdout"
        }
      ]
    },
    {
      "cell_type": "markdown",
      "metadata": {
        "id": "EtiTBHrEimDP"
      },
      "source": [
        "## 1.3: Train & Test"
      ]
    },
    {
      "cell_type": "markdown",
      "metadata": {
        "id": "GePIEjOwfYWe"
      },
      "source": [
        "Now your model is ready to be trained. Call its `fit()` method, passing it the input features (`X_train`) and the target classes (`y_train`). Set `epochs=10` (or else it will just run for a single epoch). You can also (optionally) pass 10% validation data by setting `validation_split=0.1`. If you do, Keras will compute the loss and the additional metrics (the accuracy in this case) on the validation set at the end of each epoch. If the performance on the training set is much better than on the validation set, your model is probably overfitting the training set (or there is a bug, such as a mismatch between the training set and the validation set).\n",
        "**Note**: the `fit()` method will return a `History` object containing training stats. Make sure to preserve it (`history = model.fit(...)`)."
      ]
    },
    {
      "cell_type": "code",
      "metadata": {
        "id": "kC-SwgN5eRWe",
        "colab": {
          "base_uri": "https://localhost:8080/"
        },
        "outputId": "a243354a-cb08-47a3-dec5-2f7c9d9bc2b0"
      },
      "source": [
        "history = model.fit(X_train, y_train, \n",
        "                    epochs=20,\n",
        "                    batch_size=32,\n",
        "                    validation_split=0.1)"
      ],
      "execution_count": null,
      "outputs": [
        {
          "output_type": "stream",
          "text": [
            "Epoch 1/20\n",
            "1688/1688 [==============================] - 4s 2ms/step - loss: 1.5028 - accuracy: 0.5739 - val_loss: 1.0122 - val_accuracy: 0.7038\n",
            "Epoch 2/20\n",
            "1688/1688 [==============================] - 3s 2ms/step - loss: 0.8731 - accuracy: 0.7313 - val_loss: 0.7603 - val_accuracy: 0.7532\n",
            "Epoch 3/20\n",
            "1688/1688 [==============================] - 3s 2ms/step - loss: 0.7203 - accuracy: 0.7667 - val_loss: 0.6677 - val_accuracy: 0.7747\n",
            "Epoch 4/20\n",
            "1688/1688 [==============================] - 3s 2ms/step - loss: 0.6482 - accuracy: 0.7883 - val_loss: 0.6158 - val_accuracy: 0.7895\n",
            "Epoch 5/20\n",
            "1688/1688 [==============================] - 4s 2ms/step - loss: 0.6018 - accuracy: 0.8038 - val_loss: 0.5773 - val_accuracy: 0.8050\n",
            "Epoch 6/20\n",
            "1688/1688 [==============================] - 3s 2ms/step - loss: 0.5688 - accuracy: 0.8135 - val_loss: 0.5563 - val_accuracy: 0.8138\n",
            "Epoch 7/20\n",
            "1688/1688 [==============================] - 3s 2ms/step - loss: 0.5445 - accuracy: 0.8203 - val_loss: 0.5312 - val_accuracy: 0.8183\n",
            "Epoch 8/20\n",
            "1688/1688 [==============================] - 3s 2ms/step - loss: 0.5257 - accuracy: 0.8254 - val_loss: 0.5145 - val_accuracy: 0.8230\n",
            "Epoch 9/20\n",
            "1688/1688 [==============================] - 4s 2ms/step - loss: 0.5104 - accuracy: 0.8302 - val_loss: 0.5052 - val_accuracy: 0.8277\n",
            "Epoch 10/20\n",
            "1688/1688 [==============================] - 3s 2ms/step - loss: 0.4978 - accuracy: 0.8338 - val_loss: 0.4915 - val_accuracy: 0.8297\n",
            "Epoch 11/20\n",
            "1688/1688 [==============================] - 3s 2ms/step - loss: 0.4873 - accuracy: 0.8367 - val_loss: 0.4822 - val_accuracy: 0.8348\n",
            "Epoch 12/20\n",
            "1688/1688 [==============================] - 3s 2ms/step - loss: 0.4779 - accuracy: 0.8387 - val_loss: 0.4762 - val_accuracy: 0.8363\n",
            "Epoch 13/20\n",
            "1688/1688 [==============================] - 3s 2ms/step - loss: 0.4699 - accuracy: 0.8406 - val_loss: 0.4685 - val_accuracy: 0.8377\n",
            "Epoch 14/20\n",
            "1688/1688 [==============================] - 4s 2ms/step - loss: 0.4627 - accuracy: 0.8429 - val_loss: 0.4635 - val_accuracy: 0.8412\n",
            "Epoch 15/20\n",
            "1688/1688 [==============================] - 4s 2ms/step - loss: 0.4568 - accuracy: 0.8447 - val_loss: 0.4612 - val_accuracy: 0.8377\n",
            "Epoch 16/20\n",
            "1688/1688 [==============================] - 4s 2ms/step - loss: 0.4509 - accuracy: 0.8465 - val_loss: 0.4504 - val_accuracy: 0.8405\n",
            "Epoch 17/20\n",
            "1688/1688 [==============================] - 4s 2ms/step - loss: 0.4456 - accuracy: 0.8477 - val_loss: 0.4453 - val_accuracy: 0.8453\n",
            "Epoch 18/20\n",
            "1688/1688 [==============================] - 3s 2ms/step - loss: 0.4410 - accuracy: 0.8499 - val_loss: 0.4478 - val_accuracy: 0.8437\n",
            "Epoch 19/20\n",
            "1688/1688 [==============================] - 4s 2ms/step - loss: 0.4363 - accuracy: 0.8506 - val_loss: 0.4390 - val_accuracy: 0.8475\n",
            "Epoch 20/20\n",
            "1688/1688 [==============================] - 3s 2ms/step - loss: 0.4324 - accuracy: 0.8521 - val_loss: 0.4375 - val_accuracy: 0.8492\n"
          ],
          "name": "stdout"
        }
      ]
    },
    {
      "cell_type": "markdown",
      "metadata": {
        "id": "NBl9eujxfx9D"
      },
      "source": [
        "Try running `pd.DataFrame(history.history).plot()` to plot the learning curves."
      ]
    },
    {
      "cell_type": "code",
      "metadata": {
        "id": "dDT-K5yneh5O",
        "colab": {
          "base_uri": "https://localhost:8080/",
          "height": 324
        },
        "outputId": "7729af24-fd91-419b-cd61-b9fb293bd3c3"
      },
      "source": [
        "pd.DataFrame(history.history).plot(figsize=(8, 5))\n",
        "plt.grid(True)\n",
        "plt.gca().set_ylim(0.3, 1);"
      ],
      "execution_count": null,
      "outputs": [
        {
          "output_type": "display_data",
          "data": {
            "image/png": "[encoded data removed]",
            "text/plain": [
              "<Figure size 576x360 with 1 Axes>"
            ]
          },
          "metadata": {
            "tags": [],
            "needs_background": "light"
          }
        }
      ]
    },
    {
      "cell_type": "markdown",
      "metadata": {
        "id": "erIeE8WHgnkw"
      },
      "source": [
        "Call the model's `predict()` method to estimate the probability of each class for each instance"
      ]
    },
    {
      "cell_type": "code",
      "metadata": {
        "id": "609l6PpVfkav",
        "colab": {
          "base_uri": "https://localhost:8080/"
        },
        "outputId": "d4066e65-05a8-42d8-a959-7099a69a1dea"
      },
      "source": [
        "y_pred = model.predict(X_test)\n",
        "y_pred"
      ],
      "execution_count": null,
      "outputs": [
        {
          "output_type": "execute_result",
          "data": {
            "text/plain": [
              "array([[2.9123144e-05, 5.6710069e-06, 3.9882616e-05, ..., 2.1425611e-01,\n",
              "        5.3555961e-03, 6.3845092e-01],\n",
              "       [4.6123072e-04, 1.9474322e-05, 7.7543676e-01, ..., 1.2149670e-10,\n",
              "        4.4851447e-05, 4.5031276e-09],\n",
              "       [2.1345770e-05, 9.9986351e-01, 4.3233595e-06, ..., 8.8093415e-11,\n",
              "        8.9394973e-07, 5.7581708e-09],\n",
              "       ...,\n",
              "       [7.6113254e-02, 1.6507634e-04, 2.3978287e-03, ..., 3.3976123e-04,\n",
              "        7.2901016e-01, 1.4659639e-04],\n",
              "       [1.2318377e-04, 9.9756974e-01, 2.4066707e-05, ..., 2.7917453e-08,\n",
              "        9.3446106e-06, 3.1744657e-06],\n",
              "       [5.4539222e-04, 1.8302802e-04, 9.8623044e-04, ..., 1.5533124e-01,\n",
              "        2.5186859e-02, 2.4260342e-02]], dtype=float32)"
            ]
          },
          "metadata": {
            "tags": []
          },
          "execution_count": 21
        }
      ]
    },
    {
      "cell_type": "code",
      "metadata": {
        "id": "3x1qvSBUliNa",
        "colab": {
          "base_uri": "https://localhost:8080/"
        },
        "outputId": "ac541d08-359d-468f-8d2f-00520a07bece"
      },
      "source": [
        "y_pred.shape"
      ],
      "execution_count": null,
      "outputs": [
        {
          "output_type": "execute_result",
          "data": {
            "text/plain": [
              "(10000, 10)"
            ]
          },
          "metadata": {
            "tags": []
          },
          "execution_count": 22
        }
      ]
    },
    {
      "cell_type": "markdown",
      "metadata": {
        "id": "ndL-o4oGgtfR"
      },
      "source": [
        "Often, you may only be interested in the most likely class. Use `np.argmax()` to get the class ID of the most likely class for each instance. **Tip**: you want to set `axis=1`."
      ]
    },
    {
      "cell_type": "code",
      "metadata": {
        "id": "fJLoDvgFgozI",
        "colab": {
          "base_uri": "https://localhost:8080/"
        },
        "outputId": "4982f1f3-9a5e-4438-ea8d-dabf077fe3a3"
      },
      "source": [
        "y_pred = y_pred.argmax(axis=1)\n",
        "y_pred"
      ],
      "execution_count": null,
      "outputs": [
        {
          "output_type": "execute_result",
          "data": {
            "text/plain": [
              "array([9, 2, 1, ..., 8, 1, 5])"
            ]
          },
          "metadata": {
            "tags": []
          },
          "execution_count": 23
        }
      ]
    },
    {
      "cell_type": "code",
      "metadata": {
        "id": "EzW_v9JJgwwi",
        "colab": {
          "base_uri": "https://localhost:8080/"
        },
        "outputId": "8ae88235-3d64-4d00-fab3-60651fb01e22"
      },
      "source": [
        "from sklearn.metrics import classification_report\n",
        "\n",
        "print(classification_report(y_test, y_pred,\n",
        "      target_names=class_names))"
      ],
      "execution_count": null,
      "outputs": [
        {
          "output_type": "stream",
          "text": [
            "              precision    recall  f1-score   support\n",
            "\n",
            " T-shirt/top       0.80      0.81      0.80      1000\n",
            "     Trouser       0.98      0.95      0.97      1000\n",
            "    Pullover       0.79      0.66      0.72      1000\n",
            "       Dress       0.83      0.87      0.85      1000\n",
            "        Coat       0.73      0.77      0.75      1000\n",
            "      Sandal       0.94      0.91      0.92      1000\n",
            "       Shirt       0.58      0.61      0.59      1000\n",
            "     Sneaker       0.90      0.91      0.90      1000\n",
            "         Bag       0.93      0.94      0.93      1000\n",
            "  Ankle boot       0.92      0.94      0.93      1000\n",
            "\n",
            "    accuracy                           0.84     10000\n",
            "   macro avg       0.84      0.84      0.84     10000\n",
            "weighted avg       0.84      0.84      0.84     10000\n",
            "\n"
          ],
          "name": "stdout"
        }
      ]
    },
    {
      "cell_type": "markdown",
      "metadata": {
        "id": "4bGeQep6jgjD"
      },
      "source": [
        "# 2. Other Activation Functions"
      ]
    },
    {
      "cell_type": "markdown",
      "metadata": {
        "id": "clcLw2BjirNr"
      },
      "source": [
        "## 2.1: Vanishing/Exploding Gradients Problem\n",
        "\n",
        "When training a deep neural network with differentiation i.e gradient computations via backpropagation, we find the partial derivatives by traversing the network from the the output layer to the initial layer. \n",
        "\n",
        "Using the chain rule, layers that are deeper into the network go through a large number of matrix multiplications in order to compute derivatives.\n",
        "\n",
        "n a network of n hidden layers, n derivatives will be multiplied together. If the derivatives are large then the gradient will increase exponentially as we propagate down the model until they eventually explode, and this is what we call the problem of exploding gradient. \n",
        "\n",
        "Alternatively, if the derivatives are small then the gradient will decrease exponentially as we propagate through the model until it eventually vanishes, and this is the vanishing gradient problem.\n",
        "\n",
        "[Source](https://towardsdatascience.com/the-vanishing-exploding-gradient-problem-in-deep-neural-networks-191358470c11)\n",
        "\n",
        "\n",
        "Activation functions whose gradients contract as they saturate\n",
        "are typically referred to as saturating nonlinearities; in that\n",
        "sense, rectified linear units (ReLU) (Nair and Hinton 2010)\n",
        "are non-saturating and thus help reduce vanishing gradients\n",
        "in deep feed-forward networks\n",
        "\n",
        "[Source](https://arxiv.org/pdf/1902.06704.pdf)"
      ]
    },
    {
      "cell_type": "code",
      "metadata": {
        "id": "Z5ZBwAOvg6Pm"
      },
      "source": [
        "def logit(z):\n",
        "    return 1 / (1 + np.exp(-z))"
      ],
      "execution_count": 17,
      "outputs": []
    },
    {
      "cell_type": "code",
      "metadata": {
        "id": "QC2SbPR8jLke",
        "colab": {
          "base_uri": "https://localhost:8080/",
          "height": 282
        },
        "outputId": "a195ab5b-2c38-41ff-9e91-366662aa865e"
      },
      "source": [
        "z = np.linspace(-5, 5, 200)\n",
        "\n",
        "plt.plot([-5, 5], [0, 0], 'k-')\n",
        "plt.plot([-5, 5], [1, 1], 'k--')\n",
        "plt.plot([0, 0], [-0.2, 1.2], 'k-')\n",
        "plt.plot([-5, 5], [-3/4, 7/4], 'g--')\n",
        "plt.plot(z, logit(z), \"b-\", linewidth=2)\n",
        "props = dict(facecolor='black', shrink=0.1)\n",
        "plt.annotate('Saturating', xytext=(3.5, 0.7), xy=(5, 1), arrowprops=props, fontsize=14, ha=\"center\")\n",
        "plt.annotate('Saturating', xytext=(-3.5, 0.3), xy=(-5, 0), arrowprops=props, fontsize=14, ha=\"center\")\n",
        "plt.annotate('Linear', xytext=(2, 0.2), xy=(0, 0.5), arrowprops=props, fontsize=14, ha=\"center\")\n",
        "plt.grid(True)\n",
        "plt.title(\"Sigmoid activation function\", fontsize=14)\n",
        "plt.axis([-5, 5, -0.2, 1.2]);"
      ],
      "execution_count": 18,
      "outputs": [
        {
          "output_type": "display_data",
          "data": {
            "image/png": "[encoded data removed]",
            "text/plain": [
              "<Figure size 432x288 with 1 Axes>"
            ]
          },
          "metadata": {
            "tags": [],
            "needs_background": "light"
          }
        }
      ]
    },
    {
      "cell_type": "markdown",
      "metadata": {
        "id": "CSGJegGLjqLB"
      },
      "source": [
        "## 2.2: Nonsaturating Activation Functions"
      ]
    },
    {
      "cell_type": "markdown",
      "metadata": {
        "id": "FtymrUn-XMPl"
      },
      "source": [
        "### ReLu"
      ]
    },
    {
      "cell_type": "code",
      "metadata": {
        "colab": {
          "base_uri": "https://localhost:8080/",
          "height": 282
        },
        "id": "LBdvL_pOXXe_",
        "outputId": "6ba24c09-368e-4d56-9e1f-32f0975b9094"
      },
      "source": [
        "plt.plot(z, tf.nn.relu(z), \"b-\", linewidth=2)\r\n",
        "plt.plot([-5, 5], [0, 0], 'k-')\r\n",
        "plt.plot([0, 0], [-0.5, 4.2], 'k-')\r\n",
        "plt.grid(True)\r\n",
        "props = dict(facecolor='black', shrink=0.1)\r\n",
        "plt.title(\"ReLU activation function\", fontsize=14)\r\n",
        "plt.axis([-5, 5, -0.5, 4.2]);"
      ],
      "execution_count": 21,
      "outputs": [
        {
          "output_type": "display_data",
          "data": {
            "image/png": "[encoded data removed]",
            "text/plain": [
              "<Figure size 432x288 with 1 Axes>"
            ]
          },
          "metadata": {
            "tags": [],
            "needs_background": "light"
          }
        }
      ]
    },
    {
      "cell_type": "markdown",
      "metadata": {
        "id": "rDowraJ8jtw6"
      },
      "source": [
        "### Leaky ReLu\r\n",
        "\r\n",
        "Proposed in 2013 as an activation function that introduces a small negative slope to the ReLU function to prevent dead neurons"
      ]
    },
    {
      "cell_type": "code",
      "metadata": {
        "id": "UfleETAejOID"
      },
      "source": [
        "def leaky_relu(z, alpha=0.01):\n",
        "    return np.maximum(alpha*z, z)"
      ],
      "execution_count": null,
      "outputs": []
    },
    {
      "cell_type": "code",
      "metadata": {
        "id": "iRMguyFdjwXO",
        "colab": {
          "base_uri": "https://localhost:8080/",
          "height": 282
        },
        "outputId": "3e28af82-67e0-4d60-cb1c-fac7ac96d133"
      },
      "source": [
        "plt.plot(z, leaky_relu(z, 0.05), \"b-\", linewidth=2)\n",
        "plt.plot([-5, 5], [0, 0], 'k-')\n",
        "plt.plot([0, 0], [-0.5, 4.2], 'k-')\n",
        "plt.grid(True)\n",
        "props = dict(facecolor='black', shrink=0.1)\n",
        "plt.annotate('Leak', xytext=(-3.5, 0.5), xy=(-5, -0.2), arrowprops=props, fontsize=14, ha=\"center\")\n",
        "plt.title(\"Leaky ReLU activation function\", fontsize=14)\n",
        "plt.axis([-5, 5, -0.5, 4.2]);"
      ],
      "execution_count": null,
      "outputs": [
        {
          "output_type": "display_data",
          "data": {
            "image/png": "[encoded data removed]",
            "text/plain": [
              "<Figure size 432x288 with 1 Axes>"
            ]
          },
          "metadata": {
            "tags": [],
            "needs_background": "light"
          }
        }
      ]
    },
    {
      "cell_type": "code",
      "metadata": {
        "id": "wN06D61njxtO",
        "colab": {
          "base_uri": "https://localhost:8080/",
          "height": 282
        },
        "outputId": "90104eaf-5d1c-4da5-d0ea-67ea164aaea9"
      },
      "source": [
        "plt.plot(z, tf.nn.leaky_relu(z, 0.05), \"b-\", linewidth=2)\n",
        "plt.plot([-5, 5], [0, 0], 'k-')\n",
        "plt.plot([0, 0], [-0.5, 4.2], 'k-')\n",
        "plt.grid(True)\n",
        "props = dict(facecolor='black', shrink=0.1)\n",
        "plt.annotate('Leak', xytext=(-3.5, 0.5), xy=(-5, -0.2), arrowprops=props, fontsize=14, ha=\"center\")\n",
        "plt.title(\"Leaky ReLU activation function\", fontsize=14)\n",
        "plt.axis([-5, 5, -0.5, 4.2]);"
      ],
      "execution_count": null,
      "outputs": [
        {
          "output_type": "display_data",
          "data": {
            "image/png": "[encoded data removed]",
            "text/plain": [
              "<Figure size 432x288 with 1 Axes>"
            ]
          },
          "metadata": {
            "tags": [],
            "needs_background": "light"
          }
        }
      ]
    },
    {
      "cell_type": "code",
      "metadata": {
        "id": "Tpglilsyj3QU",
        "colab": {
          "base_uri": "https://localhost:8080/"
        },
        "outputId": "3edcdb09-777c-43e7-a058-b4a2170dad36"
      },
      "source": [
        "[m for m in dir(tf.keras.activations) if not m.startswith(\"_\")]"
      ],
      "execution_count": null,
      "outputs": [
        {
          "output_type": "execute_result",
          "data": {
            "text/plain": [
              "['deserialize',\n",
              " 'elu',\n",
              " 'exponential',\n",
              " 'get',\n",
              " 'hard_sigmoid',\n",
              " 'linear',\n",
              " 'relu',\n",
              " 'selu',\n",
              " 'serialize',\n",
              " 'sigmoid',\n",
              " 'softmax',\n",
              " 'softplus',\n",
              " 'softsign',\n",
              " 'swish',\n",
              " 'tanh']"
            ]
          },
          "metadata": {
            "tags": []
          },
          "execution_count": 30
        }
      ]
    },
    {
      "cell_type": "markdown",
      "metadata": {
        "id": "kaQpt2m5kDwS"
      },
      "source": [
        "### Training with LeakyReLu"
      ]
    },
    {
      "cell_type": "code",
      "metadata": {
        "id": "2LF2djQQj7D5"
      },
      "source": [
        "leaky_relu = tf.keras.layers.LeakyReLU(alpha=0.1)\n",
        "model = tf.keras.models.Sequential([\n",
        "    tf.keras.layers.Flatten(input_shape=[28, 28]),\n",
        "    tf.keras.layers.Dense(300, activation=leaky_relu),\n",
        "    tf.keras.layers.Dense(100, activation=leaky_relu),\n",
        "    tf.keras.layers.Dense(10, activation=\"softmax\")\n",
        "])"
      ],
      "execution_count": null,
      "outputs": []
    },
    {
      "cell_type": "code",
      "metadata": {
        "id": "BfDAByxpkM8c",
        "colab": {
          "base_uri": "https://localhost:8080/"
        },
        "outputId": "2fd0898d-f1a4-49d9-f207-a2c0cb0d0d2f"
      },
      "source": [
        "model.compile(loss=\"sparse_categorical_crossentropy\", \n",
        "              optimizer=tf.keras.optimizers.SGD(1e-3),\n",
        "              metrics=[\"accuracy\"])\n",
        "model.summary()"
      ],
      "execution_count": null,
      "outputs": [
        {
          "output_type": "stream",
          "text": [
            "Model: \"sequential_1\"\n",
            "_________________________________________________________________\n",
            "Layer (type)                 Output Shape              Param #   \n",
            "=================================================================\n",
            "flatten_1 (Flatten)          (None, 784)               0         \n",
            "_________________________________________________________________\n",
            "dense_3 (Dense)              (None, 300)               235500    \n",
            "_________________________________________________________________\n",
            "dense_4 (Dense)              (None, 100)               30100     \n",
            "_________________________________________________________________\n",
            "dense_5 (Dense)              (None, 10)                1010      \n",
            "=================================================================\n",
            "Total params: 266,610\n",
            "Trainable params: 266,610\n",
            "Non-trainable params: 0\n",
            "_________________________________________________________________\n"
          ],
          "name": "stdout"
        }
      ]
    },
    {
      "cell_type": "code",
      "metadata": {
        "id": "jt3L74j-kdTz",
        "colab": {
          "base_uri": "https://localhost:8080/"
        },
        "outputId": "b56d12ba-f654-46b4-9fb2-8e7c8b1db12e"
      },
      "source": [
        "history = model.fit(X_train, y_train, \n",
        "                    epochs=20,\n",
        "                    batch_size=32,\n",
        "                    validation_split=0.1)"
      ],
      "execution_count": null,
      "outputs": [
        {
          "output_type": "stream",
          "text": [
            "Epoch 1/20\n",
            "1688/1688 [==============================] - 4s 2ms/step - loss: 1.3688 - accuracy: 0.6149 - val_loss: 0.9200 - val_accuracy: 0.7220\n",
            "Epoch 2/20\n",
            "1688/1688 [==============================] - 4s 2ms/step - loss: 0.8234 - accuracy: 0.7391 - val_loss: 0.7263 - val_accuracy: 0.7640\n",
            "Epoch 3/20\n",
            "1688/1688 [==============================] - 3s 2ms/step - loss: 0.6984 - accuracy: 0.7737 - val_loss: 0.6450 - val_accuracy: 0.7857\n",
            "Epoch 4/20\n",
            "1688/1688 [==============================] - 4s 2ms/step - loss: 0.6349 - accuracy: 0.7924 - val_loss: 0.5999 - val_accuracy: 0.7935\n",
            "Epoch 5/20\n",
            "1688/1688 [==============================] - 4s 2ms/step - loss: 0.5936 - accuracy: 0.8047 - val_loss: 0.5649 - val_accuracy: 0.8077\n",
            "Epoch 6/20\n",
            "1688/1688 [==============================] - 4s 2ms/step - loss: 0.5640 - accuracy: 0.8132 - val_loss: 0.5470 - val_accuracy: 0.8123\n",
            "Epoch 7/20\n",
            "1688/1688 [==============================] - 3s 2ms/step - loss: 0.5419 - accuracy: 0.8184 - val_loss: 0.5231 - val_accuracy: 0.8212\n",
            "Epoch 8/20\n",
            "1688/1688 [==============================] - 3s 2ms/step - loss: 0.5247 - accuracy: 0.8239 - val_loss: 0.5081 - val_accuracy: 0.8230\n",
            "Epoch 9/20\n",
            "1688/1688 [==============================] - 3s 2ms/step - loss: 0.5105 - accuracy: 0.8271 - val_loss: 0.4987 - val_accuracy: 0.8253\n",
            "Epoch 10/20\n",
            "1688/1688 [==============================] - 3s 2ms/step - loss: 0.4987 - accuracy: 0.8309 - val_loss: 0.4870 - val_accuracy: 0.8302\n",
            "Epoch 11/20\n",
            "1688/1688 [==============================] - 3s 2ms/step - loss: 0.4888 - accuracy: 0.8336 - val_loss: 0.4775 - val_accuracy: 0.8342\n",
            "Epoch 12/20\n",
            "1688/1688 [==============================] - 3s 2ms/step - loss: 0.4800 - accuracy: 0.8354 - val_loss: 0.4719 - val_accuracy: 0.8318\n",
            "Epoch 13/20\n",
            "1688/1688 [==============================] - 4s 2ms/step - loss: 0.4724 - accuracy: 0.8381 - val_loss: 0.4648 - val_accuracy: 0.8353\n",
            "Epoch 14/20\n",
            "1688/1688 [==============================] - 4s 2ms/step - loss: 0.4656 - accuracy: 0.8406 - val_loss: 0.4594 - val_accuracy: 0.8385\n",
            "Epoch 15/20\n",
            "1688/1688 [==============================] - 3s 2ms/step - loss: 0.4599 - accuracy: 0.8418 - val_loss: 0.4556 - val_accuracy: 0.8388\n",
            "Epoch 16/20\n",
            "1688/1688 [==============================] - 3s 2ms/step - loss: 0.4542 - accuracy: 0.8436 - val_loss: 0.4470 - val_accuracy: 0.8385\n",
            "Epoch 17/20\n",
            "1688/1688 [==============================] - 3s 2ms/step - loss: 0.4492 - accuracy: 0.8458 - val_loss: 0.4424 - val_accuracy: 0.8425\n",
            "Epoch 18/20\n",
            "1688/1688 [==============================] - 3s 2ms/step - loss: 0.4447 - accuracy: 0.8473 - val_loss: 0.4447 - val_accuracy: 0.8430\n",
            "Epoch 19/20\n",
            "1688/1688 [==============================] - 4s 2ms/step - loss: 0.4403 - accuracy: 0.8488 - val_loss: 0.4362 - val_accuracy: 0.8455\n",
            "Epoch 20/20\n",
            "1688/1688 [==============================] - 3s 2ms/step - loss: 0.4365 - accuracy: 0.8496 - val_loss: 0.4353 - val_accuracy: 0.8447\n"
          ],
          "name": "stdout"
        }
      ]
    },
    {
      "cell_type": "code",
      "metadata": {
        "id": "I0tr75QwkgeO",
        "colab": {
          "base_uri": "https://localhost:8080/",
          "height": 324
        },
        "outputId": "2d04348d-6f00-44f0-fc07-b5fa7931a376"
      },
      "source": [
        "pd.DataFrame(history.history).plot(figsize=(8, 5))\n",
        "plt.grid(True)\n",
        "plt.gca().set_ylim(0.3, 1);"
      ],
      "execution_count": null,
      "outputs": [
        {
          "output_type": "display_data",
          "data": {
            "image/png": "[encoded data removed]",
            "text/plain": [
              "<Figure size 576x360 with 1 Axes>"
            ]
          },
          "metadata": {
            "tags": [],
            "needs_background": "light"
          }
        }
      ]
    },
    {
      "cell_type": "code",
      "metadata": {
        "id": "30GbhYf6kqcR",
        "colab": {
          "base_uri": "https://localhost:8080/"
        },
        "outputId": "bcacf17e-3eb2-4fe3-ab57-b90452a44fdb"
      },
      "source": [
        "y_pred = model.predict(X_test)\n",
        "y_pred = y_pred.argmax(axis=1)\n",
        "print(classification_report(y_test, y_pred,\n",
        "      target_names=class_names))"
      ],
      "execution_count": null,
      "outputs": [
        {
          "output_type": "stream",
          "text": [
            "              precision    recall  f1-score   support\n",
            "\n",
            " T-shirt/top       0.79      0.82      0.80      1000\n",
            "     Trouser       0.97      0.95      0.96      1000\n",
            "    Pullover       0.78      0.64      0.71      1000\n",
            "       Dress       0.83      0.85      0.84      1000\n",
            "        Coat       0.71      0.76      0.74      1000\n",
            "      Sandal       0.94      0.92      0.93      1000\n",
            "       Shirt       0.57      0.60      0.59      1000\n",
            "     Sneaker       0.90      0.91      0.91      1000\n",
            "         Bag       0.94      0.94      0.94      1000\n",
            "  Ankle boot       0.92      0.94      0.93      1000\n",
            "\n",
            "    accuracy                           0.83     10000\n",
            "   macro avg       0.83      0.83      0.83     10000\n",
            "weighted avg       0.83      0.83      0.83     10000\n",
            "\n"
          ],
          "name": "stdout"
        }
      ]
    },
    {
      "cell_type": "markdown",
      "metadata": {
        "id": "Bs-6h3DZlvTB"
      },
      "source": [
        "### ELU\r\n",
        "\r\n",
        "Very Similar to leaky ReLU, ELU has a small slope for negative values. Instead of a straight line, it uses a log curve"
      ]
    },
    {
      "cell_type": "code",
      "metadata": {
        "id": "sIl-VXANkx-T"
      },
      "source": [
        "def elu(z, alpha=1):\n",
        "    return np.where(z < 0, alpha * (np.exp(z) - 1), z)"
      ],
      "execution_count": null,
      "outputs": []
    },
    {
      "cell_type": "code",
      "metadata": {
        "id": "NBOM_DG9lxAu",
        "colab": {
          "base_uri": "https://localhost:8080/",
          "height": 284
        },
        "outputId": "5a75c5b7-3be5-4795-f4f6-883de605f07b"
      },
      "source": [
        "plt.plot(z, elu(z), \"b-\", linewidth=2)\n",
        "plt.plot([-5, 5], [0, 0], 'k-')\n",
        "plt.plot([-5, 5], [-1, -1], 'k--')\n",
        "plt.plot([0, 0], [-2.2, 3.2], 'k-')\n",
        "plt.grid(True)\n",
        "plt.title(r\"ELU activation function ($\\alpha=1$)\", fontsize=14)\n",
        "plt.axis([-5, 5, -2.2, 3.2]);"
      ],
      "execution_count": null,
      "outputs": [
        {
          "output_type": "display_data",
          "data": {
            "image/png": "[encoded data removed]",
            "text/plain": [
              "<Figure size 432x288 with 1 Axes>"
            ]
          },
          "metadata": {
            "tags": [],
            "needs_background": "light"
          }
        }
      ]
    },
    {
      "cell_type": "markdown",
      "metadata": {
        "id": "He9x901xl2Q8"
      },
      "source": [
        "### SELU\n",
        "\n",
        "This activation function was proposed in this [excellent paper](https://arxiv.org/pdf/1706.02515.pdf) by Günter Klambauer, Thomas Unterthiner and Andreas Mayr, published in June 2017. \n",
        "\n",
        "During training, a neural network composed exclusively of a stack of dense layers using the SELU activation function and LeCun initialization will self-normalize: \n",
        "\n",
        " - the output of each layer will tend to preserve the same mean and variance during training, which solves the vanishing/exploding gradients problem\n",
        " - As a result, this activation function outperforms the other activation functions very significantly for such neural nets, so you should really try it out. \n",
        " \n",
        "Unfortunately, the self-normalizing property of the SELU activation function is easily broken: you cannot use ℓ<sub>1</sub> or ℓ<sub>2</sub> regularization, regular dropout, max-norm, skip connections or other non-sequential topologies (so recurrent neural networks won't self-normalize). However, in practice it works quite well with sequential CNNs. \n",
        "\n",
        "If you break self-normalization, SELU will not necessarily outperform other activation functions.\n",
        "\n",
        "Source: https://www.google.co.in/books/edition/Hands_On_Machine_Learning_with_Scikit_Le/bRpYDgAAQBAJ"
      ]
    },
    {
      "cell_type": "code",
      "metadata": {
        "id": "lMyoRjN4lzTA"
      },
      "source": [
        "from scipy.special import erfc\n",
        "\n",
        "# alpha and scale to self normalize with mean 0 and standard deviation 1\n",
        "# (see equation 14 in the paper):\n",
        "alpha_0_1 = -np.sqrt(2 / np.pi) / (erfc(1/np.sqrt(2)) * np.exp(1/2) - 1)\n",
        "scale_0_1 = (1 - erfc(1 / np.sqrt(2)) * np.sqrt(np.e)) * np.sqrt(2 * np.pi) * (2 * erfc(np.sqrt(2))*np.e**2 + np.pi*erfc(1/np.sqrt(2))**2*np.e - 2*(2+np.pi)*erfc(1/np.sqrt(2))*np.sqrt(np.e)+np.pi+2)**(-1/2)"
      ],
      "execution_count": null,
      "outputs": []
    },
    {
      "cell_type": "code",
      "metadata": {
        "id": "I2Q8f3_9mSHr"
      },
      "source": [
        "def selu(z, scale=scale_0_1, alpha=alpha_0_1):\n",
        "    return scale * elu(z, alpha)"
      ],
      "execution_count": null,
      "outputs": []
    },
    {
      "cell_type": "code",
      "metadata": {
        "id": "Ip8eeDl8mpQr",
        "colab": {
          "base_uri": "https://localhost:8080/",
          "height": 282
        },
        "outputId": "caedd658-23fa-4424-b86d-324f3945a669"
      },
      "source": [
        "plt.plot(z, selu(z), \"b-\", linewidth=2)\n",
        "plt.plot([-5, 5], [0, 0], 'k-')\n",
        "plt.plot([-5, 5], [-1.758, -1.758], 'k--')\n",
        "plt.plot([0, 0], [-2.2, 3.2], 'k-')\n",
        "plt.grid(True)\n",
        "plt.title(\"SELU activation function\", fontsize=14)\n",
        "plt.axis([-5, 5, -2.2, 3.2]);"
      ],
      "execution_count": null,
      "outputs": [
        {
          "output_type": "display_data",
          "data": {
            "image/png": "[encoded data removed]",
            "text/plain": [
              "<Figure size 432x288 with 1 Axes>"
            ]
          },
          "metadata": {
            "tags": [],
            "needs_background": "light"
          }
        }
      ]
    },
    {
      "cell_type": "markdown",
      "metadata": {
        "id": "jUcP98XFnDee"
      },
      "source": [
        "By default, the SELU hyperparameters (`scale` and `alpha`) are tuned in such a way that the mean output of each neuron remains close to 0, and the standard deviation remains close to 1 (assuming the inputs are standardized with mean 0 and standard deviation 1 too). Using this activation function, even a 1,000 layer deep neural network preserves roughly mean 0 and standard deviation 1 across all layers, avoiding the exploding/vanishing gradients problem:"
      ]
    },
    {
      "cell_type": "code",
      "metadata": {
        "id": "fUuEeE-kmrUT",
        "colab": {
          "base_uri": "https://localhost:8080/"
        },
        "outputId": "7f51305a-d532-4741-ec75-1eaafaf6cda1"
      },
      "source": [
        "np.random.seed(42)\n",
        "Z = np.random.normal(size=(500, 100)) # standardized inputs\n",
        "for layer in range(1000):\n",
        "    W = np.random.normal(size=(100, 100), scale=np.sqrt(1 / 100)) # LeCun initialization\n",
        "    Z = selu(np.dot(Z, W))\n",
        "    means = np.mean(Z, axis=0).mean()\n",
        "    stds = np.std(Z, axis=0).mean()\n",
        "    if layer % 100 == 0:\n",
        "        print(\"Layer {}: mean {:.2f}, std deviation {:.2f}\".format(layer, means, stds))"
      ],
      "execution_count": null,
      "outputs": [
        {
          "output_type": "stream",
          "text": [
            "Layer 0: mean -0.00, std deviation 1.00\n",
            "Layer 100: mean 0.02, std deviation 0.96\n",
            "Layer 200: mean 0.01, std deviation 0.90\n",
            "Layer 300: mean -0.02, std deviation 0.92\n",
            "Layer 400: mean 0.05, std deviation 0.89\n",
            "Layer 500: mean 0.01, std deviation 0.93\n",
            "Layer 600: mean 0.02, std deviation 0.92\n",
            "Layer 700: mean -0.02, std deviation 0.90\n",
            "Layer 800: mean 0.05, std deviation 0.83\n",
            "Layer 900: mean 0.02, std deviation 1.00\n"
          ],
          "name": "stdout"
        }
      ]
    },
    {
      "cell_type": "markdown",
      "metadata": {
        "id": "F7ZZYv4onQY7"
      },
      "source": [
        "### Training with SELU"
      ]
    },
    {
      "cell_type": "code",
      "metadata": {
        "id": "iDB_4UrGnGri"
      },
      "source": [
        "model = tf.keras.models.Sequential([\n",
        "    tf.keras.layers.Flatten(input_shape=[28, 28]),\n",
        "    tf.keras.layers.Dense(300, \n",
        "                          activation='selu', \n",
        "                          kernel_initializer='lecun_normal'),\n",
        "    tf.keras.layers.Dense(100, \n",
        "                          activation='selu', \n",
        "                          kernel_initializer='lecun_normal'),\n",
        "    tf.keras.layers.Dense(10, activation=\"softmax\")\n",
        "])"
      ],
      "execution_count": null,
      "outputs": []
    },
    {
      "cell_type": "code",
      "metadata": {
        "id": "BrKrU2dqndHu"
      },
      "source": [
        "model.compile(loss=\"sparse_categorical_crossentropy\", \n",
        "              optimizer=tf.keras.optimizers.SGD(1e-3),\n",
        "              metrics=[\"accuracy\"])"
      ],
      "execution_count": null,
      "outputs": []
    },
    {
      "cell_type": "markdown",
      "metadata": {
        "id": "pXBgq78Ano16"
      },
      "source": [
        "Now let's train it. Do not forget to scale the inputs to mean 0 and standard deviation 1:"
      ]
    },
    {
      "cell_type": "code",
      "metadata": {
        "id": "WG2_L_MQnllo"
      },
      "source": [
        "pixel_means = X_train.mean(axis=0, keepdims=True)\n",
        "pixel_stds = X_train.std(axis=0, keepdims=True)\n",
        "X_train_scaled = (X_train - pixel_means) / pixel_stds\n",
        "X_test_scaled = (X_test - pixel_means) / pixel_stds"
      ],
      "execution_count": null,
      "outputs": []
    },
    {
      "cell_type": "code",
      "metadata": {
        "id": "xunchzdqn11r",
        "colab": {
          "base_uri": "https://localhost:8080/"
        },
        "outputId": "42019c8d-f202-4de4-c019-bacea07bd5a0"
      },
      "source": [
        "history = model.fit(X_train_scaled, y_train, epochs=20,\n",
        "                    validation_split=0.1)"
      ],
      "execution_count": null,
      "outputs": [
        {
          "output_type": "stream",
          "text": [
            "Epoch 1/20\n",
            "1688/1688 [==============================] - 4s 2ms/step - loss: 0.6931 - accuracy: 0.7608 - val_loss: 0.5174 - val_accuracy: 0.8122\n",
            "Epoch 2/20\n",
            "1688/1688 [==============================] - 4s 2ms/step - loss: 0.5005 - accuracy: 0.8251 - val_loss: 0.4639 - val_accuracy: 0.8295\n",
            "Epoch 3/20\n",
            "1688/1688 [==============================] - 3s 2ms/step - loss: 0.4590 - accuracy: 0.8402 - val_loss: 0.4405 - val_accuracy: 0.8380\n",
            "Epoch 4/20\n",
            "1688/1688 [==============================] - 3s 2ms/step - loss: 0.4355 - accuracy: 0.8478 - val_loss: 0.4244 - val_accuracy: 0.8455\n",
            "Epoch 5/20\n",
            "1688/1688 [==============================] - 4s 2ms/step - loss: 0.4190 - accuracy: 0.8536 - val_loss: 0.4144 - val_accuracy: 0.8515\n",
            "Epoch 6/20\n",
            "1688/1688 [==============================] - 4s 2ms/step - loss: 0.4063 - accuracy: 0.8584 - val_loss: 0.4076 - val_accuracy: 0.8530\n",
            "Epoch 7/20\n",
            "1688/1688 [==============================] - 3s 2ms/step - loss: 0.3958 - accuracy: 0.8625 - val_loss: 0.3982 - val_accuracy: 0.8563\n",
            "Epoch 8/20\n",
            "1688/1688 [==============================] - 3s 2ms/step - loss: 0.3872 - accuracy: 0.8653 - val_loss: 0.3931 - val_accuracy: 0.8563\n",
            "Epoch 9/20\n",
            "1688/1688 [==============================] - 3s 2ms/step - loss: 0.3793 - accuracy: 0.8682 - val_loss: 0.3906 - val_accuracy: 0.8598\n",
            "Epoch 10/20\n",
            "1688/1688 [==============================] - 3s 2ms/step - loss: 0.3728 - accuracy: 0.8699 - val_loss: 0.3867 - val_accuracy: 0.8605\n",
            "Epoch 11/20\n",
            "1688/1688 [==============================] - 3s 2ms/step - loss: 0.3666 - accuracy: 0.8721 - val_loss: 0.3818 - val_accuracy: 0.8628\n",
            "Epoch 12/20\n",
            "1688/1688 [==============================] - 3s 2ms/step - loss: 0.3607 - accuracy: 0.8745 - val_loss: 0.3787 - val_accuracy: 0.8628\n",
            "Epoch 13/20\n",
            "1688/1688 [==============================] - 3s 2ms/step - loss: 0.3555 - accuracy: 0.8761 - val_loss: 0.3770 - val_accuracy: 0.8653\n",
            "Epoch 14/20\n",
            "1688/1688 [==============================] - 3s 2ms/step - loss: 0.3505 - accuracy: 0.8778 - val_loss: 0.3756 - val_accuracy: 0.8652\n",
            "Epoch 15/20\n",
            "1688/1688 [==============================] - 4s 2ms/step - loss: 0.3461 - accuracy: 0.8789 - val_loss: 0.3701 - val_accuracy: 0.8648\n",
            "Epoch 16/20\n",
            "1688/1688 [==============================] - 3s 2ms/step - loss: 0.3415 - accuracy: 0.8804 - val_loss: 0.3663 - val_accuracy: 0.8663\n",
            "Epoch 17/20\n",
            "1688/1688 [==============================] - 3s 2ms/step - loss: 0.3374 - accuracy: 0.8818 - val_loss: 0.3666 - val_accuracy: 0.8667\n",
            "Epoch 18/20\n",
            "1688/1688 [==============================] - 3s 2ms/step - loss: 0.3335 - accuracy: 0.8829 - val_loss: 0.3649 - val_accuracy: 0.8682\n",
            "Epoch 19/20\n",
            "1688/1688 [==============================] - 3s 2ms/step - loss: 0.3295 - accuracy: 0.8851 - val_loss: 0.3631 - val_accuracy: 0.8667\n",
            "Epoch 20/20\n",
            "1688/1688 [==============================] - 3s 2ms/step - loss: 0.3259 - accuracy: 0.8860 - val_loss: 0.3613 - val_accuracy: 0.8685\n"
          ],
          "name": "stdout"
        }
      ]
    },
    {
      "cell_type": "code",
      "metadata": {
        "id": "-a17BL6Wn5uL",
        "colab": {
          "base_uri": "https://localhost:8080/",
          "height": 324
        },
        "outputId": "f2abfae4-e207-4d0e-85e3-de599a674334"
      },
      "source": [
        "pd.DataFrame(history.history).plot(figsize=(8, 5))\n",
        "plt.grid(True)\n",
        "plt.gca().set_ylim(0.3, 1);"
      ],
      "execution_count": null,
      "outputs": [
        {
          "output_type": "display_data",
          "data": {
            "image/png": "[encoded data removed]",
            "text/plain": [
              "<Figure size 576x360 with 1 Axes>"
            ]
          },
          "metadata": {
            "tags": [],
            "needs_background": "light"
          }
        }
      ]
    },
    {
      "cell_type": "code",
      "metadata": {
        "id": "rh8YMrfpoM3u",
        "colab": {
          "base_uri": "https://localhost:8080/"
        },
        "outputId": "d17ee3a9-9223-43a0-caac-6dc32ccc0e6f"
      },
      "source": [
        "y_pred = model.predict(X_test_scaled)\n",
        "y_pred = y_pred.argmax(axis=1)\n",
        "print(classification_report(y_test, y_pred,\n",
        "      target_names=class_names))"
      ],
      "execution_count": null,
      "outputs": [
        {
          "output_type": "stream",
          "text": [
            "              precision    recall  f1-score   support\n",
            "\n",
            " T-shirt/top       0.81      0.82      0.82      1000\n",
            "     Trouser       0.98      0.96      0.97      1000\n",
            "    Pullover       0.78      0.76      0.77      1000\n",
            "       Dress       0.83      0.89      0.86      1000\n",
            "        Coat       0.78      0.77      0.78      1000\n",
            "      Sandal       0.95      0.92      0.94      1000\n",
            "       Shirt       0.67      0.64      0.65      1000\n",
            "     Sneaker       0.91      0.94      0.93      1000\n",
            "         Bag       0.95      0.96      0.95      1000\n",
            "  Ankle boot       0.95      0.95      0.95      1000\n",
            "\n",
            "    accuracy                           0.86     10000\n",
            "   macro avg       0.86      0.86      0.86     10000\n",
            "weighted avg       0.86      0.86      0.86     10000\n",
            "\n"
          ],
          "name": "stdout"
        }
      ]
    },
    {
      "cell_type": "markdown",
      "metadata": {
        "id": "dkEUyaYOomnP"
      },
      "source": [
        "# 3. Batch Normalization\n",
        "\n",
        "Batch normalization is a technique for training deep neural networks that standardizes the inputs for each mini-batch before going into a layer. This has the effect of stabilizing the learning process and preventing overfitting.\n",
        "\n",
        "- fixed distributions of inputs  would remove the ill effects of the internal covariate shift (change in the distributions of neurons when training) [https://arxiv.org/abs/1502.03167]\n",
        "\n",
        "- Batch normalization acts to standardize only the mean and variance of each unit in order to stabilize learning [https://amzn.to/2NJW3gE]"
      ]
    },
    {
      "cell_type": "markdown",
      "metadata": {
        "id": "j0VwKMWmpR7I"
      },
      "source": [
        "## 3.1 Build Model with Batchnorm"
      ]
    },
    {
      "cell_type": "code",
      "metadata": {
        "id": "-GqOrG5ooRtn"
      },
      "source": [
        "model = tf.keras.models.Sequential([\n",
        "                                    \n",
        "    tf.keras.layers.Flatten(input_shape=[28, 28]),\n",
        "\n",
        "    tf.keras.layers.BatchNormalization(),\n",
        "\n",
        "    tf.keras.layers.Dense(300, \n",
        "                          activation='relu'),\n",
        "    tf.keras.layers.BatchNormalization(),\n",
        "\n",
        "    tf.keras.layers.Dense(100, \n",
        "                          activation='relu'),\n",
        "    tf.keras.layers.BatchNormalization(),\n",
        "    \n",
        "    tf.keras.layers.Dense(10, activation=\"softmax\")\n",
        "])"
      ],
      "execution_count": null,
      "outputs": []
    },
    {
      "cell_type": "code",
      "metadata": {
        "id": "uePW2uVWpn_R",
        "colab": {
          "base_uri": "https://localhost:8080/"
        },
        "outputId": "44fae16a-b2ea-41d2-bc48-f547c1389f93"
      },
      "source": [
        "model.compile(loss=\"sparse_categorical_crossentropy\", \n",
        "              optimizer=tf.keras.optimizers.SGD(1e-3),\n",
        "              metrics=[\"accuracy\"])\n",
        "model.summary()"
      ],
      "execution_count": null,
      "outputs": [
        {
          "output_type": "stream",
          "text": [
            "Model: \"sequential_3\"\n",
            "_________________________________________________________________\n",
            "Layer (type)                 Output Shape              Param #   \n",
            "=================================================================\n",
            "flatten_3 (Flatten)          (None, 784)               0         \n",
            "_________________________________________________________________\n",
            "batch_normalization (BatchNo (None, 784)               3136      \n",
            "_________________________________________________________________\n",
            "dense_9 (Dense)              (None, 300)               235500    \n",
            "_________________________________________________________________\n",
            "batch_normalization_1 (Batch (None, 300)               1200      \n",
            "_________________________________________________________________\n",
            "dense_10 (Dense)             (None, 100)               30100     \n",
            "_________________________________________________________________\n",
            "batch_normalization_2 (Batch (None, 100)               400       \n",
            "_________________________________________________________________\n",
            "dense_11 (Dense)             (None, 10)                1010      \n",
            "=================================================================\n",
            "Total params: 271,346\n",
            "Trainable params: 268,978\n",
            "Non-trainable params: 2,368\n",
            "_________________________________________________________________\n"
          ],
          "name": "stdout"
        }
      ]
    },
    {
      "cell_type": "markdown",
      "metadata": {
        "id": "97Fxj8KBq__C"
      },
      "source": [
        "## Train & Test with Batchnorm"
      ]
    },
    {
      "cell_type": "code",
      "metadata": {
        "id": "7lHt_06Vpr4z",
        "colab": {
          "base_uri": "https://localhost:8080/"
        },
        "outputId": "59390bea-d45c-48ae-901a-dcfcfd6a0942"
      },
      "source": [
        "history = model.fit(X_train, y_train, epochs=20,\n",
        "                    validation_split=0.1)"
      ],
      "execution_count": null,
      "outputs": [
        {
          "output_type": "stream",
          "text": [
            "Epoch 1/20\n",
            "1688/1688 [==============================] - 6s 4ms/step - loss: 0.8514 - accuracy: 0.7147 - val_loss: 0.5683 - val_accuracy: 0.8027\n",
            "Epoch 2/20\n",
            "1688/1688 [==============================] - 6s 3ms/step - loss: 0.5785 - accuracy: 0.7996 - val_loss: 0.4920 - val_accuracy: 0.8270\n",
            "Epoch 3/20\n",
            "1688/1688 [==============================] - 6s 3ms/step - loss: 0.5180 - accuracy: 0.8195 - val_loss: 0.4556 - val_accuracy: 0.8390\n",
            "Epoch 4/20\n",
            "1688/1688 [==============================] - 5s 3ms/step - loss: 0.4842 - accuracy: 0.8311 - val_loss: 0.4310 - val_accuracy: 0.8473\n",
            "Epoch 5/20\n",
            "1688/1688 [==============================] - 6s 3ms/step - loss: 0.4597 - accuracy: 0.8383 - val_loss: 0.4159 - val_accuracy: 0.8520\n",
            "Epoch 6/20\n",
            "1688/1688 [==============================] - 6s 3ms/step - loss: 0.4434 - accuracy: 0.8438 - val_loss: 0.4031 - val_accuracy: 0.8567\n",
            "Epoch 7/20\n",
            "1688/1688 [==============================] - 6s 3ms/step - loss: 0.4271 - accuracy: 0.8499 - val_loss: 0.3920 - val_accuracy: 0.8608\n",
            "Epoch 8/20\n",
            "1688/1688 [==============================] - 6s 4ms/step - loss: 0.4141 - accuracy: 0.8534 - val_loss: 0.3843 - val_accuracy: 0.8635\n",
            "Epoch 9/20\n",
            "1688/1688 [==============================] - 6s 3ms/step - loss: 0.4016 - accuracy: 0.8576 - val_loss: 0.3791 - val_accuracy: 0.8650\n",
            "Epoch 10/20\n",
            "1688/1688 [==============================] - 6s 4ms/step - loss: 0.3923 - accuracy: 0.8619 - val_loss: 0.3712 - val_accuracy: 0.8682\n",
            "Epoch 11/20\n",
            "1688/1688 [==============================] - 6s 3ms/step - loss: 0.3843 - accuracy: 0.8633 - val_loss: 0.3663 - val_accuracy: 0.8692\n",
            "Epoch 12/20\n",
            "1688/1688 [==============================] - 6s 3ms/step - loss: 0.3768 - accuracy: 0.8661 - val_loss: 0.3610 - val_accuracy: 0.8717\n",
            "Epoch 13/20\n",
            "1688/1688 [==============================] - 6s 3ms/step - loss: 0.3670 - accuracy: 0.8696 - val_loss: 0.3582 - val_accuracy: 0.8732\n",
            "Epoch 14/20\n",
            "1688/1688 [==============================] - 6s 3ms/step - loss: 0.3627 - accuracy: 0.8702 - val_loss: 0.3545 - val_accuracy: 0.8740\n",
            "Epoch 15/20\n",
            "1688/1688 [==============================] - 5s 3ms/step - loss: 0.3550 - accuracy: 0.8736 - val_loss: 0.3496 - val_accuracy: 0.8773\n",
            "Epoch 16/20\n",
            "1688/1688 [==============================] - 5s 3ms/step - loss: 0.3489 - accuracy: 0.8750 - val_loss: 0.3455 - val_accuracy: 0.8775\n",
            "Epoch 17/20\n",
            "1688/1688 [==============================] - 6s 4ms/step - loss: 0.3469 - accuracy: 0.8761 - val_loss: 0.3441 - val_accuracy: 0.8773\n",
            "Epoch 18/20\n",
            "1688/1688 [==============================] - 6s 3ms/step - loss: 0.3426 - accuracy: 0.8776 - val_loss: 0.3424 - val_accuracy: 0.8792\n",
            "Epoch 19/20\n",
            "1688/1688 [==============================] - 6s 3ms/step - loss: 0.3353 - accuracy: 0.8804 - val_loss: 0.3414 - val_accuracy: 0.8785\n",
            "Epoch 20/20\n",
            "1688/1688 [==============================] - 6s 3ms/step - loss: 0.3297 - accuracy: 0.8827 - val_loss: 0.3360 - val_accuracy: 0.8807\n"
          ],
          "name": "stdout"
        }
      ]
    },
    {
      "cell_type": "code",
      "metadata": {
        "id": "xYhUc3eCpwIr",
        "colab": {
          "base_uri": "https://localhost:8080/",
          "height": 324
        },
        "outputId": "dd9eb7ea-a892-4c05-d139-38bfe50a4711"
      },
      "source": [
        "pd.DataFrame(history.history).plot(figsize=(8, 5))\n",
        "plt.grid(True)\n",
        "plt.gca().set_ylim(0.3, 1);"
      ],
      "execution_count": null,
      "outputs": [
        {
          "output_type": "display_data",
          "data": {
            "image/png": "[encoded data removed]",
            "text/plain": [
              "<Figure size 576x360 with 1 Axes>"
            ]
          },
          "metadata": {
            "tags": [],
            "needs_background": "light"
          }
        }
      ]
    },
    {
      "cell_type": "code",
      "metadata": {
        "id": "-Hr3xulQqKW6",
        "colab": {
          "base_uri": "https://localhost:8080/"
        },
        "outputId": "ff447a38-ea07-4c45-816f-bcab990818e0"
      },
      "source": [
        "y_pred = model.predict(X_test)\n",
        "y_pred = y_pred.argmax(axis=1)\n",
        "print(classification_report(y_test, y_pred,\n",
        "      target_names=class_names))"
      ],
      "execution_count": null,
      "outputs": [
        {
          "output_type": "stream",
          "text": [
            "              precision    recall  f1-score   support\n",
            "\n",
            " T-shirt/top       0.82      0.83      0.83      1000\n",
            "     Trouser       0.98      0.96      0.97      1000\n",
            "    Pullover       0.79      0.77      0.78      1000\n",
            "       Dress       0.86      0.89      0.87      1000\n",
            "        Coat       0.78      0.80      0.79      1000\n",
            "      Sandal       0.94      0.94      0.94      1000\n",
            "       Shirt       0.69      0.65      0.67      1000\n",
            "     Sneaker       0.92      0.94      0.93      1000\n",
            "         Bag       0.95      0.96      0.96      1000\n",
            "  Ankle boot       0.94      0.94      0.94      1000\n",
            "\n",
            "    accuracy                           0.87     10000\n",
            "   macro avg       0.87      0.87      0.87     10000\n",
            "weighted avg       0.87      0.87      0.87     10000\n",
            "\n"
          ],
          "name": "stdout"
        }
      ]
    },
    {
      "cell_type": "markdown",
      "metadata": {
        "id": "CmYKyJzsrEMT"
      },
      "source": [
        "## Changing the position of Batchnorm"
      ]
    },
    {
      "cell_type": "markdown",
      "metadata": {
        "id": "0YED2_GiqKrS"
      },
      "source": [
        "Sometimes applying BN before the activation function works better (there's a debate on this topic). Moreover, the layer before a `BatchNormalization` layer does not need to have bias terms, since the `BatchNormalization` layer already includes it, hence it would be a waste of parameters, so you can set `use_bias=False` when creating those layers\n",
        "\n",
        "Source: https://www.google.co.in/books/edition/Hands_On_Machine_Learning_with_Scikit_Le/bRpYDgAAQBAJ"
      ]
    },
    {
      "cell_type": "code",
      "metadata": {
        "id": "72dxtaVBqLOg"
      },
      "source": [
        "model = tf.keras.models.Sequential([\n",
        "    tf.keras.layers.Flatten(input_shape=[28, 28]),\n",
        "    tf.keras.layers.BatchNormalization(),\n",
        "\n",
        "    tf.keras.layers.Dense(300, use_bias=False),\n",
        "    tf.keras.layers.BatchNormalization(),\n",
        "    tf.keras.layers.Activation(\"relu\"),\n",
        "\n",
        "    tf.keras.layers.Dense(100, use_bias=False),\n",
        "    tf.keras.layers.BatchNormalization(),\n",
        "    tf.keras.layers.Activation(\"relu\"),\n",
        "\n",
        "    tf.keras.layers.Dense(10, activation=\"softmax\")\n",
        "])"
      ],
      "execution_count": null,
      "outputs": []
    },
    {
      "cell_type": "code",
      "metadata": {
        "id": "OAz4wwcuqyBk",
        "colab": {
          "base_uri": "https://localhost:8080/"
        },
        "outputId": "9c7523e0-fc76-4061-8c25-0c4e1866f537"
      },
      "source": [
        "model.compile(loss=\"sparse_categorical_crossentropy\", \n",
        "              optimizer=tf.keras.optimizers.SGD(1e-3),\n",
        "              metrics=[\"accuracy\"])\n",
        "model.summary()"
      ],
      "execution_count": null,
      "outputs": [
        {
          "output_type": "stream",
          "text": [
            "Model: \"sequential_4\"\n",
            "_________________________________________________________________\n",
            "Layer (type)                 Output Shape              Param #   \n",
            "=================================================================\n",
            "flatten_4 (Flatten)          (None, 784)               0         \n",
            "_________________________________________________________________\n",
            "batch_normalization_3 (Batch (None, 784)               3136      \n",
            "_________________________________________________________________\n",
            "dense_12 (Dense)             (None, 300)               235200    \n",
            "_________________________________________________________________\n",
            "batch_normalization_4 (Batch (None, 300)               1200      \n",
            "_________________________________________________________________\n",
            "activation (Activation)      (None, 300)               0         \n",
            "_________________________________________________________________\n",
            "dense_13 (Dense)             (None, 100)               30000     \n",
            "_________________________________________________________________\n",
            "batch_normalization_5 (Batch (None, 100)               400       \n",
            "_________________________________________________________________\n",
            "activation_1 (Activation)    (None, 100)               0         \n",
            "_________________________________________________________________\n",
            "dense_14 (Dense)             (None, 10)                1010      \n",
            "=================================================================\n",
            "Total params: 270,946\n",
            "Trainable params: 268,578\n",
            "Non-trainable params: 2,368\n",
            "_________________________________________________________________\n"
          ],
          "name": "stdout"
        }
      ]
    },
    {
      "cell_type": "code",
      "metadata": {
        "id": "VYdCb1OSq12r",
        "colab": {
          "base_uri": "https://localhost:8080/"
        },
        "outputId": "af2d2e2a-5b09-4278-f509-9fda2f50f569"
      },
      "source": [
        "history = model.fit(X_train, y_train, epochs=20,\n",
        "                    validation_split=0.1, batch_size=32)"
      ],
      "execution_count": null,
      "outputs": [
        {
          "output_type": "stream",
          "text": [
            "Epoch 1/20\n",
            "1688/1688 [==============================] - 6s 3ms/step - loss: 1.0356 - accuracy: 0.6697 - val_loss: 0.6713 - val_accuracy: 0.7822\n",
            "Epoch 2/20\n",
            "1688/1688 [==============================] - 6s 3ms/step - loss: 0.6719 - accuracy: 0.7804 - val_loss: 0.5560 - val_accuracy: 0.8118\n",
            "Epoch 3/20\n",
            "1688/1688 [==============================] - 5s 3ms/step - loss: 0.5891 - accuracy: 0.8045 - val_loss: 0.5056 - val_accuracy: 0.8243\n",
            "Epoch 4/20\n",
            "1688/1688 [==============================] - 6s 3ms/step - loss: 0.5418 - accuracy: 0.8173 - val_loss: 0.4735 - val_accuracy: 0.8337\n",
            "Epoch 5/20\n",
            "1688/1688 [==============================] - 6s 3ms/step - loss: 0.5118 - accuracy: 0.8240 - val_loss: 0.4513 - val_accuracy: 0.8415\n",
            "Epoch 6/20\n",
            "1688/1688 [==============================] - 6s 3ms/step - loss: 0.4900 - accuracy: 0.8311 - val_loss: 0.4353 - val_accuracy: 0.8468\n",
            "Epoch 7/20\n",
            "1688/1688 [==============================] - 6s 3ms/step - loss: 0.4720 - accuracy: 0.8366 - val_loss: 0.4223 - val_accuracy: 0.8502\n",
            "Epoch 8/20\n",
            "1688/1688 [==============================] - 5s 3ms/step - loss: 0.4577 - accuracy: 0.8421 - val_loss: 0.4119 - val_accuracy: 0.8518\n",
            "Epoch 9/20\n",
            "1688/1688 [==============================] - 6s 3ms/step - loss: 0.4452 - accuracy: 0.8451 - val_loss: 0.4045 - val_accuracy: 0.8552\n",
            "Epoch 10/20\n",
            "1688/1688 [==============================] - 6s 4ms/step - loss: 0.4330 - accuracy: 0.8493 - val_loss: 0.3960 - val_accuracy: 0.8577\n",
            "Epoch 11/20\n",
            "1688/1688 [==============================] - 6s 3ms/step - loss: 0.4258 - accuracy: 0.8519 - val_loss: 0.3901 - val_accuracy: 0.8590\n",
            "Epoch 12/20\n",
            "1688/1688 [==============================] - 6s 3ms/step - loss: 0.4153 - accuracy: 0.8555 - val_loss: 0.3841 - val_accuracy: 0.8613\n",
            "Epoch 13/20\n",
            "1688/1688 [==============================] - 6s 3ms/step - loss: 0.4061 - accuracy: 0.8577 - val_loss: 0.3799 - val_accuracy: 0.8610\n",
            "Epoch 14/20\n",
            "1688/1688 [==============================] - 6s 3ms/step - loss: 0.4014 - accuracy: 0.8591 - val_loss: 0.3759 - val_accuracy: 0.8645\n",
            "Epoch 15/20\n",
            "1688/1688 [==============================] - 6s 3ms/step - loss: 0.3947 - accuracy: 0.8623 - val_loss: 0.3698 - val_accuracy: 0.8642\n",
            "Epoch 16/20\n",
            "1688/1688 [==============================] - 5s 3ms/step - loss: 0.3868 - accuracy: 0.8636 - val_loss: 0.3665 - val_accuracy: 0.8637\n",
            "Epoch 17/20\n",
            "1688/1688 [==============================] - 6s 3ms/step - loss: 0.3819 - accuracy: 0.8650 - val_loss: 0.3647 - val_accuracy: 0.8653\n",
            "Epoch 18/20\n",
            "1688/1688 [==============================] - 6s 3ms/step - loss: 0.3792 - accuracy: 0.8674 - val_loss: 0.3607 - val_accuracy: 0.8672\n",
            "Epoch 19/20\n",
            "1688/1688 [==============================] - 6s 3ms/step - loss: 0.3710 - accuracy: 0.8698 - val_loss: 0.3586 - val_accuracy: 0.8687\n",
            "Epoch 20/20\n",
            "1688/1688 [==============================] - 6s 3ms/step - loss: 0.3676 - accuracy: 0.8706 - val_loss: 0.3544 - val_accuracy: 0.8712\n"
          ],
          "name": "stdout"
        }
      ]
    },
    {
      "cell_type": "code",
      "metadata": {
        "id": "-ajYkTQsq4gX",
        "colab": {
          "base_uri": "https://localhost:8080/",
          "height": 324
        },
        "outputId": "f024e4ed-c778-4d7b-bc3a-749e29d446c9"
      },
      "source": [
        "pd.DataFrame(history.history).plot(figsize=(8, 5))\n",
        "plt.grid(True)\n",
        "plt.gca().set_ylim(0.3, 1);"
      ],
      "execution_count": null,
      "outputs": [
        {
          "output_type": "display_data",
          "data": {
            "image/png": "[encoded data removed]",
            "text/plain": [
              "<Figure size 576x360 with 1 Axes>"
            ]
          },
          "metadata": {
            "tags": [],
            "needs_background": "light"
          }
        }
      ]
    },
    {
      "cell_type": "code",
      "metadata": {
        "id": "gp2X_yOHq7Ht",
        "colab": {
          "base_uri": "https://localhost:8080/"
        },
        "outputId": "43006a3a-8d4d-41d0-d82f-13f9adecca41"
      },
      "source": [
        "y_pred = model.predict(X_test)\n",
        "y_pred = y_pred.argmax(axis=1)\n",
        "print(classification_report(y_test, y_pred,\n",
        "      target_names=class_names))"
      ],
      "execution_count": null,
      "outputs": [
        {
          "output_type": "stream",
          "text": [
            "              precision    recall  f1-score   support\n",
            "\n",
            " T-shirt/top       0.82      0.83      0.83      1000\n",
            "     Trouser       0.99      0.96      0.97      1000\n",
            "    Pullover       0.78      0.77      0.78      1000\n",
            "       Dress       0.84      0.90      0.87      1000\n",
            "        Coat       0.78      0.79      0.79      1000\n",
            "      Sandal       0.94      0.94      0.94      1000\n",
            "       Shirt       0.69      0.64      0.66      1000\n",
            "     Sneaker       0.92      0.94      0.93      1000\n",
            "         Bag       0.95      0.96      0.96      1000\n",
            "  Ankle boot       0.94      0.94      0.94      1000\n",
            "\n",
            "    accuracy                           0.87     10000\n",
            "   macro avg       0.87      0.87      0.87     10000\n",
            "weighted avg       0.87      0.87      0.87     10000\n",
            "\n"
          ],
          "name": "stdout"
        }
      ]
    },
    {
      "cell_type": "markdown",
      "metadata": {
        "id": "4v8L9Ku9rsi1"
      },
      "source": [
        "# 4. Optimizers\n",
        "\n",
        "Optmizers help in reducing the loss in your network via gradient descent following optimized strategies to get a better minima."
      ]
    },
    {
      "cell_type": "markdown",
      "metadata": {
        "id": "US10MYNSsrme"
      },
      "source": [
        "## Gradient Descent\n",
        "\n",
        "Gradient descent is a first-order optimization algorithm which is dependent on the first order derivative of a loss function. It calculates that which way the weights should be altered so that the function can reach a minima.\n",
        "\n",
        "GD: θ=θ−α⋅∇J(θ)\n",
        "\n",
        "Need to compute gradient over the whole dataset which can be inefficient\n",
        "\n",
        "\n",
        "## Stochastic Gradient Descent\n",
        "\n",
        "It’s a variant of Gradient Descent. It tries to update the model’s parameters more frequently. In this, the model parameters are altered after computation of loss on each training example. So, if the dataset contains 1000 rows SGD will update the model parameters 1000 times in one cycle of dataset instead of one time as in Gradient Descent.\n",
        "\n",
        "θ=θ−α⋅∇J(θ;x(i);y(i)) , where {x(i) ,y(i)} are the training examples.\n",
        "\n",
        "Can lead to high variance\n",
        "\n",
        "## Mini-Batch Gradient Descent\n",
        "\n",
        "It is an improvement on both SGD and standard gradient descent. It updates the model parameters after every batch of data. So, the dataset is divided into various batches and after every batch, the parameters are updated.\n",
        "\n",
        "θ=θ−α⋅∇J(θ; B(i)), where {B(i)} are the batches of training examples.\n",
        "\n",
        "## Momentum\n",
        "\n",
        "Momentum was invented for reducing high variance in SGD and softens the convergence. It accelerates the convergence towards the relevant direction and reduces the fluctuation to the irrelevant direction. One more hyperparameter is used in this method known as momentum symbolized by ‘γ’.\n",
        "\n",
        "V(t)=γV(t−1)+α.∇J(θ)\n",
        "\n",
        "V is the exponentially weighted average of past gradients\n",
        "\n",
        "Now, the weights are updated by θ=θ−V(t).\n",
        "The momentum term γ is usually set to 0.9 or a similar value.\n",
        "\n",
        "## Adaptive Moment Estimation\n",
        "\n",
        "Adam (Adaptive Moment Estimation) works with momentums of first and second order. The intuition behind the Adam is that we don’t want to roll so fast just because we can jump over the minimum, we want to decrease the velocity a little bit for a careful search.\n",
        "\n",
        "M(t) and V(t) are values of the first moment which is the Mean and the second moment which is the uncentered variance of the gradients respectively.\n",
        "\n",
        "![](https://i.imgur.com/8qZUgZJ.png)\n",
        "\n",
        "Final paramter updates occur as:\n",
        "\n",
        "![](https://i.imgur.com/RmA9ghf.png)\n",
        "\n",
        "η is a learning rate which is modified for given parameter θ(i) at a given time based on previous gradients calculated for given parameter θ(i).\n",
        "\n",
        "Usual values for β1 is 0.9 , 0.999 for β2, and (10 x exp(-8)) for ‘ϵ’.\n",
        "\n",
        "[Source](https://towardsdatascience.com/optimizers-for-training-neural-network-59450d71caf6)\n"
      ]
    },
    {
      "cell_type": "markdown",
      "metadata": {
        "id": "8MTPK92vvehs"
      },
      "source": [
        "## 4.1: Train DNN with Adam"
      ]
    },
    {
      "cell_type": "code",
      "metadata": {
        "id": "nV3MiOhCq9LQ"
      },
      "source": [
        "model = tf.keras.models.Sequential([\n",
        "    tf.keras.layers.Flatten(input_shape=[28, 28]),\n",
        "    tf.keras.layers.BatchNormalization(),\n",
        "    tf.keras.layers.Dense(300, use_bias=False),\n",
        "    tf.keras.layers.BatchNormalization(),\n",
        "    tf.keras.layers.Activation(\"relu\"),\n",
        "    tf.keras.layers.Dense(100, use_bias=False),\n",
        "    tf.keras.layers.BatchNormalization(),\n",
        "    tf.keras.layers.Activation(\"relu\"),\n",
        "    \n",
        "    tf.keras.layers.Dense(10, activation=\"softmax\")\n",
        "])"
      ],
      "execution_count": null,
      "outputs": []
    },
    {
      "cell_type": "code",
      "metadata": {
        "id": "D9Jaq3otvVaP",
        "colab": {
          "base_uri": "https://localhost:8080/"
        },
        "outputId": "8e8af326-b2d5-45b8-ff8e-2745b8e7e75a"
      },
      "source": [
        "model.compile(loss=\"sparse_categorical_crossentropy\", \n",
        "              optimizer=tf.keras.optimizers.Adam(lr=1e-3, \n",
        "                                                 beta_1=0.9, \n",
        "                                                 beta_2=0.999),\n",
        "              metrics=[\"accuracy\"])\n",
        "model.summary()"
      ],
      "execution_count": null,
      "outputs": [
        {
          "output_type": "stream",
          "text": [
            "Model: \"sequential_5\"\n",
            "_________________________________________________________________\n",
            "Layer (type)                 Output Shape              Param #   \n",
            "=================================================================\n",
            "flatten_5 (Flatten)          (None, 784)               0         \n",
            "_________________________________________________________________\n",
            "batch_normalization_6 (Batch (None, 784)               3136      \n",
            "_________________________________________________________________\n",
            "dense_15 (Dense)             (None, 300)               235200    \n",
            "_________________________________________________________________\n",
            "batch_normalization_7 (Batch (None, 300)               1200      \n",
            "_________________________________________________________________\n",
            "activation_2 (Activation)    (None, 300)               0         \n",
            "_________________________________________________________________\n",
            "dense_16 (Dense)             (None, 100)               30000     \n",
            "_________________________________________________________________\n",
            "batch_normalization_8 (Batch (None, 100)               400       \n",
            "_________________________________________________________________\n",
            "activation_3 (Activation)    (None, 100)               0         \n",
            "_________________________________________________________________\n",
            "dense_17 (Dense)             (None, 10)                1010      \n",
            "=================================================================\n",
            "Total params: 270,946\n",
            "Trainable params: 268,578\n",
            "Non-trainable params: 2,368\n",
            "_________________________________________________________________\n"
          ],
          "name": "stdout"
        }
      ]
    },
    {
      "cell_type": "code",
      "metadata": {
        "id": "tx2P6N3YvbH_",
        "colab": {
          "base_uri": "https://localhost:8080/"
        },
        "outputId": "14e3c1ae-dd6b-424e-ce87-12f4bb655ca5"
      },
      "source": [
        "history = model.fit(X_train, y_train, epochs=20,\n",
        "                    validation_split=0.1)"
      ],
      "execution_count": null,
      "outputs": [
        {
          "output_type": "stream",
          "text": [
            "Epoch 1/20\n",
            "1688/1688 [==============================] - 6s 4ms/step - loss: 0.4620 - accuracy: 0.8336 - val_loss: 0.3520 - val_accuracy: 0.8715\n",
            "Epoch 2/20\n",
            "1688/1688 [==============================] - 6s 4ms/step - loss: 0.3569 - accuracy: 0.8679 - val_loss: 0.3220 - val_accuracy: 0.8820\n",
            "Epoch 3/20\n",
            "1688/1688 [==============================] - 6s 4ms/step - loss: 0.3192 - accuracy: 0.8832 - val_loss: 0.3124 - val_accuracy: 0.8848\n",
            "Epoch 4/20\n",
            "1688/1688 [==============================] - 6s 4ms/step - loss: 0.2930 - accuracy: 0.8904 - val_loss: 0.3089 - val_accuracy: 0.8880\n",
            "Epoch 5/20\n",
            "1688/1688 [==============================] - 7s 4ms/step - loss: 0.2726 - accuracy: 0.8974 - val_loss: 0.3152 - val_accuracy: 0.8878\n",
            "Epoch 6/20\n",
            "1688/1688 [==============================] - 7s 4ms/step - loss: 0.2540 - accuracy: 0.9041 - val_loss: 0.3133 - val_accuracy: 0.8850\n",
            "Epoch 7/20\n",
            "1688/1688 [==============================] - 6s 3ms/step - loss: 0.2393 - accuracy: 0.9109 - val_loss: 0.2908 - val_accuracy: 0.8937\n",
            "Epoch 8/20\n",
            "1688/1688 [==============================] - 6s 3ms/step - loss: 0.2279 - accuracy: 0.9147 - val_loss: 0.2947 - val_accuracy: 0.8938\n",
            "Epoch 9/20\n",
            "1688/1688 [==============================] - 6s 4ms/step - loss: 0.2170 - accuracy: 0.9167 - val_loss: 0.3080 - val_accuracy: 0.8897\n",
            "Epoch 10/20\n",
            "1688/1688 [==============================] - 6s 4ms/step - loss: 0.2038 - accuracy: 0.9240 - val_loss: 0.3020 - val_accuracy: 0.8960\n",
            "Epoch 11/20\n",
            "1688/1688 [==============================] - 6s 4ms/step - loss: 0.1943 - accuracy: 0.9264 - val_loss: 0.3150 - val_accuracy: 0.8913\n",
            "Epoch 12/20\n",
            "1688/1688 [==============================] - 6s 3ms/step - loss: 0.1865 - accuracy: 0.9298 - val_loss: 0.3088 - val_accuracy: 0.8972\n",
            "Epoch 13/20\n",
            "1688/1688 [==============================] - 6s 4ms/step - loss: 0.1748 - accuracy: 0.9337 - val_loss: 0.3247 - val_accuracy: 0.8963\n",
            "Epoch 14/20\n",
            "1688/1688 [==============================] - 6s 4ms/step - loss: 0.1695 - accuracy: 0.9369 - val_loss: 0.3198 - val_accuracy: 0.8958\n",
            "Epoch 15/20\n",
            "1688/1688 [==============================] - 6s 4ms/step - loss: 0.1628 - accuracy: 0.9386 - val_loss: 0.3320 - val_accuracy: 0.8923\n",
            "Epoch 16/20\n",
            "1688/1688 [==============================] - 6s 3ms/step - loss: 0.1563 - accuracy: 0.9412 - val_loss: 0.3145 - val_accuracy: 0.8958\n",
            "Epoch 17/20\n",
            "1688/1688 [==============================] - 6s 3ms/step - loss: 0.1493 - accuracy: 0.9436 - val_loss: 0.3347 - val_accuracy: 0.8960\n",
            "Epoch 18/20\n",
            "1688/1688 [==============================] - 6s 3ms/step - loss: 0.1443 - accuracy: 0.9449 - val_loss: 0.3332 - val_accuracy: 0.8928\n",
            "Epoch 19/20\n",
            "1688/1688 [==============================] - 6s 3ms/step - loss: 0.1390 - accuracy: 0.9471 - val_loss: 0.3501 - val_accuracy: 0.8957\n",
            "Epoch 20/20\n",
            "1688/1688 [==============================] - 6s 3ms/step - loss: 0.1356 - accuracy: 0.9492 - val_loss: 0.3648 - val_accuracy: 0.8903\n"
          ],
          "name": "stdout"
        }
      ]
    },
    {
      "cell_type": "code",
      "metadata": {
        "id": "G4GuQd24vinz",
        "colab": {
          "base_uri": "https://localhost:8080/",
          "height": 324
        },
        "outputId": "c242579f-c5fe-4eee-fd62-6d2ba6bb6f11"
      },
      "source": [
        "pd.DataFrame(history.history).plot(figsize=(8, 5))\n",
        "plt.grid(True)\n",
        "plt.gca().set_ylim(0, 1);"
      ],
      "execution_count": null,
      "outputs": [
        {
          "output_type": "display_data",
          "data": {
            "image/png": "[encoded data removed]",
            "text/plain": [
              "<Figure size 576x360 with 1 Axes>"
            ]
          },
          "metadata": {
            "tags": [],
            "needs_background": "light"
          }
        }
      ]
    },
    {
      "cell_type": "code",
      "metadata": {
        "id": "kAILOHZ9voS0",
        "colab": {
          "base_uri": "https://localhost:8080/"
        },
        "outputId": "61e8a983-22b4-4987-9b7e-25b6e275c11e"
      },
      "source": [
        "y_pred = model.predict(X_test)\n",
        "y_pred = y_pred.argmax(axis=1)\n",
        "print(classification_report(y_test, y_pred,\n",
        "      target_names=class_names))"
      ],
      "execution_count": null,
      "outputs": [
        {
          "output_type": "stream",
          "text": [
            "              precision    recall  f1-score   support\n",
            "\n",
            " T-shirt/top       0.80      0.87      0.83      1000\n",
            "     Trouser       0.99      0.98      0.99      1000\n",
            "    Pullover       0.82      0.80      0.81      1000\n",
            "       Dress       0.93      0.86      0.89      1000\n",
            "        Coat       0.82      0.81      0.82      1000\n",
            "      Sandal       0.95      0.98      0.97      1000\n",
            "       Shirt       0.69      0.72      0.71      1000\n",
            "     Sneaker       0.95      0.96      0.96      1000\n",
            "         Bag       0.98      0.96      0.97      1000\n",
            "  Ankle boot       0.97      0.94      0.96      1000\n",
            "\n",
            "    accuracy                           0.89     10000\n",
            "   macro avg       0.89      0.89      0.89     10000\n",
            "weighted avg       0.89      0.89      0.89     10000\n",
            "\n"
          ],
          "name": "stdout"
        }
      ]
    },
    {
      "cell_type": "markdown",
      "metadata": {
        "id": "pX0ogutpwCR0"
      },
      "source": [
        "# 5. Dynamic Learning Rate Schedules\n",
        "\n",
        "Why keep the learning rate constant when changing it over the training process can yield better results often?"
      ]
    },
    {
      "cell_type": "markdown",
      "metadata": {
        "id": "F0aqbL2-wR4v"
      },
      "source": [
        "## 5.1 Training with exponential decay schedule\n",
        "\n",
        "```\n",
        "lr = lr0 * 0.1**(epoch / s)\n",
        "```"
      ]
    },
    {
      "cell_type": "code",
      "metadata": {
        "id": "yG9h7cD7wiMF"
      },
      "source": [
        "def exponential_decay(lr0, s):\n",
        "    def exponential_decay_fn(epoch):\n",
        "        return lr0 * 0.1**(epoch / s)\n",
        "    return exponential_decay_fn\n",
        "\n",
        "exponential_decay_fn = exponential_decay(lr0=0.01, s=20)"
      ],
      "execution_count": null,
      "outputs": []
    },
    {
      "cell_type": "code",
      "metadata": {
        "id": "ZMqKn-Tpwv21"
      },
      "source": [
        "model = tf.keras.models.Sequential([\n",
        "    tf.keras.layers.Flatten(input_shape=[28, 28]),\n",
        "    tf.keras.layers.BatchNormalization(),\n",
        "    tf.keras.layers.Dense(300, use_bias=False),\n",
        "    tf.keras.layers.BatchNormalization(),\n",
        "    tf.keras.layers.Activation(\"relu\"),\n",
        "    tf.keras.layers.Dense(100, use_bias=False),\n",
        "    tf.keras.layers.Activation(\"relu\"),\n",
        "    tf.keras.layers.BatchNormalization(),\n",
        "    tf.keras.layers.Dense(10, activation=\"softmax\")\n",
        "])"
      ],
      "execution_count": null,
      "outputs": []
    },
    {
      "cell_type": "code",
      "metadata": {
        "id": "KdwCH16Lwyw2",
        "colab": {
          "base_uri": "https://localhost:8080/"
        },
        "outputId": "96797f63-cc8e-4e2c-97b7-8cb58d02689e"
      },
      "source": [
        "model.compile(loss=\"sparse_categorical_crossentropy\", \n",
        "              optimizer=tf.keras.optimizers.Adam(lr=1e-3, \n",
        "                                                 beta_1=0.9, \n",
        "                                                 beta_2=0.999),\n",
        "              metrics=[\"accuracy\"])\n",
        "model.summary()"
      ],
      "execution_count": null,
      "outputs": [
        {
          "output_type": "stream",
          "text": [
            "Model: \"sequential_6\"\n",
            "_________________________________________________________________\n",
            "Layer (type)                 Output Shape              Param #   \n",
            "=================================================================\n",
            "flatten_6 (Flatten)          (None, 784)               0         \n",
            "_________________________________________________________________\n",
            "batch_normalization_9 (Batch (None, 784)               3136      \n",
            "_________________________________________________________________\n",
            "dense_18 (Dense)             (None, 300)               235200    \n",
            "_________________________________________________________________\n",
            "batch_normalization_10 (Batc (None, 300)               1200      \n",
            "_________________________________________________________________\n",
            "activation_4 (Activation)    (None, 300)               0         \n",
            "_________________________________________________________________\n",
            "dense_19 (Dense)             (None, 100)               30000     \n",
            "_________________________________________________________________\n",
            "activation_5 (Activation)    (None, 100)               0         \n",
            "_________________________________________________________________\n",
            "batch_normalization_11 (Batc (None, 100)               400       \n",
            "_________________________________________________________________\n",
            "dense_20 (Dense)             (None, 10)                1010      \n",
            "=================================================================\n",
            "Total params: 270,946\n",
            "Trainable params: 268,578\n",
            "Non-trainable params: 2,368\n",
            "_________________________________________________________________\n"
          ],
          "name": "stdout"
        }
      ]
    },
    {
      "cell_type": "code",
      "metadata": {
        "id": "HqQGymlHw3pO",
        "colab": {
          "base_uri": "https://localhost:8080/"
        },
        "outputId": "090e3e0d-7422-4ea0-8353-62532e729591"
      },
      "source": [
        "lr_scheduler = tf.keras.callbacks.LearningRateScheduler(exponential_decay_fn,\n",
        "                                                        verbose=1)\n",
        "history = model.fit(X_train, y_train, epochs=20,\n",
        "                    validation_split=0.1,\n",
        "                    callbacks=[lr_scheduler])"
      ],
      "execution_count": null,
      "outputs": [
        {
          "output_type": "stream",
          "text": [
            "\n",
            "Epoch 00001: LearningRateScheduler reducing learning rate to 0.01.\n",
            "Epoch 1/20\n",
            "1688/1688 [==============================] - 6s 4ms/step - loss: 0.5103 - accuracy: 0.8161 - val_loss: 0.4049 - val_accuracy: 0.8513\n",
            "\n",
            "Epoch 00002: LearningRateScheduler reducing learning rate to 0.008912509381337455.\n",
            "Epoch 2/20\n",
            "1688/1688 [==============================] - 6s 3ms/step - loss: 0.3948 - accuracy: 0.8548 - val_loss: 0.3580 - val_accuracy: 0.8688\n",
            "\n",
            "Epoch 00003: LearningRateScheduler reducing learning rate to 0.007943282347242816.\n",
            "Epoch 3/20\n",
            "1688/1688 [==============================] - 6s 4ms/step - loss: 0.3520 - accuracy: 0.8719 - val_loss: 0.3339 - val_accuracy: 0.8767\n",
            "\n",
            "Epoch 00004: LearningRateScheduler reducing learning rate to 0.0070794578438413795.\n",
            "Epoch 4/20\n",
            "1688/1688 [==============================] - 7s 4ms/step - loss: 0.3230 - accuracy: 0.8806 - val_loss: 0.3439 - val_accuracy: 0.8790\n",
            "\n",
            "Epoch 00005: LearningRateScheduler reducing learning rate to 0.006309573444801933.\n",
            "Epoch 5/20\n",
            "1688/1688 [==============================] - 6s 4ms/step - loss: 0.2992 - accuracy: 0.8879 - val_loss: 0.3137 - val_accuracy: 0.8878\n",
            "\n",
            "Epoch 00006: LearningRateScheduler reducing learning rate to 0.005623413251903491.\n",
            "Epoch 6/20\n",
            "1688/1688 [==============================] - 6s 4ms/step - loss: 0.2757 - accuracy: 0.8974 - val_loss: 0.3068 - val_accuracy: 0.8888\n",
            "\n",
            "Epoch 00007: LearningRateScheduler reducing learning rate to 0.005011872336272724.\n",
            "Epoch 7/20\n",
            "1688/1688 [==============================] - 6s 4ms/step - loss: 0.2573 - accuracy: 0.9048 - val_loss: 0.3078 - val_accuracy: 0.8877\n",
            "\n",
            "Epoch 00008: LearningRateScheduler reducing learning rate to 0.004466835921509631.\n",
            "Epoch 8/20\n",
            "1688/1688 [==============================] - 6s 3ms/step - loss: 0.2389 - accuracy: 0.9094 - val_loss: 0.2979 - val_accuracy: 0.8953\n",
            "\n",
            "Epoch 00009: LearningRateScheduler reducing learning rate to 0.0039810717055349725.\n",
            "Epoch 9/20\n",
            "1688/1688 [==============================] - 6s 4ms/step - loss: 0.2242 - accuracy: 0.9161 - val_loss: 0.3252 - val_accuracy: 0.8852\n",
            "\n",
            "Epoch 00010: LearningRateScheduler reducing learning rate to 0.003548133892335755.\n",
            "Epoch 10/20\n",
            "1688/1688 [==============================] - 6s 4ms/step - loss: 0.2073 - accuracy: 0.9219 - val_loss: 0.3009 - val_accuracy: 0.8943\n",
            "\n",
            "Epoch 00011: LearningRateScheduler reducing learning rate to 0.0031622776601683794.\n",
            "Epoch 11/20\n",
            "1688/1688 [==============================] - 7s 4ms/step - loss: 0.1954 - accuracy: 0.9267 - val_loss: 0.3053 - val_accuracy: 0.8960\n",
            "\n",
            "Epoch 00012: LearningRateScheduler reducing learning rate to 0.002818382931264454.\n",
            "Epoch 12/20\n",
            "1688/1688 [==============================] - 6s 4ms/step - loss: 0.1864 - accuracy: 0.9286 - val_loss: 0.3069 - val_accuracy: 0.8945\n",
            "\n",
            "Epoch 00013: LearningRateScheduler reducing learning rate to 0.0025118864315095803.\n",
            "Epoch 13/20\n",
            "1688/1688 [==============================] - 6s 4ms/step - loss: 0.1727 - accuracy: 0.9347 - val_loss: 0.3105 - val_accuracy: 0.8978\n",
            "\n",
            "Epoch 00014: LearningRateScheduler reducing learning rate to 0.0022387211385683395.\n",
            "Epoch 14/20\n",
            "1688/1688 [==============================] - 6s 4ms/step - loss: 0.1637 - accuracy: 0.9380 - val_loss: 0.3151 - val_accuracy: 0.8983\n",
            "\n",
            "Epoch 00015: LearningRateScheduler reducing learning rate to 0.0019952623149688802.\n",
            "Epoch 15/20\n",
            "1688/1688 [==============================] - 6s 4ms/step - loss: 0.1528 - accuracy: 0.9425 - val_loss: 0.3287 - val_accuracy: 0.8995\n",
            "\n",
            "Epoch 00016: LearningRateScheduler reducing learning rate to 0.001778279410038923.\n",
            "Epoch 16/20\n",
            "1688/1688 [==============================] - 6s 4ms/step - loss: 0.1465 - accuracy: 0.9446 - val_loss: 0.3267 - val_accuracy: 0.9005\n",
            "\n",
            "Epoch 00017: LearningRateScheduler reducing learning rate to 0.0015848931924611134.\n",
            "Epoch 17/20\n",
            "1688/1688 [==============================] - 6s 4ms/step - loss: 0.1364 - accuracy: 0.9488 - val_loss: 0.3399 - val_accuracy: 0.8990\n",
            "\n",
            "Epoch 00018: LearningRateScheduler reducing learning rate to 0.0014125375446227546.\n",
            "Epoch 18/20\n",
            "1688/1688 [==============================] - 6s 4ms/step - loss: 0.1320 - accuracy: 0.9502 - val_loss: 0.3368 - val_accuracy: 0.8987\n",
            "\n",
            "Epoch 00019: LearningRateScheduler reducing learning rate to 0.0012589254117941673.\n",
            "Epoch 19/20\n",
            "1688/1688 [==============================] - 6s 4ms/step - loss: 0.1250 - accuracy: 0.9525 - val_loss: 0.3507 - val_accuracy: 0.8955\n",
            "\n",
            "Epoch 00020: LearningRateScheduler reducing learning rate to 0.0011220184543019637.\n",
            "Epoch 20/20\n",
            "1688/1688 [==============================] - 6s 4ms/step - loss: 0.1208 - accuracy: 0.9555 - val_loss: 0.3604 - val_accuracy: 0.8997\n"
          ],
          "name": "stdout"
        }
      ]
    },
    {
      "cell_type": "code",
      "metadata": {
        "id": "dzv_n9QUxDUm",
        "colab": {
          "base_uri": "https://localhost:8080/",
          "height": 296
        },
        "outputId": "0d442c82-811e-4c66-fe4b-70caf5149fba"
      },
      "source": [
        "from matplotlib.ticker import MaxNLocator\n",
        "\n",
        "plt.figure().gca().xaxis.set_major_locator(MaxNLocator(integer=True))\n",
        "plt.plot(history.epoch, history.history[\"lr\"], \"o-\")\n",
        "n_epochs=20\n",
        "plt.axis([0, n_epochs - 1, 0, 0.011])\n",
        "plt.xlabel(\"Epoch\")\n",
        "plt.ylabel(\"Learning Rate\")\n",
        "plt.title(\"Exponential Scheduling\", fontsize=14)\n",
        "plt.grid(True);"
      ],
      "execution_count": null,
      "outputs": [
        {
          "output_type": "display_data",
          "data": {
            "image/png": "[encoded data removed]",
            "text/plain": [
              "<Figure size 432x288 with 1 Axes>"
            ]
          },
          "metadata": {
            "tags": [],
            "needs_background": "light"
          }
        }
      ]
    },
    {
      "cell_type": "code",
      "metadata": {
        "id": "7R8ZX2pVxr_E",
        "colab": {
          "base_uri": "https://localhost:8080/",
          "height": 324
        },
        "outputId": "cfbce53b-1366-4e88-b80b-a84a64ca531b"
      },
      "source": [
        "pd.DataFrame(history.history).plot(figsize=(8, 5))\n",
        "plt.grid(True)\n",
        "plt.gca().set_ylim(0, 1);"
      ],
      "execution_count": null,
      "outputs": [
        {
          "output_type": "display_data",
          "data": {
            "image/png": "[encoded data removed]",
            "text/plain": [
              "<Figure size 576x360 with 1 Axes>"
            ]
          },
          "metadata": {
            "tags": [],
            "needs_background": "light"
          }
        }
      ]
    },
    {
      "cell_type": "code",
      "metadata": {
        "id": "ExCUj6fCyY0e",
        "colab": {
          "base_uri": "https://localhost:8080/"
        },
        "outputId": "83683300-2e1e-49ce-f8f1-6db3214376b4"
      },
      "source": [
        "y_pred = model.predict(X_test)\n",
        "y_pred = y_pred.argmax(axis=1)\n",
        "print(classification_report(y_test, y_pred,\n",
        "      target_names=class_names))"
      ],
      "execution_count": null,
      "outputs": [
        {
          "output_type": "stream",
          "text": [
            "              precision    recall  f1-score   support\n",
            "\n",
            " T-shirt/top       0.84      0.84      0.84      1000\n",
            "     Trouser       0.99      0.98      0.99      1000\n",
            "    Pullover       0.83      0.80      0.82      1000\n",
            "       Dress       0.91      0.89      0.90      1000\n",
            "        Coat       0.82      0.83      0.83      1000\n",
            "      Sandal       0.97      0.97      0.97      1000\n",
            "       Shirt       0.70      0.73      0.71      1000\n",
            "     Sneaker       0.93      0.97      0.95      1000\n",
            "         Bag       0.98      0.96      0.97      1000\n",
            "  Ankle boot       0.97      0.94      0.95      1000\n",
            "\n",
            "    accuracy                           0.89     10000\n",
            "   macro avg       0.89      0.89      0.89     10000\n",
            "weighted avg       0.89      0.89      0.89     10000\n",
            "\n"
          ],
          "name": "stdout"
        }
      ]
    },
    {
      "cell_type": "markdown",
      "metadata": {
        "id": "FQPnaQLIyiG6"
      },
      "source": [
        "## 5.2 Training with Piecewise constant scheduling\n"
      ]
    },
    {
      "cell_type": "code",
      "metadata": {
        "id": "h3BZROoZyc_X"
      },
      "source": [
        "def piecewise_constant_fn(epoch):\n",
        "    if epoch < 5:\n",
        "        return 0.01\n",
        "    elif epoch < 15:\n",
        "        return 0.005\n",
        "    else:\n",
        "        return 0.001\n",
        "\n",
        "def piecewise_constant(boundaries, values):\n",
        "    boundaries = np.array([0] + boundaries)\n",
        "    values = np.array(values)\n",
        "    def piecewise_constant_fn(epoch):\n",
        "        return values[np.argmax(boundaries > epoch) - 1]\n",
        "    return piecewise_constant_fn"
      ],
      "execution_count": null,
      "outputs": []
    },
    {
      "cell_type": "code",
      "metadata": {
        "id": "Na_BlZbFyrvz"
      },
      "source": [
        "piecewise_constant_fn = piecewise_constant([5, 15], [0.01, 0.005, 0.001])"
      ],
      "execution_count": null,
      "outputs": []
    },
    {
      "cell_type": "code",
      "metadata": {
        "id": "UFhfcjJ2yxcV",
        "colab": {
          "base_uri": "https://localhost:8080/"
        },
        "outputId": "cb2bb1f7-0b1d-4659-b06d-f0adcccbfa4d"
      },
      "source": [
        "model = tf.keras.models.Sequential([\n",
        "    tf.keras.layers.Flatten(input_shape=[28, 28]),\n",
        "    tf.keras.layers.BatchNormalization(),\n",
        "    tf.keras.layers.Dense(300, use_bias=False),\n",
        "    tf.keras.layers.BatchNormalization(),\n",
        "    tf.keras.layers.Activation(\"relu\"),\n",
        "    tf.keras.layers.Dense(100, use_bias=False),\n",
        "    tf.keras.layers.Activation(\"relu\"),\n",
        "    tf.keras.layers.BatchNormalization(),\n",
        "    tf.keras.layers.Dense(10, activation=\"softmax\")\n",
        "])\n",
        "\n",
        "model.compile(loss=\"sparse_categorical_crossentropy\", \n",
        "              optimizer=tf.keras.optimizers.Adam(lr=1e-3, \n",
        "                                                 beta_1=0.9, \n",
        "                                                 beta_2=0.999),\n",
        "              metrics=[\"accuracy\"])\n",
        "\n",
        "lr_scheduler = tf.keras.callbacks.LearningRateScheduler(piecewise_constant_fn,\n",
        "                                                        verbose=1)\n",
        "history = model.fit(X_train, y_train, epochs=20,\n",
        "                    validation_split=0.1,\n",
        "                    callbacks=[lr_scheduler])"
      ],
      "execution_count": null,
      "outputs": [
        {
          "output_type": "stream",
          "text": [
            "\n",
            "Epoch 00001: LearningRateScheduler reducing learning rate to 0.01.\n",
            "Epoch 1/20\n",
            "1688/1688 [==============================] - 6s 4ms/step - loss: 0.5128 - accuracy: 0.8155 - val_loss: 0.4115 - val_accuracy: 0.8550\n",
            "\n",
            "Epoch 00002: LearningRateScheduler reducing learning rate to 0.01.\n",
            "Epoch 2/20\n",
            "1688/1688 [==============================] - 6s 3ms/step - loss: 0.4027 - accuracy: 0.8530 - val_loss: 0.3609 - val_accuracy: 0.8683\n",
            "\n",
            "Epoch 00003: LearningRateScheduler reducing learning rate to 0.01.\n",
            "Epoch 3/20\n",
            "1688/1688 [==============================] - 6s 3ms/step - loss: 0.3653 - accuracy: 0.8674 - val_loss: 0.3619 - val_accuracy: 0.8725\n",
            "\n",
            "Epoch 00004: LearningRateScheduler reducing learning rate to 0.01.\n",
            "Epoch 4/20\n",
            "1688/1688 [==============================] - 6s 4ms/step - loss: 0.3414 - accuracy: 0.8743 - val_loss: 0.3577 - val_accuracy: 0.8723\n",
            "\n",
            "Epoch 00005: LearningRateScheduler reducing learning rate to 0.01.\n",
            "Epoch 5/20\n",
            "1688/1688 [==============================] - 6s 3ms/step - loss: 0.3231 - accuracy: 0.8791 - val_loss: 0.3229 - val_accuracy: 0.8832\n",
            "\n",
            "Epoch 00006: LearningRateScheduler reducing learning rate to 0.005.\n",
            "Epoch 6/20\n",
            "1688/1688 [==============================] - 6s 3ms/step - loss: 0.2722 - accuracy: 0.9002 - val_loss: 0.3064 - val_accuracy: 0.8862\n",
            "\n",
            "Epoch 00007: LearningRateScheduler reducing learning rate to 0.005.\n",
            "Epoch 7/20\n",
            "1688/1688 [==============================] - 6s 3ms/step - loss: 0.2566 - accuracy: 0.9047 - val_loss: 0.3072 - val_accuracy: 0.8897\n",
            "\n",
            "Epoch 00008: LearningRateScheduler reducing learning rate to 0.005.\n",
            "Epoch 8/20\n",
            "1688/1688 [==============================] - 6s 4ms/step - loss: 0.2429 - accuracy: 0.9097 - val_loss: 0.2995 - val_accuracy: 0.8950\n",
            "\n",
            "Epoch 00009: LearningRateScheduler reducing learning rate to 0.005.\n",
            "Epoch 9/20\n",
            "1688/1688 [==============================] - 6s 4ms/step - loss: 0.2350 - accuracy: 0.9121 - val_loss: 0.3176 - val_accuracy: 0.8825\n",
            "\n",
            "Epoch 00010: LearningRateScheduler reducing learning rate to 0.005.\n",
            "Epoch 10/20\n",
            "1688/1688 [==============================] - 6s 3ms/step - loss: 0.2240 - accuracy: 0.9157 - val_loss: 0.3094 - val_accuracy: 0.8888\n",
            "\n",
            "Epoch 00011: LearningRateScheduler reducing learning rate to 0.005.\n",
            "Epoch 11/20\n",
            "1688/1688 [==============================] - 6s 3ms/step - loss: 0.2182 - accuracy: 0.9177 - val_loss: 0.2981 - val_accuracy: 0.8930\n",
            "\n",
            "Epoch 00012: LearningRateScheduler reducing learning rate to 0.005.\n",
            "Epoch 12/20\n",
            "1688/1688 [==============================] - 6s 3ms/step - loss: 0.2118 - accuracy: 0.9211 - val_loss: 0.3182 - val_accuracy: 0.8867\n",
            "\n",
            "Epoch 00013: LearningRateScheduler reducing learning rate to 0.005.\n",
            "Epoch 13/20\n",
            "1688/1688 [==============================] - 6s 3ms/step - loss: 0.2031 - accuracy: 0.9238 - val_loss: 0.3260 - val_accuracy: 0.8933\n",
            "\n",
            "Epoch 00014: LearningRateScheduler reducing learning rate to 0.005.\n",
            "Epoch 14/20\n",
            "1688/1688 [==============================] - 6s 3ms/step - loss: 0.1955 - accuracy: 0.9266 - val_loss: 0.3264 - val_accuracy: 0.8895\n",
            "\n",
            "Epoch 00015: LearningRateScheduler reducing learning rate to 0.005.\n",
            "Epoch 15/20\n",
            "1688/1688 [==============================] - 6s 4ms/step - loss: 0.1909 - accuracy: 0.9281 - val_loss: 0.3344 - val_accuracy: 0.8952\n",
            "\n",
            "Epoch 00016: LearningRateScheduler reducing learning rate to 0.001.\n",
            "Epoch 16/20\n",
            "1688/1688 [==============================] - 6s 4ms/step - loss: 0.1516 - accuracy: 0.9436 - val_loss: 0.3132 - val_accuracy: 0.8982\n",
            "\n",
            "Epoch 00017: LearningRateScheduler reducing learning rate to 0.001.\n",
            "Epoch 17/20\n",
            "1688/1688 [==============================] - 7s 4ms/step - loss: 0.1388 - accuracy: 0.9475 - val_loss: 0.3282 - val_accuracy: 0.8947\n",
            "\n",
            "Epoch 00018: LearningRateScheduler reducing learning rate to 0.001.\n",
            "Epoch 18/20\n",
            "1688/1688 [==============================] - 6s 4ms/step - loss: 0.1366 - accuracy: 0.9484 - val_loss: 0.3292 - val_accuracy: 0.8948\n",
            "\n",
            "Epoch 00019: LearningRateScheduler reducing learning rate to 0.001.\n",
            "Epoch 19/20\n",
            "1688/1688 [==============================] - 6s 4ms/step - loss: 0.1302 - accuracy: 0.9515 - val_loss: 0.3388 - val_accuracy: 0.8960\n",
            "\n",
            "Epoch 00020: LearningRateScheduler reducing learning rate to 0.001.\n",
            "Epoch 20/20\n",
            "1688/1688 [==============================] - 6s 3ms/step - loss: 0.1257 - accuracy: 0.9526 - val_loss: 0.3395 - val_accuracy: 0.8998\n"
          ],
          "name": "stdout"
        }
      ]
    },
    {
      "cell_type": "code",
      "metadata": {
        "id": "zq30k3GBy-ey",
        "colab": {
          "base_uri": "https://localhost:8080/",
          "height": 296
        },
        "outputId": "01e97dc9-944b-4897-b1fc-2073c5ec2353"
      },
      "source": [
        "plt.figure().gca().xaxis.set_major_locator(MaxNLocator(integer=True))\n",
        "plt.plot(history.epoch, [piecewise_constant_fn(epoch) for epoch in history.epoch], \"o-\")\n",
        "n_epochs=20\n",
        "plt.axis([0, n_epochs - 1, 0, 0.011])\n",
        "plt.xlabel(\"Epoch\")\n",
        "plt.ylabel(\"Learning Rate\")\n",
        "plt.title(\"Piecewise Constant Scheduling\", fontsize=14)\n",
        "plt.grid(True);"
      ],
      "execution_count": null,
      "outputs": [
        {
          "output_type": "display_data",
          "data": {
            "image/png": "[encoded data removed]",
            "text/plain": [
              "<Figure size 432x288 with 1 Axes>"
            ]
          },
          "metadata": {
            "tags": [],
            "needs_background": "light"
          }
        }
      ]
    },
    {
      "cell_type": "code",
      "metadata": {
        "id": "_p5BEeSSzqfz",
        "colab": {
          "base_uri": "https://localhost:8080/",
          "height": 324
        },
        "outputId": "4cf3e05d-c445-48db-931f-bfcc87d39246"
      },
      "source": [
        "pd.DataFrame(history.history).plot(figsize=(8, 5))\n",
        "plt.grid(True)\n",
        "plt.gca().set_ylim(0, 1);"
      ],
      "execution_count": null,
      "outputs": [
        {
          "output_type": "display_data",
          "data": {
            "image/png": "[encoded data removed]",
            "text/plain": [
              "<Figure size 576x360 with 1 Axes>"
            ]
          },
          "metadata": {
            "tags": [],
            "needs_background": "light"
          }
        }
      ]
    },
    {
      "cell_type": "code",
      "metadata": {
        "id": "o6wTDcroztmh",
        "colab": {
          "base_uri": "https://localhost:8080/"
        },
        "outputId": "fdababc5-40a5-4777-ce6b-8a9934847bf7"
      },
      "source": [
        "y_pred = model.predict(X_test)\n",
        "y_pred = y_pred.argmax(axis=1)\n",
        "print(classification_report(y_test, y_pred,\n",
        "      target_names=class_names))"
      ],
      "execution_count": null,
      "outputs": [
        {
          "output_type": "stream",
          "text": [
            "              precision    recall  f1-score   support\n",
            "\n",
            " T-shirt/top       0.84      0.83      0.84      1000\n",
            "     Trouser       0.99      0.98      0.98      1000\n",
            "    Pullover       0.84      0.81      0.83      1000\n",
            "       Dress       0.91      0.90      0.91      1000\n",
            "        Coat       0.83      0.85      0.84      1000\n",
            "      Sandal       0.98      0.97      0.97      1000\n",
            "       Shirt       0.72      0.74      0.73      1000\n",
            "     Sneaker       0.94      0.97      0.95      1000\n",
            "         Bag       0.98      0.97      0.97      1000\n",
            "  Ankle boot       0.97      0.94      0.96      1000\n",
            "\n",
            "    accuracy                           0.90     10000\n",
            "   macro avg       0.90      0.90      0.90     10000\n",
            "weighted avg       0.90      0.90      0.90     10000\n",
            "\n"
          ],
          "name": "stdout"
        }
      ]
    },
    {
      "cell_type": "markdown",
      "metadata": {
        "id": "vKeKY-j8zwiQ"
      },
      "source": [
        "# 6. Other Regularization Strategies\n",
        "\n",
        "Other strategies to prevent overfitting"
      ]
    },
    {
      "cell_type": "markdown",
      "metadata": {
        "id": "9ERvEyyq0D-A"
      },
      "source": [
        "## 6.1 $\\ell_1$ and $\\ell_2$ regularization"
      ]
    },
    {
      "cell_type": "code",
      "metadata": {
        "id": "TrvETrA5z4h1",
        "colab": {
          "base_uri": "https://localhost:8080/"
        },
        "outputId": "ee89dd85-c51a-42ea-a3fc-77e3683817e0"
      },
      "source": [
        "from functools import partial\n",
        "\n",
        "RegularizedDense = partial(tf.keras.layers.Dense,\n",
        "                           activation=\"elu\",\n",
        "                           kernel_initializer=\"glorot_uniform\",\n",
        "                           kernel_regularizer=tf.keras.regularizers.l2(0.001))\n",
        "\n",
        "model = tf.keras.models.Sequential([\n",
        "    tf.keras.layers.Flatten(input_shape=[28, 28]),\n",
        "    RegularizedDense(300),\n",
        "    RegularizedDense(100),\n",
        "    RegularizedDense(10, activation=\"softmax\")\n",
        "])\n",
        "model.compile(loss=\"sparse_categorical_crossentropy\", \n",
        "              optimizer=\"adam\", metrics=[\"accuracy\"])\n",
        "\n",
        "lr_scheduler = tf.keras.callbacks.LearningRateScheduler(exponential_decay_fn,\n",
        "                                                        verbose=1)\n",
        "history = model.fit(X_train, y_train, epochs=20,\n",
        "                    validation_split=0.1,\n",
        "                    callbacks=[lr_scheduler])"
      ],
      "execution_count": null,
      "outputs": [
        {
          "output_type": "stream",
          "text": [
            "\n",
            "Epoch 00001: LearningRateScheduler reducing learning rate to 0.01.\n",
            "Epoch 1/20\n",
            "1688/1688 [==============================] - 4s 3ms/step - loss: 1.0361 - accuracy: 0.7427 - val_loss: 0.8779 - val_accuracy: 0.7858\n",
            "\n",
            "Epoch 00002: LearningRateScheduler reducing learning rate to 0.008912509381337455.\n",
            "Epoch 2/20\n",
            "1688/1688 [==============================] - 4s 2ms/step - loss: 0.8286 - accuracy: 0.7866 - val_loss: 0.7501 - val_accuracy: 0.8138\n",
            "\n",
            "Epoch 00003: LearningRateScheduler reducing learning rate to 0.007943282347242816.\n",
            "Epoch 3/20\n",
            "1688/1688 [==============================] - 4s 2ms/step - loss: 0.7788 - accuracy: 0.7978 - val_loss: 0.8271 - val_accuracy: 0.7565\n",
            "\n",
            "Epoch 00004: LearningRateScheduler reducing learning rate to 0.0070794578438413795.\n",
            "Epoch 4/20\n",
            "1688/1688 [==============================] - 4s 2ms/step - loss: 0.7440 - accuracy: 0.8018 - val_loss: 0.7839 - val_accuracy: 0.7862\n",
            "\n",
            "Epoch 00005: LearningRateScheduler reducing learning rate to 0.006309573444801933.\n",
            "Epoch 5/20\n",
            "1688/1688 [==============================] - 4s 3ms/step - loss: 0.7251 - accuracy: 0.8068 - val_loss: 0.6761 - val_accuracy: 0.8152\n",
            "\n",
            "Epoch 00006: LearningRateScheduler reducing learning rate to 0.005623413251903491.\n",
            "Epoch 6/20\n",
            "1688/1688 [==============================] - 4s 3ms/step - loss: 0.6838 - accuracy: 0.8143 - val_loss: 0.7351 - val_accuracy: 0.7958\n",
            "\n",
            "Epoch 00007: LearningRateScheduler reducing learning rate to 0.005011872336272724.\n",
            "Epoch 7/20\n",
            "1688/1688 [==============================] - 4s 2ms/step - loss: 0.6569 - accuracy: 0.8187 - val_loss: 0.6765 - val_accuracy: 0.8128\n",
            "\n",
            "Epoch 00008: LearningRateScheduler reducing learning rate to 0.004466835921509631.\n",
            "Epoch 8/20\n",
            "1688/1688 [==============================] - 4s 2ms/step - loss: 0.6420 - accuracy: 0.8214 - val_loss: 0.7063 - val_accuracy: 0.8020\n",
            "\n",
            "Epoch 00009: LearningRateScheduler reducing learning rate to 0.0039810717055349725.\n",
            "Epoch 9/20\n",
            "1688/1688 [==============================] - 4s 2ms/step - loss: 0.6258 - accuracy: 0.8241 - val_loss: 0.6044 - val_accuracy: 0.8317\n",
            "\n",
            "Epoch 00010: LearningRateScheduler reducing learning rate to 0.003548133892335755.\n",
            "Epoch 10/20\n",
            "1688/1688 [==============================] - 4s 2ms/step - loss: 0.5996 - accuracy: 0.8290 - val_loss: 0.6113 - val_accuracy: 0.8303\n",
            "\n",
            "Epoch 00011: LearningRateScheduler reducing learning rate to 0.0031622776601683794.\n",
            "Epoch 11/20\n",
            "1688/1688 [==============================] - 4s 2ms/step - loss: 0.5827 - accuracy: 0.8324 - val_loss: 0.5997 - val_accuracy: 0.8242\n",
            "\n",
            "Epoch 00012: LearningRateScheduler reducing learning rate to 0.002818382931264454.\n",
            "Epoch 12/20\n",
            "1688/1688 [==============================] - 4s 2ms/step - loss: 0.5679 - accuracy: 0.8362 - val_loss: 0.5715 - val_accuracy: 0.8340\n",
            "\n",
            "Epoch 00013: LearningRateScheduler reducing learning rate to 0.0025118864315095803.\n",
            "Epoch 13/20\n",
            "1688/1688 [==============================] - 4s 2ms/step - loss: 0.5542 - accuracy: 0.8392 - val_loss: 0.5609 - val_accuracy: 0.8393\n",
            "\n",
            "Epoch 00014: LearningRateScheduler reducing learning rate to 0.0022387211385683395.\n",
            "Epoch 14/20\n",
            "1688/1688 [==============================] - 4s 2ms/step - loss: 0.5452 - accuracy: 0.8411 - val_loss: 0.5617 - val_accuracy: 0.8333\n",
            "\n",
            "Epoch 00015: LearningRateScheduler reducing learning rate to 0.0019952623149688802.\n",
            "Epoch 15/20\n",
            "1688/1688 [==============================] - 4s 2ms/step - loss: 0.5326 - accuracy: 0.8444 - val_loss: 0.5229 - val_accuracy: 0.8492\n",
            "\n",
            "Epoch 00016: LearningRateScheduler reducing learning rate to 0.001778279410038923.\n",
            "Epoch 16/20\n",
            "1688/1688 [==============================] - 4s 2ms/step - loss: 0.5210 - accuracy: 0.8483 - val_loss: 0.5356 - val_accuracy: 0.8407\n",
            "\n",
            "Epoch 00017: LearningRateScheduler reducing learning rate to 0.0015848931924611134.\n",
            "Epoch 17/20\n",
            "1688/1688 [==============================] - 4s 2ms/step - loss: 0.5121 - accuracy: 0.8507 - val_loss: 0.5194 - val_accuracy: 0.8518\n",
            "\n",
            "Epoch 00018: LearningRateScheduler reducing learning rate to 0.0014125375446227546.\n",
            "Epoch 18/20\n",
            "1688/1688 [==============================] - 4s 2ms/step - loss: 0.5001 - accuracy: 0.8561 - val_loss: 0.4913 - val_accuracy: 0.8547\n",
            "\n",
            "Epoch 00019: LearningRateScheduler reducing learning rate to 0.0012589254117941673.\n",
            "Epoch 19/20\n",
            "1688/1688 [==============================] - 4s 2ms/step - loss: 0.4955 - accuracy: 0.8549 - val_loss: 0.5040 - val_accuracy: 0.8545\n",
            "\n",
            "Epoch 00020: LearningRateScheduler reducing learning rate to 0.0011220184543019637.\n",
            "Epoch 20/20\n",
            "1688/1688 [==============================] - 4s 2ms/step - loss: 0.4881 - accuracy: 0.8579 - val_loss: 0.4988 - val_accuracy: 0.8543\n"
          ],
          "name": "stdout"
        }
      ]
    },
    {
      "cell_type": "code",
      "metadata": {
        "id": "1qRL_89j0TyW",
        "colab": {
          "base_uri": "https://localhost:8080/",
          "height": 324
        },
        "outputId": "5da162d5-f652-458d-cda5-e15c8c2d6fff"
      },
      "source": [
        "pd.DataFrame(history.history).plot(figsize=(8, 5))\n",
        "plt.grid(True)\n",
        "plt.gca().set_ylim(0, 1);"
      ],
      "execution_count": null,
      "outputs": [
        {
          "output_type": "display_data",
          "data": {
            "image/png": "[encoded data removed]",
            "text/plain": [
              "<Figure size 576x360 with 1 Axes>"
            ]
          },
          "metadata": {
            "tags": [],
            "needs_background": "light"
          }
        }
      ]
    },
    {
      "cell_type": "code",
      "metadata": {
        "id": "gbsHOcXH1dFA",
        "colab": {
          "base_uri": "https://localhost:8080/"
        },
        "outputId": "13552783-90bc-4620-d5d0-a69487f728c5"
      },
      "source": [
        "y_pred = model.predict(X_test)\n",
        "y_pred = y_pred.argmax(axis=1)\n",
        "print(classification_report(y_test, y_pred,\n",
        "      target_names=class_names))"
      ],
      "execution_count": null,
      "outputs": [
        {
          "output_type": "stream",
          "text": [
            "              precision    recall  f1-score   support\n",
            "\n",
            " T-shirt/top       0.76      0.85      0.81      1000\n",
            "     Trouser       0.98      0.94      0.96      1000\n",
            "    Pullover       0.78      0.71      0.74      1000\n",
            "       Dress       0.78      0.92      0.84      1000\n",
            "        Coat       0.76      0.75      0.75      1000\n",
            "      Sandal       0.97      0.88      0.92      1000\n",
            "       Shirt       0.62      0.55      0.58      1000\n",
            "     Sneaker       0.86      0.97      0.91      1000\n",
            "         Bag       0.96      0.93      0.94      1000\n",
            "  Ankle boot       0.96      0.91      0.94      1000\n",
            "\n",
            "    accuracy                           0.84     10000\n",
            "   macro avg       0.84      0.84      0.84     10000\n",
            "weighted avg       0.84      0.84      0.84     10000\n",
            "\n"
          ],
          "name": "stdout"
        }
      ]
    },
    {
      "cell_type": "markdown",
      "metadata": {
        "id": "nfmfMil61irw"
      },
      "source": [
        "## 6.2: Dropout"
      ]
    },
    {
      "cell_type": "code",
      "metadata": {
        "id": "JpyqsFqG1e02",
        "colab": {
          "base_uri": "https://localhost:8080/"
        },
        "outputId": "a3aea1db-4c25-4fb0-b455-f37ebc3ab139"
      },
      "source": [
        "model = tf.keras.models.Sequential([\n",
        "    tf.keras.layers.Flatten(input_shape=[28, 28]),\n",
        "    tf.keras.layers.Dropout(rate=0.2),\n",
        "    tf.keras.layers.Dense(300, activation=\"elu\", kernel_initializer=\"glorot_uniform\"),\n",
        "    tf.keras.layers.Dropout(rate=0.2),\n",
        "    tf.keras.layers.Dense(100, activation=\"elu\", kernel_initializer=\"glorot_uniform\"),\n",
        "    tf.keras.layers.Dropout(rate=0.2),\n",
        "    tf.keras.layers.Dense(10, activation=\"softmax\")\n",
        "])\n",
        "model.compile(loss=\"sparse_categorical_crossentropy\", \n",
        "              optimizer=\"adam\", metrics=[\"accuracy\"])\n",
        "\n",
        "lr_scheduler = tf.keras.callbacks.LearningRateScheduler(exponential_decay_fn,\n",
        "                                                        verbose=1)\n",
        "history = model.fit(X_train, y_train, epochs=20,\n",
        "                    validation_split=0.1,\n",
        "                    callbacks=[lr_scheduler])"
      ],
      "execution_count": null,
      "outputs": [
        {
          "output_type": "stream",
          "text": [
            "\n",
            "Epoch 00001: LearningRateScheduler reducing learning rate to 0.01.\n",
            "Epoch 1/20\n",
            "1688/1688 [==============================] - 4s 3ms/step - loss: 0.8610 - accuracy: 0.7043 - val_loss: 0.6167 - val_accuracy: 0.7830\n",
            "\n",
            "Epoch 00002: LearningRateScheduler reducing learning rate to 0.008912509381337455.\n",
            "Epoch 2/20\n",
            "1688/1688 [==============================] - 4s 2ms/step - loss: 0.7543 - accuracy: 0.7453 - val_loss: 0.5290 - val_accuracy: 0.8085\n",
            "\n",
            "Epoch 00003: LearningRateScheduler reducing learning rate to 0.007943282347242816.\n",
            "Epoch 3/20\n",
            "1688/1688 [==============================] - 4s 2ms/step - loss: 0.6671 - accuracy: 0.7685 - val_loss: 0.5249 - val_accuracy: 0.8060\n",
            "\n",
            "Epoch 00004: LearningRateScheduler reducing learning rate to 0.0070794578438413795.\n",
            "Epoch 4/20\n",
            "1688/1688 [==============================] - 4s 2ms/step - loss: 0.6351 - accuracy: 0.7816 - val_loss: 0.4758 - val_accuracy: 0.8340\n",
            "\n",
            "Epoch 00005: LearningRateScheduler reducing learning rate to 0.006309573444801933.\n",
            "Epoch 5/20\n",
            "1688/1688 [==============================] - 4s 2ms/step - loss: 0.5971 - accuracy: 0.7935 - val_loss: 0.4258 - val_accuracy: 0.8552\n",
            "\n",
            "Epoch 00006: LearningRateScheduler reducing learning rate to 0.005623413251903491.\n",
            "Epoch 6/20\n",
            "1688/1688 [==============================] - 4s 2ms/step - loss: 0.5628 - accuracy: 0.8049 - val_loss: 0.5085 - val_accuracy: 0.8177\n",
            "\n",
            "Epoch 00007: LearningRateScheduler reducing learning rate to 0.005011872336272724.\n",
            "Epoch 7/20\n",
            "1688/1688 [==============================] - 4s 2ms/step - loss: 0.5321 - accuracy: 0.8150 - val_loss: 0.4548 - val_accuracy: 0.8468\n",
            "\n",
            "Epoch 00008: LearningRateScheduler reducing learning rate to 0.004466835921509631.\n",
            "Epoch 8/20\n",
            "1688/1688 [==============================] - 4s 2ms/step - loss: 0.5128 - accuracy: 0.8208 - val_loss: 0.3931 - val_accuracy: 0.8578\n",
            "\n",
            "Epoch 00009: LearningRateScheduler reducing learning rate to 0.0039810717055349725.\n",
            "Epoch 9/20\n",
            "1688/1688 [==============================] - 4s 2ms/step - loss: 0.4923 - accuracy: 0.8262 - val_loss: 0.4239 - val_accuracy: 0.8398\n",
            "\n",
            "Epoch 00010: LearningRateScheduler reducing learning rate to 0.003548133892335755.\n",
            "Epoch 10/20\n",
            "1688/1688 [==============================] - 4s 2ms/step - loss: 0.4718 - accuracy: 0.8317 - val_loss: 0.3923 - val_accuracy: 0.8692\n",
            "\n",
            "Epoch 00011: LearningRateScheduler reducing learning rate to 0.0031622776601683794.\n",
            "Epoch 11/20\n",
            "1688/1688 [==============================] - 4s 2ms/step - loss: 0.4550 - accuracy: 0.8378 - val_loss: 0.3766 - val_accuracy: 0.8652\n",
            "\n",
            "Epoch 00012: LearningRateScheduler reducing learning rate to 0.002818382931264454.\n",
            "Epoch 12/20\n",
            "1688/1688 [==============================] - 4s 2ms/step - loss: 0.4436 - accuracy: 0.8418 - val_loss: 0.4123 - val_accuracy: 0.8618\n",
            "\n",
            "Epoch 00013: LearningRateScheduler reducing learning rate to 0.0025118864315095803.\n",
            "Epoch 13/20\n",
            "1688/1688 [==============================] - 4s 2ms/step - loss: 0.4349 - accuracy: 0.8446 - val_loss: 0.3621 - val_accuracy: 0.8687\n",
            "\n",
            "Epoch 00014: LearningRateScheduler reducing learning rate to 0.0022387211385683395.\n",
            "Epoch 14/20\n",
            "1688/1688 [==============================] - 4s 2ms/step - loss: 0.4218 - accuracy: 0.8485 - val_loss: 0.3560 - val_accuracy: 0.8658\n",
            "\n",
            "Epoch 00015: LearningRateScheduler reducing learning rate to 0.0019952623149688802.\n",
            "Epoch 15/20\n",
            "1688/1688 [==============================] - 4s 2ms/step - loss: 0.4063 - accuracy: 0.8526 - val_loss: 0.3742 - val_accuracy: 0.8687\n",
            "\n",
            "Epoch 00016: LearningRateScheduler reducing learning rate to 0.001778279410038923.\n",
            "Epoch 16/20\n",
            "1688/1688 [==============================] - 4s 2ms/step - loss: 0.4027 - accuracy: 0.8537 - val_loss: 0.3643 - val_accuracy: 0.8682\n",
            "\n",
            "Epoch 00017: LearningRateScheduler reducing learning rate to 0.0015848931924611134.\n",
            "Epoch 17/20\n",
            "1688/1688 [==============================] - 4s 2ms/step - loss: 0.3947 - accuracy: 0.8575 - val_loss: 0.3521 - val_accuracy: 0.8762\n",
            "\n",
            "Epoch 00018: LearningRateScheduler reducing learning rate to 0.0014125375446227546.\n",
            "Epoch 18/20\n",
            "1688/1688 [==============================] - 4s 3ms/step - loss: 0.3838 - accuracy: 0.8605 - val_loss: 0.3520 - val_accuracy: 0.8790\n",
            "\n",
            "Epoch 00019: LearningRateScheduler reducing learning rate to 0.0012589254117941673.\n",
            "Epoch 19/20\n",
            "1688/1688 [==============================] - 4s 2ms/step - loss: 0.3759 - accuracy: 0.8638 - val_loss: 0.3364 - val_accuracy: 0.8787\n",
            "\n",
            "Epoch 00020: LearningRateScheduler reducing learning rate to 0.0011220184543019637.\n",
            "Epoch 20/20\n",
            "1688/1688 [==============================] - 4s 2ms/step - loss: 0.3750 - accuracy: 0.8616 - val_loss: 0.3411 - val_accuracy: 0.8800\n"
          ],
          "name": "stdout"
        }
      ]
    },
    {
      "cell_type": "code",
      "metadata": {
        "id": "0HbareD91w8J",
        "colab": {
          "base_uri": "https://localhost:8080/",
          "height": 324
        },
        "outputId": "b82c74f1-91e6-4194-bd3b-0c88dee1b2b5"
      },
      "source": [
        "pd.DataFrame(history.history).plot(figsize=(8, 5))\n",
        "plt.grid(True)\n",
        "plt.gca().set_ylim(0, 1);"
      ],
      "execution_count": null,
      "outputs": [
        {
          "output_type": "display_data",
          "data": {
            "image/png": "[encoded data removed]",
            "text/plain": [
              "<Figure size 576x360 with 1 Axes>"
            ]
          },
          "metadata": {
            "tags": [],
            "needs_background": "light"
          }
        }
      ]
    },
    {
      "cell_type": "code",
      "metadata": {
        "id": "gKcvEXd31_8A",
        "colab": {
          "base_uri": "https://localhost:8080/"
        },
        "outputId": "e89798bc-3b3f-4d6c-91d7-c5b32cbd922d"
      },
      "source": [
        "y_pred = model.predict(X_test)\n",
        "y_pred = y_pred.argmax(axis=1)\n",
        "print(classification_report(y_test, y_pred,\n",
        "      target_names=class_names))"
      ],
      "execution_count": null,
      "outputs": [
        {
          "output_type": "stream",
          "text": [
            "              precision    recall  f1-score   support\n",
            "\n",
            " T-shirt/top       0.82      0.84      0.83      1000\n",
            "     Trouser       0.99      0.96      0.98      1000\n",
            "    Pullover       0.82      0.74      0.78      1000\n",
            "       Dress       0.86      0.91      0.88      1000\n",
            "        Coat       0.79      0.79      0.79      1000\n",
            "      Sandal       0.99      0.94      0.97      1000\n",
            "       Shirt       0.65      0.69      0.67      1000\n",
            "     Sneaker       0.93      0.97      0.95      1000\n",
            "         Bag       0.98      0.97      0.98      1000\n",
            "  Ankle boot       0.95      0.96      0.96      1000\n",
            "\n",
            "    accuracy                           0.88     10000\n",
            "   macro avg       0.88      0.88      0.88     10000\n",
            "weighted avg       0.88      0.88      0.88     10000\n",
            "\n"
          ],
          "name": "stdout"
        }
      ]
    },
    {
      "cell_type": "markdown",
      "metadata": {
        "id": "ItQpQ2RtbYeF"
      },
      "source": [
        "# Convolutional Neural Networks - Building CNN Classifiers\r\n",
        "\r\n",
        "\r\n",
        "The most popular deep learning models leveraged for computer vision problems are convolutional neural networks (CNNs)!"
      ]
    },
    {
      "cell_type": "markdown",
      "metadata": {
        "id": "6iyNfby1bZYC"
      },
      "source": [
        "# Brief on CNNs\r\n",
        "\r\n",
        "CNNs typically consist of multiple convolution and pooling layers which help the deep learning model in automatically extracting relevant features from visual data like images. Due to this multi-layered architecture, CNNs learn a robust hierarchy of features, which are spatial, rotation, and translation invariant.\r\n",
        "\r\n",
        "![](https://miro.medium.com/max/1456/1*NKL76WYQwH5LuqyaQTjBNw.png)\r\n",
        "\r\n",
        "The key operations in a CNN model are depicted in the figure above. Any image can be represented as a tensor of pixel values. The convolution layers help in extracting features from this image (forms feature maps). Shallower layers (closer to the input data) in the network learn very generic features like edges, corners and so on. Deeper layers in the network (closer to the output layer) learn very specific features pertaining to the input image. The following graphic helps summarize the key aspects of any CNN model.\r\n",
        "\r\n",
        "![](https://miro.medium.com/max/1366/1*nCQeDMjKoTGst1RiCDo9Fw.png)\r\n",
        "\r\n",
        "We will be building a CNN from scratch in this tutorial. "
      ]
    },
    {
      "cell_type": "code",
      "metadata": {
        "id": "ESNsiHVZvhcY",
        "colab": {
          "base_uri": "https://localhost:8080/"
        },
        "outputId": "33f8936a-5e46-401a-b25e-eb6acfcdff57"
      },
      "source": [
        "X_train.shape"
      ],
      "execution_count": 22,
      "outputs": [
        {
          "output_type": "execute_result",
          "data": {
            "text/plain": [
              "(60000, 28, 28)"
            ]
          },
          "metadata": {
            "tags": []
          },
          "execution_count": 22
        }
      ]
    },
    {
      "cell_type": "markdown",
      "metadata": {
        "id": "gzH0Vk6hSvJt"
      },
      "source": [
        "## Reshaping Image Data for Modeling\n",
        "\n",
        "We do need to reshape our data before we train our model. Here we will work on grayscale, 1-channel images (image pixel tensors)"
      ]
    },
    {
      "cell_type": "code",
      "metadata": {
        "id": "RypFy7KkS5-0",
        "colab": {
          "base_uri": "https://localhost:8080/"
        },
        "outputId": "4c275940-155a-4959-ba53-b0a8b0c8421f"
      },
      "source": [
        "# reshape for feeding into the model\n",
        "train_images = X_train.reshape(X_train.shape[0], 28, 28, 1)\n",
        "test_images = X_test.reshape(X_test.shape[0], 28, 28, 1)\n",
        "\n",
        "print('\\nTrain_images.shape: {}, of {}'.format(train_images.shape, train_images.dtype))\n",
        "print('Test_images.shape: {}, of {}'.format(test_images.shape, test_images.dtype))"
      ],
      "execution_count": 25,
      "outputs": [
        {
          "output_type": "stream",
          "text": [
            "\n",
            "Train_images.shape: (60000, 28, 28, 1), of float64\n",
            "Test_images.shape: (10000, 28, 28, 1), of float64\n"
          ],
          "name": "stdout"
        }
      ]
    },
    {
      "cell_type": "markdown",
      "metadata": {
        "id": "8h7Lc6PTTeLn"
      },
      "source": [
        "## Build CNN Model Architecture\n",
        "\n",
        "We will now build our basic 2-layer CNN model architecture."
      ]
    },
    {
      "cell_type": "code",
      "metadata": {
        "id": "VynDIiOaUXL3",
        "colab": {
          "base_uri": "https://localhost:8080/"
        },
        "outputId": "6f17d6c5-5064-4e6a-ce40-33e3cbc87dc3"
      },
      "source": [
        "# define input shape\n",
        "INPUT_SHAPE = (28, 28, 1)\n",
        "\n",
        "# define sequential model\n",
        "model = tf.keras.models.Sequential()\n",
        "# define conv-pool layers - set 1\n",
        "model.add(tf.keras.layers.Conv2D(filters=16, kernel_size=(3, 3), strides=(1, 1), \n",
        "                                activation='relu', padding='valid', input_shape=INPUT_SHAPE))\n",
        "model.add(tf.keras.layers.MaxPooling2D(pool_size=(2, 2)))\n",
        "# define conv-pool layers - set 2\n",
        "model.add(tf.keras.layers.Conv2D(filters=32, kernel_size=(3, 3), strides=(1, 1), \n",
        "                                activation='relu', padding='valid'))\n",
        "model.add(tf.keras.layers.MaxPooling2D(pool_size=(2, 2)))\n",
        "\n",
        "# add flatten layer\n",
        "model.add(tf.keras.layers.Flatten())\n",
        "\n",
        "# add dense layers with some dropout\n",
        "model.add(tf.keras.layers.Dense(256, activation='relu'))\n",
        "model.add(tf.keras.layers.Dropout(rate=0.3))\n",
        "model.add(tf.keras.layers.Dense(256, activation='relu'))\n",
        "model.add(tf.keras.layers.Dropout(rate=0.3))\n",
        "\n",
        "# add output layer\n",
        "model.add(tf.keras.layers.Dense(10, activation='softmax'))\n",
        "\n",
        "# compile model\n",
        "model.compile(optimizer='adam', \n",
        "              loss='sparse_categorical_crossentropy', \n",
        "              metrics=['accuracy'])\n",
        "\n",
        "# view model layers\n",
        "model.summary()"
      ],
      "execution_count": 27,
      "outputs": [
        {
          "output_type": "stream",
          "text": [
            "Model: \"sequential_1\"\n",
            "_________________________________________________________________\n",
            "Layer (type)                 Output Shape              Param #   \n",
            "=================================================================\n",
            "conv2d (Conv2D)              (None, 26, 26, 16)        160       \n",
            "_________________________________________________________________\n",
            "max_pooling2d (MaxPooling2D) (None, 13, 13, 16)        0         \n",
            "_________________________________________________________________\n",
            "conv2d_1 (Conv2D)            (None, 11, 11, 32)        4640      \n",
            "_________________________________________________________________\n",
            "max_pooling2d_1 (MaxPooling2 (None, 5, 5, 32)          0         \n",
            "_________________________________________________________________\n",
            "flatten_1 (Flatten)          (None, 800)               0         \n",
            "_________________________________________________________________\n",
            "dense_3 (Dense)              (None, 256)               205056    \n",
            "_________________________________________________________________\n",
            "dropout (Dropout)            (None, 256)               0         \n",
            "_________________________________________________________________\n",
            "dense_4 (Dense)              (None, 256)               65792     \n",
            "_________________________________________________________________\n",
            "dropout_1 (Dropout)          (None, 256)               0         \n",
            "_________________________________________________________________\n",
            "dense_5 (Dense)              (None, 10)                2570      \n",
            "=================================================================\n",
            "Total params: 278,218\n",
            "Trainable params: 278,218\n",
            "Non-trainable params: 0\n",
            "_________________________________________________________________\n"
          ],
          "name": "stdout"
        }
      ]
    },
    {
      "cell_type": "markdown",
      "metadata": {
        "id": "A-308F78YFoL"
      },
      "source": [
        "## Model Training\n",
        "\n",
        "Let’s train our model for 100 epochs and look at the performance. We do apply an early-stopping to stop the model training immediately once we don't see an improvement in validation-loss over the last 2 epochs using the `EarlyStopping` callback."
      ]
    },
    {
      "cell_type": "code",
      "metadata": {
        "id": "5wwvN3kJYhgD",
        "colab": {
          "base_uri": "https://localhost:8080/"
        },
        "outputId": "fece6751-73ab-4cd0-d67a-a45dc09808ae"
      },
      "source": [
        "EPOCHS = 100\n",
        "es_callback = tf.keras.callbacks.EarlyStopping(monitor='val_loss', patience=2, \n",
        "                                               restore_best_weights=True,\n",
        "                                               verbose=1)\n",
        "\n",
        "history = model.fit(train_images, y_train,\n",
        "                    batch_size=32,\n",
        "                    callbacks=[es_callback], \n",
        "                    validation_split=0.1, epochs=EPOCHS,\n",
        "                    verbose=1)"
      ],
      "execution_count": 29,
      "outputs": [
        {
          "output_type": "stream",
          "text": [
            "Epoch 1/100\n",
            "1688/1688 [==============================] - 8s 3ms/step - loss: 0.7408 - accuracy: 0.7275 - val_loss: 0.3754 - val_accuracy: 0.8615\n",
            "Epoch 2/100\n",
            "1688/1688 [==============================] - 4s 2ms/step - loss: 0.3688 - accuracy: 0.8666 - val_loss: 0.2996 - val_accuracy: 0.8898\n",
            "Epoch 3/100\n",
            "1688/1688 [==============================] - 4s 2ms/step - loss: 0.3073 - accuracy: 0.8859 - val_loss: 0.2806 - val_accuracy: 0.8928\n",
            "Epoch 4/100\n",
            "1688/1688 [==============================] - 4s 3ms/step - loss: 0.2740 - accuracy: 0.8984 - val_loss: 0.2670 - val_accuracy: 0.9023\n",
            "Epoch 5/100\n",
            "1688/1688 [==============================] - 4s 2ms/step - loss: 0.2548 - accuracy: 0.9072 - val_loss: 0.2596 - val_accuracy: 0.9080\n",
            "Epoch 6/100\n",
            "1688/1688 [==============================] - 4s 3ms/step - loss: 0.2331 - accuracy: 0.9131 - val_loss: 0.2744 - val_accuracy: 0.9027\n",
            "Epoch 7/100\n",
            "1688/1688 [==============================] - 4s 2ms/step - loss: 0.2158 - accuracy: 0.9185 - val_loss: 0.2550 - val_accuracy: 0.9060\n",
            "Epoch 8/100\n",
            "1688/1688 [==============================] - 4s 3ms/step - loss: 0.2022 - accuracy: 0.9254 - val_loss: 0.2592 - val_accuracy: 0.9117\n",
            "Epoch 9/100\n",
            "1688/1688 [==============================] - 4s 2ms/step - loss: 0.1912 - accuracy: 0.9282 - val_loss: 0.2625 - val_accuracy: 0.9088\n",
            "Restoring model weights from the end of the best epoch.\n",
            "Epoch 00009: early stopping\n"
          ],
          "name": "stdout"
        }
      ]
    },
    {
      "cell_type": "markdown",
      "metadata": {
        "id": "owt0MTEmpuLp"
      },
      "source": [
        "## Plot Learning Curves"
      ]
    },
    {
      "cell_type": "code",
      "metadata": {
        "id": "GZ-aI4KOo8DY",
        "colab": {
          "base_uri": "https://localhost:8080/",
          "height": 267
        },
        "outputId": "b037bcb7-0253-4974-de50-9660973515bb"
      },
      "source": [
        "import pandas as pd\n",
        "\n",
        "fig, ax = plt.subplots(1, 2, figsize=(10, 4))\n",
        "\n",
        "history_df = pd.DataFrame(history.history)\n",
        "history_df[['loss', 'val_loss']].plot(kind='line', ax=ax[0])\n",
        "history_df[['accuracy', 'val_accuracy']].plot(kind='line', ax=ax[1]);"
      ],
      "execution_count": 30,
      "outputs": [
        {
          "output_type": "display_data",
          "data": {
            "image/png": "[encoded data removed]",
            "text/plain": [
              "<Figure size 720x288 with 2 Axes>"
            ]
          },
          "metadata": {
            "tags": [],
            "needs_background": "light"
          }
        }
      ]
    },
    {
      "cell_type": "markdown",
      "metadata": {
        "id": "kkCjHY9maEif"
      },
      "source": [
        "## Evaluate Model Performance on Test Data"
      ]
    },
    {
      "cell_type": "code",
      "metadata": {
        "id": "gRx2oIbVZGO2",
        "colab": {
          "base_uri": "https://localhost:8080/"
        },
        "outputId": "9fdc1a50-c181-4688-81a8-ab71fb313946"
      },
      "source": [
        "y_pred = model.predict(test_images)\n",
        "y_pred = y_pred.argmax(axis=1)\n",
        "print(classification_report(y_test, y_pred,\n",
        "      target_names=class_names))"
      ],
      "execution_count": 34,
      "outputs": [
        {
          "output_type": "stream",
          "text": [
            "              precision    recall  f1-score   support\n",
            "\n",
            " T-shirt/top       0.81      0.89      0.85      1000\n",
            "     Trouser       0.99      0.98      0.98      1000\n",
            "    Pullover       0.82      0.89      0.85      1000\n",
            "       Dress       0.90      0.92      0.91      1000\n",
            "        Coat       0.86      0.84      0.85      1000\n",
            "      Sandal       0.98      0.98      0.98      1000\n",
            "       Shirt       0.76      0.64      0.69      1000\n",
            "     Sneaker       0.95      0.97      0.96      1000\n",
            "         Bag       0.98      0.97      0.98      1000\n",
            "  Ankle boot       0.97      0.96      0.97      1000\n",
            "\n",
            "    accuracy                           0.90     10000\n",
            "   macro avg       0.90      0.90      0.90     10000\n",
            "weighted avg       0.90      0.90      0.90     10000\n",
            "\n"
          ],
          "name": "stdout"
        }
      ]
    },
    {
      "cell_type": "markdown",
      "metadata": {
        "id": "QgT4HFXTesh2"
      },
      "source": [
        "# Training a CNN with 1-Cycle Learning Rate"
      ]
    },
    {
      "cell_type": "code",
      "metadata": {
        "id": "3Ziq4Cl5c5FL"
      },
      "source": [
        "def lr_function(epoch):\r\n",
        "    start_lr = 1e-4; min_lr = 5e-4; max_lr = 5e-2\r\n",
        "    rampup_epochs = 4; sustain_epochs = 0; exp_decay = .8\r\n",
        "    \r\n",
        "    def lr(epoch, start_lr, min_lr, max_lr, rampup_epochs, \r\n",
        "           sustain_epochs, exp_decay):\r\n",
        "        if epoch < rampup_epochs:\r\n",
        "            lr = ((max_lr - start_lr) / rampup_epochs \r\n",
        "                        * epoch + start_lr)\r\n",
        "        elif epoch < rampup_epochs + sustain_epochs:\r\n",
        "            lr = max_lr\r\n",
        "        else:\r\n",
        "            lr = ((max_lr - min_lr) * \r\n",
        "                      exp_decay**(epoch - rampup_epochs -\r\n",
        "                                    sustain_epochs) + min_lr)\r\n",
        "        return lr\r\n",
        "\r\n",
        "    return lr(epoch, start_lr, min_lr, max_lr, \r\n",
        "              rampup_epochs, sustain_epochs, exp_decay)\r\n",
        "    "
      ],
      "execution_count": 50,
      "outputs": []
    },
    {
      "cell_type": "code",
      "metadata": {
        "colab": {
          "base_uri": "https://localhost:8080/",
          "height": 298
        },
        "id": "JpaBeFNhc5wa",
        "outputId": "9cbc6ad9-ff5a-417d-ce4e-be21f42d1914"
      },
      "source": [
        "import matplotlib.pyplot as plt\r\n",
        "\r\n",
        "rng = [i for i in range(50)]\r\n",
        "y = [lr_function(x) for x in rng]\r\n",
        "plt.plot(rng, [lr_function(x) for x in rng])\r\n",
        "print('start lr:', y[0], '\\nend lr:', y[-1])"
      ],
      "execution_count": 51,
      "outputs": [
        {
          "output_type": "stream",
          "text": [
            "start lr: 0.0001 \n",
            "end lr: 0.0005021560290768111\n"
          ],
          "name": "stdout"
        },
        {
          "output_type": "display_data",
          "data": {
            "image/png": "[encoded data removed]",
            "text/plain": [
              "<Figure size 432x288 with 1 Axes>"
            ]
          },
          "metadata": {
            "tags": [],
            "needs_background": "light"
          }
        }
      ]
    },
    {
      "cell_type": "code",
      "metadata": {
        "id": "DEvv02Eqc9js"
      },
      "source": [
        "# define input shape\r\n",
        "INPUT_SHAPE = (28, 28, 1)\r\n",
        "\r\n",
        "# define sequential model\r\n",
        "model = tf.keras.models.Sequential()\r\n",
        "# define conv-pool layers - set 1\r\n",
        "model.add(tf.keras.layers.Conv2D(filters=16, kernel_size=(3, 3), strides=(1, 1), \r\n",
        "                                activation='relu', padding='valid', input_shape=INPUT_SHAPE))\r\n",
        "model.add(tf.keras.layers.MaxPooling2D(pool_size=(2, 2)))\r\n",
        "# define conv-pool layers - set 2\r\n",
        "model.add(tf.keras.layers.Conv2D(filters=32, kernel_size=(3, 3), strides=(1, 1), \r\n",
        "                                activation='relu', padding='valid'))\r\n",
        "model.add(tf.keras.layers.MaxPooling2D(pool_size=(2, 2)))\r\n",
        "\r\n",
        "# add flatten layer\r\n",
        "model.add(tf.keras.layers.Flatten())\r\n",
        "\r\n",
        "# add dense layers with some dropout\r\n",
        "model.add(tf.keras.layers.Dense(256, activation='relu'))\r\n",
        "model.add(tf.keras.layers.Dropout(rate=0.3))\r\n",
        "model.add(tf.keras.layers.Dense(256, activation='relu'))\r\n",
        "model.add(tf.keras.layers.Dropout(rate=0.3))\r\n",
        "\r\n",
        "# add output layer\r\n",
        "model.add(tf.keras.layers.Dense(10, activation='softmax'))"
      ],
      "execution_count": 52,
      "outputs": []
    },
    {
      "cell_type": "code",
      "metadata": {
        "colab": {
          "base_uri": "https://localhost:8080/"
        },
        "id": "AgAL4vvCdhTI",
        "outputId": "917f0f13-47ed-44c8-ee73-72673570a854"
      },
      "source": [
        "epochs = 100\r\n",
        "\r\n",
        "callbacks = [\r\n",
        "    tf.keras.callbacks.EarlyStopping(monitor='val_loss', \r\n",
        "                                     patience=2, \r\n",
        "                                     restore_best_weights=True),\r\n",
        "    tf.keras.callbacks.LearningRateScheduler(lambda epoch: \\\r\n",
        "                                             lr_function(epoch), \r\n",
        "                                             verbose=True)\r\n",
        "    \r\n",
        "]\r\n",
        "\r\n",
        "model.compile(\r\n",
        "    optimizer=tf.keras.optimizers.Adam(1e-4),\r\n",
        "    loss=\"sparse_categorical_crossentropy\",\r\n",
        "    metrics=[\"accuracy\"],\r\n",
        ")\r\n",
        "\r\n",
        "model.summary()"
      ],
      "execution_count": 53,
      "outputs": [
        {
          "output_type": "stream",
          "text": [
            "Model: \"sequential_5\"\n",
            "_________________________________________________________________\n",
            "Layer (type)                 Output Shape              Param #   \n",
            "=================================================================\n",
            "conv2d_8 (Conv2D)            (None, 26, 26, 16)        160       \n",
            "_________________________________________________________________\n",
            "max_pooling2d_8 (MaxPooling2 (None, 13, 13, 16)        0         \n",
            "_________________________________________________________________\n",
            "conv2d_9 (Conv2D)            (None, 11, 11, 32)        4640      \n",
            "_________________________________________________________________\n",
            "max_pooling2d_9 (MaxPooling2 (None, 5, 5, 32)          0         \n",
            "_________________________________________________________________\n",
            "flatten_5 (Flatten)          (None, 800)               0         \n",
            "_________________________________________________________________\n",
            "dense_15 (Dense)             (None, 256)               205056    \n",
            "_________________________________________________________________\n",
            "dropout_8 (Dropout)          (None, 256)               0         \n",
            "_________________________________________________________________\n",
            "dense_16 (Dense)             (None, 256)               65792     \n",
            "_________________________________________________________________\n",
            "dropout_9 (Dropout)          (None, 256)               0         \n",
            "_________________________________________________________________\n",
            "dense_17 (Dense)             (None, 10)                2570      \n",
            "=================================================================\n",
            "Total params: 278,218\n",
            "Trainable params: 278,218\n",
            "Non-trainable params: 0\n",
            "_________________________________________________________________\n"
          ],
          "name": "stdout"
        }
      ]
    },
    {
      "cell_type": "code",
      "metadata": {
        "colab": {
          "base_uri": "https://localhost:8080/"
        },
        "id": "fdkGajqbdswn",
        "outputId": "7caafa7a-f982-4074-e170-f771fc774251"
      },
      "source": [
        "history = model.fit(train_images, y_train,\r\n",
        "                    batch_size=32,\r\n",
        "                    callbacks=[es_callback], \r\n",
        "                    validation_split=0.1, epochs=EPOCHS,\r\n",
        "                    verbose=1)"
      ],
      "execution_count": 54,
      "outputs": [
        {
          "output_type": "stream",
          "text": [
            "Epoch 1/100\n",
            "1688/1688 [==============================] - 5s 3ms/step - loss: 1.2095 - accuracy: 0.5795 - val_loss: 0.5206 - val_accuracy: 0.8035\n",
            "Epoch 2/100\n",
            "1688/1688 [==============================] - 4s 3ms/step - loss: 0.5511 - accuracy: 0.7921 - val_loss: 0.4393 - val_accuracy: 0.8412\n",
            "Epoch 3/100\n",
            "1688/1688 [==============================] - 4s 2ms/step - loss: 0.4591 - accuracy: 0.8322 - val_loss: 0.3909 - val_accuracy: 0.8545\n",
            "Epoch 4/100\n",
            "1688/1688 [==============================] - 4s 3ms/step - loss: 0.4152 - accuracy: 0.8503 - val_loss: 0.3654 - val_accuracy: 0.8675\n",
            "Epoch 5/100\n",
            "1688/1688 [==============================] - 4s 2ms/step - loss: 0.3809 - accuracy: 0.8600 - val_loss: 0.3464 - val_accuracy: 0.8717\n",
            "Epoch 6/100\n",
            "1688/1688 [==============================] - 4s 3ms/step - loss: 0.3653 - accuracy: 0.8685 - val_loss: 0.3389 - val_accuracy: 0.8750\n",
            "Epoch 7/100\n",
            "1688/1688 [==============================] - 4s 2ms/step - loss: 0.3398 - accuracy: 0.8773 - val_loss: 0.3212 - val_accuracy: 0.8798\n",
            "Epoch 8/100\n",
            "1688/1688 [==============================] - 4s 2ms/step - loss: 0.3268 - accuracy: 0.8810 - val_loss: 0.3067 - val_accuracy: 0.8875\n",
            "Epoch 9/100\n",
            "1688/1688 [==============================] - 4s 3ms/step - loss: 0.3118 - accuracy: 0.8861 - val_loss: 0.3009 - val_accuracy: 0.8875\n",
            "Epoch 10/100\n",
            "1688/1688 [==============================] - 4s 3ms/step - loss: 0.3036 - accuracy: 0.8888 - val_loss: 0.2973 - val_accuracy: 0.8898\n",
            "Epoch 11/100\n",
            "1688/1688 [==============================] - 4s 3ms/step - loss: 0.2963 - accuracy: 0.8920 - val_loss: 0.2881 - val_accuracy: 0.8902\n",
            "Epoch 12/100\n",
            "1688/1688 [==============================] - 4s 2ms/step - loss: 0.2909 - accuracy: 0.8933 - val_loss: 0.2876 - val_accuracy: 0.8937\n",
            "Epoch 13/100\n",
            "1688/1688 [==============================] - 4s 3ms/step - loss: 0.2825 - accuracy: 0.8968 - val_loss: 0.2784 - val_accuracy: 0.8973\n",
            "Epoch 14/100\n",
            "1688/1688 [==============================] - 4s 2ms/step - loss: 0.2709 - accuracy: 0.9003 - val_loss: 0.2767 - val_accuracy: 0.8977\n",
            "Epoch 15/100\n",
            "1688/1688 [==============================] - 4s 2ms/step - loss: 0.2649 - accuracy: 0.9033 - val_loss: 0.2698 - val_accuracy: 0.8992\n",
            "Epoch 16/100\n",
            "1688/1688 [==============================] - 4s 2ms/step - loss: 0.2545 - accuracy: 0.9067 - val_loss: 0.2656 - val_accuracy: 0.8993\n",
            "Epoch 17/100\n",
            "1688/1688 [==============================] - 4s 2ms/step - loss: 0.2547 - accuracy: 0.9076 - val_loss: 0.2625 - val_accuracy: 0.9032\n",
            "Epoch 18/100\n",
            "1688/1688 [==============================] - 4s 2ms/step - loss: 0.2520 - accuracy: 0.9085 - val_loss: 0.2554 - val_accuracy: 0.9048\n",
            "Epoch 19/100\n",
            "1688/1688 [==============================] - 4s 2ms/step - loss: 0.2346 - accuracy: 0.9131 - val_loss: 0.2572 - val_accuracy: 0.9040\n",
            "Epoch 20/100\n",
            "1688/1688 [==============================] - 4s 3ms/step - loss: 0.2380 - accuracy: 0.9114 - val_loss: 0.2546 - val_accuracy: 0.9035\n",
            "Epoch 21/100\n",
            "1688/1688 [==============================] - 4s 3ms/step - loss: 0.2303 - accuracy: 0.9152 - val_loss: 0.2489 - val_accuracy: 0.9068\n",
            "Epoch 22/100\n",
            "1688/1688 [==============================] - 4s 2ms/step - loss: 0.2259 - accuracy: 0.9150 - val_loss: 0.2557 - val_accuracy: 0.9057\n",
            "Epoch 23/100\n",
            "1688/1688 [==============================] - 4s 2ms/step - loss: 0.2188 - accuracy: 0.9186 - val_loss: 0.2533 - val_accuracy: 0.9057\n",
            "Restoring model weights from the end of the best epoch.\n",
            "Epoch 00023: early stopping\n"
          ],
          "name": "stdout"
        }
      ]
    },
    {
      "cell_type": "code",
      "metadata": {
        "colab": {
          "base_uri": "https://localhost:8080/",
          "height": 265
        },
        "id": "d7D1d4kCd0uP",
        "outputId": "b42bc368-577c-48cb-f5d3-13ce6c092557"
      },
      "source": [
        "fig, ax = plt.subplots(1, 2, figsize=(10, 4))\r\n",
        "\r\n",
        "history_df = pd.DataFrame(history.history)\r\n",
        "history_df[['loss', 'val_loss']].plot(kind='line', ax=ax[0])\r\n",
        "history_df[['accuracy', 'val_accuracy']].plot(kind='line', ax=ax[1]);"
      ],
      "execution_count": 55,
      "outputs": [
        {
          "output_type": "display_data",
          "data": {
            "image/png": "[encoded data removed]",
            "text/plain": [
              "<Figure size 720x288 with 2 Axes>"
            ]
          },
          "metadata": {
            "tags": [],
            "needs_background": "light"
          }
        }
      ]
    },
    {
      "cell_type": "code",
      "metadata": {
        "colab": {
          "base_uri": "https://localhost:8080/"
        },
        "id": "Zdo1041zeAID",
        "outputId": "9ee6bf32-272c-4a7a-fbef-346a1ef5b4c5"
      },
      "source": [
        "y_pred = model.predict(test_images)\r\n",
        "y_pred = y_pred.argmax(axis=1)\r\n",
        "print(classification_report(y_test, y_pred,\r\n",
        "      target_names=class_names))"
      ],
      "execution_count": 56,
      "outputs": [
        {
          "output_type": "stream",
          "text": [
            "              precision    recall  f1-score   support\n",
            "\n",
            " T-shirt/top       0.84      0.86      0.85      1000\n",
            "     Trouser       0.99      0.98      0.98      1000\n",
            "    Pullover       0.87      0.86      0.86      1000\n",
            "       Dress       0.90      0.91      0.91      1000\n",
            "        Coat       0.84      0.88      0.86      1000\n",
            "      Sandal       0.98      0.98      0.98      1000\n",
            "       Shirt       0.75      0.70      0.73      1000\n",
            "     Sneaker       0.95      0.96      0.96      1000\n",
            "         Bag       0.97      0.98      0.98      1000\n",
            "  Ankle boot       0.96      0.96      0.96      1000\n",
            "\n",
            "    accuracy                           0.91     10000\n",
            "   macro avg       0.91      0.91      0.91     10000\n",
            "weighted avg       0.91      0.91      0.91     10000\n",
            "\n"
          ],
          "name": "stdout"
        }
      ]
    }
  ]
}